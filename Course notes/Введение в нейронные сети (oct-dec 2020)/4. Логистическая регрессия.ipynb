{
 "cells": [
  {
   "cell_type": "markdown",
   "metadata": {},
   "source": [
    "# Разделяющая поверхность"
   ]
  },
  {
   "cell_type": "markdown",
   "metadata": {},
   "source": [
    "Рассмотрим нейрон с пороговой функией активации:\n",
    "\n",
    "$$y = f(W*X + b)$$\n",
    "$$f(x) = \\begin{cases} 1, & \\mbox{if } x > 0 \\\\ 0, & \\mbox{if } x \\leq 0 \\end{cases}$$\n",
    "\n",
    "Значение $y$ меняется, когда меняется знак $W*X + b$. Тогда область, в которой это происходит, задается выражением $W*X + b = 0$. В общем случае такая область называется *разделяющей поверхностью*. Т.е. $W*X + b$ - линейная операция, то и $W*X + b = 0$ будет задавать линейный объект (прямую, плоскость и т.п.)."
   ]
  },
  {
   "cell_type": "markdown",
   "metadata": {},
   "source": [
    "### Пример 1\n",
    "\n",
    "Попробуем посмотреть, как один нейрон разделяет область данных\n",
    "\n",
    "Импортируем необходимые библиотеки"
   ]
  },
  {
   "cell_type": "code",
   "execution_count": 3,
   "metadata": {},
   "outputs": [
    {
     "name": "stdout",
     "output_type": "stream",
     "text": [
      "2.4.0\n"
     ]
    }
   ],
   "source": [
    "from tensorflow import keras\n",
    "\n",
    "import numpy as np\n",
    "import matplotlib.pyplot as plt\n",
    "\n",
    "print(keras.__version__)"
   ]
  },
  {
   "cell_type": "markdown",
   "metadata": {},
   "source": [
    "Объявим функцию, вход которой: пара (x, y), а выход {1, если x >= y, иначе 0}"
   ]
  },
  {
   "cell_type": "code",
   "execution_count": 2,
   "metadata": {},
   "outputs": [],
   "source": [
    "def fun(xy):\n",
    "    return xy[0] >= xy[1]"
   ]
  },
  {
   "cell_type": "code",
   "execution_count": 3,
   "metadata": {},
   "outputs": [],
   "source": [
    "x = np.linspace(0, 10, num=50)\n",
    "y = np.linspace(0, 10, num=50)\n",
    "\n",
    "data = np.zeros((50, 50, 2))\n",
    "for i in range(50):\n",
    "    for j in range(50):\n",
    "        data[i][j][0] = x[i]\n",
    "        data[i][j][1] = y[j]"
   ]
  },
  {
   "cell_type": "code",
   "execution_count": 4,
   "metadata": {},
   "outputs": [],
   "source": [
    "N_train = 500\n",
    "\n",
    "tdata = data.copy()\n",
    "tdata.resize(50*50, 2)\n",
    "np.random.shuffle(tdata)\n",
    "tdata = tdata[:N_train]"
   ]
  },
  {
   "cell_type": "code",
   "execution_count": 5,
   "metadata": {},
   "outputs": [],
   "source": [
    "labels = np.array([int(fun(tdata[i])) for i in range(N_train)])"
   ]
  },
  {
   "cell_type": "code",
   "execution_count": 6,
   "metadata": {},
   "outputs": [
    {
     "data": {
      "text/plain": [
       "(500,)"
      ]
     },
     "execution_count": 39,
     "metadata": {},
     "output_type": "execute_result"
    }
   ],
   "source": [
    "labels.shape"
   ]
  },
  {
   "cell_type": "markdown",
   "metadata": {},
   "source": [
    "Создадим и обучим нейронную сеть, состоящую всего из одного нейрона с сигмоидой в качестве функции активации."
   ]
  },
  {
   "cell_type": "code",
   "execution_count": 7,
   "metadata": {},
   "outputs": [
    {
     "data": {
      "text/plain": [
       "<tensorflow.python.keras.callbacks.History at 0x2440f981fc8>"
      ]
     },
     "execution_count": 40,
     "metadata": {},
     "output_type": "execute_result"
    }
   ],
   "source": [
    "model = keras.models.Sequential([\n",
    "    keras.layers.Dense(1, activation='sigmoid', input_shape=(2,)),\n",
    "])\n",
    "\n",
    "model.compile(optimizer='rmsprop',\n",
    "              loss='binary_crossentropy',\n",
    "              metrics=['accuracy'])\n",
    "\n",
    "model.fit(tdata, labels, epochs=500, verbose=0) # Укажем verbose=0, чтобы скрыть 500 строк печати "
   ]
  },
  {
   "cell_type": "markdown",
   "metadata": {},
   "source": [
    "Посмотрим, что выдает нейронная сеть на всей сетке"
   ]
  },
  {
   "cell_type": "code",
   "execution_count": 43,
   "metadata": {},
   "outputs": [],
   "source": [
    "data.resize(50*50, 2)\n",
    "xx, yy = np.array(np.meshgrid(x, y))\n",
    "z = model.predict(data)\n",
    "# z = z > 0.5\n",
    "z.resize(50, 50)"
   ]
  },
  {
   "cell_type": "code",
   "execution_count": 44,
   "metadata": {},
   "outputs": [
    {
     "data": {
      "text/plain": [
       "<matplotlib.colorbar.Colorbar at 0x24410ed9e08>"
      ]
     },
     "execution_count": 44,
     "metadata": {},
     "output_type": "execute_result"
    },
    {
     "data": {
      "image/png": "[encoded data removed]",
      "text/plain": [
       "<Figure size 432x288 with 2 Axes>"
      ]
     },
     "metadata": {
      "needs_background": "light"
     },
     "output_type": "display_data"
    }
   ],
   "source": [
    "plt.contourf(xx,yy,z)\n",
    "plt.colorbar()"
   ]
  },
  {
   "cell_type": "markdown",
   "metadata": {},
   "source": [
    "А также найдем истинные значения на каждом участке сетки"
   ]
  },
  {
   "cell_type": "code",
   "execution_count": 45,
   "metadata": {},
   "outputs": [],
   "source": [
    "xx, yy = np.array(np.meshgrid(x, y))\n",
    "z = (yy >= xx)"
   ]
  },
  {
   "cell_type": "code",
   "execution_count": 46,
   "metadata": {},
   "outputs": [
    {
     "data": {
      "text/plain": [
       "<matplotlib.colorbar.Colorbar at 0x24410f6b808>"
      ]
     },
     "execution_count": 46,
     "metadata": {},
     "output_type": "execute_result"
    },
    {
     "data": {
      "image/png": "[encoded data removed]",
      "text/plain": [
       "<Figure size 432x288 with 2 Axes>"
      ]
     },
     "metadata": {
      "needs_background": "light"
     },
     "output_type": "display_data"
    }
   ],
   "source": [
    "plt.contourf(xx,yy,z)\n",
    "plt.colorbar()"
   ]
  },
  {
   "cell_type": "markdown",
   "metadata": {},
   "source": [
    "### Пример 2"
   ]
  },
  {
   "cell_type": "markdown",
   "metadata": {},
   "source": [
    "Зададим функцию \"или\"."
   ]
  },
  {
   "cell_type": "code",
   "execution_count": 47,
   "metadata": {},
   "outputs": [],
   "source": [
    "x = np.array([[0, 0],\n",
    "             [0, 1],\n",
    "             [1, 0],\n",
    "             [1, 1]])"
   ]
  },
  {
   "cell_type": "code",
   "execution_count": 48,
   "metadata": {},
   "outputs": [
    {
     "data": {
      "text/plain": [
       "(4, 2)"
      ]
     },
     "execution_count": 48,
     "metadata": {},
     "output_type": "execute_result"
    }
   ],
   "source": [
    "x.shape"
   ]
  },
  {
   "cell_type": "code",
   "execution_count": 49,
   "metadata": {},
   "outputs": [],
   "source": [
    "y = np.array([0, 1, 1, 1])"
   ]
  },
  {
   "cell_type": "markdown",
   "metadata": {},
   "source": [
    "Обучим модель"
   ]
  },
  {
   "cell_type": "code",
   "execution_count": 50,
   "metadata": {},
   "outputs": [
    {
     "data": {
      "text/plain": [
       "<tensorflow.python.keras.callbacks.History at 0x24411056248>"
      ]
     },
     "execution_count": 50,
     "metadata": {},
     "output_type": "execute_result"
    }
   ],
   "source": [
    "model = keras.models.Sequential([\n",
    "    keras.layers.Dense(1, activation='sigmoid', input_shape=(2,)),\n",
    "])\n",
    "\n",
    "model.compile(optimizer='rmsprop',\n",
    "              loss='binary_crossentropy',\n",
    "              metrics=['accuracy'])\n",
    "\n",
    "model.fit(x, y, epochs=10000, verbose=0) # Укажем verbose=0, чтобы скрыть 500 строк печати "
   ]
  },
  {
   "cell_type": "code",
   "execution_count": 51,
   "metadata": {},
   "outputs": [
    {
     "name": "stdout",
     "output_type": "stream",
     "text": [
      "1/1 - 0s - loss: 0.0041 - accuracy: 1.0000\n",
      "\n",
      "Точность на проверочных данных: 1.0\n"
     ]
    }
   ],
   "source": [
    "test_loss, test_acc = model.evaluate(x,  y, verbose=2)\n",
    "\n",
    "print('\\nТочность на проверочных данных:', test_acc)"
   ]
  },
  {
   "cell_type": "markdown",
   "metadata": {},
   "source": [
    "Построим графики"
   ]
  },
  {
   "cell_type": "code",
   "execution_count": 52,
   "metadata": {},
   "outputs": [],
   "source": [
    "x1 = np.linspace(0-0.1, 1+0.1, num=50)\n",
    "x2 = np.linspace(0-0.1, 1+0.1, num=50)\n",
    "\n",
    "x_plot = np.zeros((50, 50, 2))\n",
    "for i in range(50):\n",
    "    for j in range(50):\n",
    "        x_plot[i][j][0] = x1[i]\n",
    "        x_plot[i][j][1] = x2[j]"
   ]
  },
  {
   "cell_type": "code",
   "execution_count": 53,
   "metadata": {},
   "outputs": [],
   "source": [
    "x_plot.resize(50*50, 2)\n",
    "y_plot = model.predict(x_plot)\n",
    "y_plot.resize(50, 50)"
   ]
  },
  {
   "cell_type": "code",
   "execution_count": 54,
   "metadata": {},
   "outputs": [
    {
     "data": {
      "image/png": "[encoded data removed]",
      "text/plain": [
       "<Figure size 432x288 with 2 Axes>"
      ]
     },
     "metadata": {
      "needs_background": "light"
     },
     "output_type": "display_data"
    }
   ],
   "source": [
    "plt.figure()\n",
    "plt.contourf(x1, x2, y_plot)\n",
    "for i in range(len(y)):\n",
    "    if y[i] == 0:\n",
    "        plt.scatter(x[i][0], x[i][1])\n",
    "    else:\n",
    "        plt.scatter(x[i][0], x[i][1], marker='v')\n",
    "plt.colorbar()\n",
    "plt.show()"
   ]
  },
  {
   "cell_type": "markdown",
   "metadata": {},
   "source": [
    "Как было сказано ранее, разделяющей поверхностью для одного нейрона является прямая. Т.к. сигмоида всё же приближает пороговую функцию, то на практике видно не совсем прямую, а область плавного перехода одного в другое. Тем не менее, эта область так же имеет форму прямой.\n",
    "\n",
    "В связи с этим ограничением существует известная проблема ограниченности одного нейрона, называемая XOR-проблем. Вкратце, один нейрон с пороговой функцией активации не способен решить задачу классификации, если данные линейно неразделимы, т.е. между ними нельзя провести прямую, плоскость и т.п.\n",
    "\n",
    "Примером таких данных является функция XOR."
   ]
  },
  {
   "cell_type": "markdown",
   "metadata": {},
   "source": [
    "### Пример 3"
   ]
  },
  {
   "cell_type": "code",
   "execution_count": 96,
   "metadata": {},
   "outputs": [],
   "source": [
    "x = np.array([[0, 0],\n",
    "             [0, 1],\n",
    "             [1, 0],\n",
    "             [1, 1]])"
   ]
  },
  {
   "cell_type": "code",
   "execution_count": 97,
   "metadata": {},
   "outputs": [],
   "source": [
    "y = np.array([0, 1, 1, 0])"
   ]
  },
  {
   "cell_type": "code",
   "execution_count": 98,
   "metadata": {},
   "outputs": [
    {
     "data": {
      "text/plain": [
       "<tensorflow.python.keras.callbacks.History at 0x24412892548>"
      ]
     },
     "execution_count": 98,
     "metadata": {},
     "output_type": "execute_result"
    }
   ],
   "source": [
    "model = keras.models.Sequential([\n",
    "    keras.layers.Dense(1, activation='sigmoid', input_shape=(2,)),\n",
    "])\n",
    "\n",
    "model.compile(optimizer='adam',\n",
    "              loss='binary_crossentropy',\n",
    "              metrics=['accuracy'])\n",
    "\n",
    "model.fit(x, y, epochs=10000, verbose=0) # Укажем verbose=0, чтобы скрыть 500 строк печати "
   ]
  },
  {
   "cell_type": "code",
   "execution_count": 99,
   "metadata": {},
   "outputs": [
    {
     "name": "stdout",
     "output_type": "stream",
     "text": [
      "WARNING:tensorflow:5 out of the last 5 calls to <function Model.make_test_function.<locals>.test_function at 0x0000024414A4A708> triggered tf.function retracing. Tracing is expensive and the excessive number of tracings could be due to (1) creating @tf.function repeatedly in a loop, (2) passing tensors with different shapes, (3) passing Python objects instead of tensors. For (1), please define your @tf.function outside of the loop. For (2), @tf.function has experimental_relax_shapes=True option that relaxes argument shapes that can avoid unnecessary retracing. For (3), please refer to https://www.tensorflow.org/tutorials/customization/performance#python_or_tensor_args and https://www.tensorflow.org/api_docs/python/tf/function for  more details.\n",
      "1/1 - 0s - loss: 0.6931 - accuracy: 0.5000\n",
      "\n",
      "Точность на проверочных данных: 0.5\n"
     ]
    }
   ],
   "source": [
    "test_loss, test_acc = model.evaluate(x,  y, verbose=2)\n",
    "\n",
    "print('\\nТочность на проверочных данных:', test_acc)"
   ]
  },
  {
   "cell_type": "code",
   "execution_count": 100,
   "metadata": {},
   "outputs": [],
   "source": [
    "x1 = np.linspace(0-0.1, 1+0.1, num=50)\n",
    "x2 = np.linspace(0-0.1, 1+0.1, num=50)\n",
    "\n",
    "x_plot = np.zeros((50, 50, 2))\n",
    "for i in range(50):\n",
    "    for j in range(50):\n",
    "        x_plot[i][j][0] = x1[i]\n",
    "        x_plot[i][j][1] = x2[j]"
   ]
  },
  {
   "cell_type": "code",
   "execution_count": 101,
   "metadata": {},
   "outputs": [],
   "source": [
    "x_plot.resize(50*50, 2)\n",
    "y_plot = model.predict(x_plot)\n",
    "y_plot = y_plot > 0.5\n",
    "y_plot.resize(50, 50)"
   ]
  },
  {
   "cell_type": "code",
   "execution_count": 102,
   "metadata": {},
   "outputs": [
    {
     "data": {
      "image/png": "[encoded data removed]",
      "text/plain": [
       "<Figure size 432x288 with 2 Axes>"
      ]
     },
     "metadata": {
      "needs_background": "light"
     },
     "output_type": "display_data"
    }
   ],
   "source": [
    "plt.figure()\n",
    "plt.contourf(x1, x2, y_plot)\n",
    "for i in range(len(y)):\n",
    "    if y[i] == 0:\n",
    "        plt.scatter(x[i][0], x[i][1])\n",
    "    else:\n",
    "        plt.scatter(x[i][0], x[i][1], marker='v')\n",
    "plt.colorbar()\n",
    "plt.show()"
   ]
  },
  {
   "cell_type": "markdown",
   "metadata": {},
   "source": [
    "Как видно из графика, невозможно провести прямую так, чтобы отделить данные друг от друга. Поэтому один нейрон не способен справиться с данной задачей. К счастью, эта проблема решаема, и чуть ниже мы посмотрим, как, но перед этим давайте разберём ещё одну идею."
   ]
  },
  {
   "cell_type": "markdown",
   "metadata": {},
   "source": [
    "### Пример 4\n",
    "\n",
    "В примерах выше мы разбирали случаи, когда у нас всего 2 класса. А что, если их будет больше? Давайте добавим точек и увеличим количество классов до 5."
   ]
  },
  {
   "cell_type": "code",
   "execution_count": 24,
   "metadata": {},
   "outputs": [
    {
     "name": "stdout",
     "output_type": "stream",
     "text": [
      "[0 0 0 0 0 0 1 1 1 1 1 1 2 2 2 2 2 2 3 3 3 3 3 3 4 4 4 4 4 4 5 5 5 5 5 5]\n",
      "(36,)\n"
     ]
    }
   ],
   "source": [
    "x = np.zeros((36, 2))\n",
    "i = 0\n",
    "for x1 in [0, 0.2, 0.4, 0.6, 0.8, 1]:\n",
    "    for x2 in [0, 0.2, 0.4, 0.6, 0.8, 1]:\n",
    "        x[i][0], x[i][1] = x1, x2\n",
    "        i += 1\n",
    "y = np.array([0]*6 + [1]*6 + [2]*6 + [3]*6 + [4]*6 + [5]*6)\n",
    "print(y)\n",
    "print(y.shape)"
   ]
  },
  {
   "cell_type": "markdown",
   "metadata": {},
   "source": [
    "Для работы нашего классификатора нам необходимо определенным образом закодировать каждый класс. А именно, теперь y будет содержать не числа-метки, а векторы. Данные веткторы будут содержать 1 на одном из индексов, соответствующем метке, и 0 на всех остальных. В нашем примере мы хотели бы получить что-то такое:\n",
    "\n",
    "- 0 -> 1 0 0 0 0 0\n",
    "- 1 -> 0 1 0 0 0 0\n",
    "- 2 -> 0 0 1 0 0 0\n",
    "- 3 -> 0 0 0 1 0 0\n",
    "- 4 -> 0 0 0 0 1 0\n",
    "- 5 -> 0 0 0 0 0 1\n",
    "\n",
    "Воспользуемся встроенной в tensorflow утилитой."
   ]
  },
  {
   "cell_type": "code",
   "execution_count": 25,
   "metadata": {},
   "outputs": [],
   "source": [
    "from tensorflow.keras.utils import to_categorical\n",
    "\n",
    "y_onehot = to_categorical(y)"
   ]
  },
  {
   "cell_type": "code",
   "execution_count": 28,
   "metadata": {},
   "outputs": [
    {
     "name": "stdout",
     "output_type": "stream",
     "text": [
      "(36, 6)\n",
      "0 [1. 0. 0. 0. 0. 0.]\n",
      "3 [0. 0. 0. 1. 0. 0.]\n"
     ]
    }
   ],
   "source": [
    "print(y_onehot.shape)\n",
    "print(y[0], y_onehot[0])\n",
    "print(y[20], y_onehot[20])"
   ]
  },
  {
   "cell_type": "code",
   "execution_count": 7,
   "metadata": {},
   "outputs": [
    {
     "data": {
      "text/plain": [
       "<tensorflow.python.keras.callbacks.History at 0x218f8feb8c8>"
      ]
     },
     "execution_count": 7,
     "metadata": {},
     "output_type": "execute_result"
    }
   ],
   "source": [
    "model = keras.models.Sequential([\n",
    "    keras.layers.Dense(6, activation='sigmoid', input_shape=(2,)),\n",
    "])\n",
    "\n",
    "model.compile(optimizer='adam',\n",
    "              loss='binary_crossentropy',\n",
    "              metrics=['accuracy'])\n",
    "\n",
    "model.fit(x, y_onehot, epochs=30000, verbose=0) # Укажем verbose=0, чтобы скрыть 500 строк печати "
   ]
  },
  {
   "cell_type": "code",
   "execution_count": 8,
   "metadata": {},
   "outputs": [],
   "source": [
    "x1 = np.linspace(0-0.1, 1+0.1, num=50)\n",
    "x2 = np.linspace(0-0.1, 1+0.1, num=50)\n",
    "\n",
    "x_plot = np.zeros((50, 50, 2))\n",
    "for i in range(50):\n",
    "    for j in range(50):\n",
    "        x_plot[i][j][0] = x1[i]\n",
    "        x_plot[i][j][1] = x2[j]"
   ]
  },
  {
   "cell_type": "code",
   "execution_count": 9,
   "metadata": {},
   "outputs": [],
   "source": [
    "x_plot.resize(50*50, 2)\n",
    "y_plot = model.predict(x_plot)\n",
    "y_plot = np.argmax(y_plot, axis=1)\n",
    "y_plot.resize(50, 50)"
   ]
  },
  {
   "cell_type": "code",
   "execution_count": 10,
   "metadata": {},
   "outputs": [
    {
     "data": {
      "image/png": "[encoded data removed]",
      "text/plain": [
       "<Figure size 432x288 with 2 Axes>"
      ]
     },
     "metadata": {
      "needs_background": "light"
     },
     "output_type": "display_data"
    }
   ],
   "source": [
    "plt.figure()\n",
    "plt.contourf(x1, x2, y_plot)\n",
    "markers = ['o', 'v', '<', '>', '^', 's']\n",
    "for i in range(len(y)):\n",
    "    plt.scatter(x[i][1], x[i][0], marker=markers[y[i]])\n",
    "plt.colorbar()\n",
    "plt.show()"
   ]
  },
  {
   "cell_type": "markdown",
   "metadata": {},
   "source": [
    "### Пример 5\n",
    "\n",
    "Вернемся к XOR-problem. В примере выше мы запустили несколько классификаторов параллельно друг другу. А что, будет, если мы подадим выходы одних классификаторов на входы другим? Получится нейронная сеть! ЧТобы получилась классическая полносвязная нейронная сеть прямого распространения, нам нужно организовать нейроные определенным образом, создав слои, но давайте пока просто создадим нейронную сеть из 3 нейронов (для данной задачи такого количества будет вполне достаточно) и посмотрим на разделяющую поверхность."
   ]
  },
  {
   "cell_type": "code",
   "execution_count": 19,
   "metadata": {},
   "outputs": [],
   "source": [
    "x = np.array([[0, 0],\n",
    "             [0, 1],\n",
    "             [1, 0],\n",
    "             [1, 1]])\n",
    "y = np.array([0, 1, 1, 0])"
   ]
  },
  {
   "cell_type": "code",
   "execution_count": 20,
   "metadata": {},
   "outputs": [
    {
     "data": {
      "text/plain": [
       "<tensorflow.python.keras.callbacks.History at 0x218fc884c08>"
      ]
     },
     "execution_count": 20,
     "metadata": {},
     "output_type": "execute_result"
    }
   ],
   "source": [
    "model = keras.models.Sequential([\n",
    "    keras.layers.Dense(2, activation='tanh', input_shape=(2,)),\n",
    "    keras.layers.Dense(1, activation='sigmoid', input_shape=(2,)),\n",
    "])\n",
    "\n",
    "model.compile(optimizer='adam',\n",
    "              loss='binary_crossentropy',\n",
    "              metrics=['accuracy'])\n",
    "\n",
    "model.fit(x, y, epochs=10000, verbose=0) # Укажем verbose=0, чтобы скрыть 500 строк печати "
   ]
  },
  {
   "cell_type": "code",
   "execution_count": 21,
   "metadata": {},
   "outputs": [],
   "source": [
    "x_plot.resize(50*50, 2)\n",
    "y_plot = model.predict(x_plot)\n",
    "y_plot.resize(50, 50)"
   ]
  },
  {
   "cell_type": "code",
   "execution_count": 22,
   "metadata": {},
   "outputs": [
    {
     "data": {
      "image/png": "[encoded data removed]",
      "text/plain": [
       "<Figure size 432x288 with 2 Axes>"
      ]
     },
     "metadata": {
      "needs_background": "light"
     },
     "output_type": "display_data"
    }
   ],
   "source": [
    "plt.figure()\n",
    "plt.contourf(x1, x2, y_plot)\n",
    "for i in range(len(y)):\n",
    "    if y[i] == 0:\n",
    "        plt.scatter(x[i][0], x[i][1])\n",
    "    else:\n",
    "        plt.scatter(x[i][0], x[i][1], marker='v')\n",
    "plt.colorbar()\n",
    "plt.show()"
   ]
  },
  {
   "cell_type": "markdown",
   "metadata": {},
   "source": [
    "Задача решена! На самом деле, всё ещё интереснее. Согласно **универсальной теореме аппроксимации** (Hornik et al., 1989; Cybenko, 1989), нейронная сеть всего с одним скрытым слоем с произвольной «сплющивающей» функцией активации (например, сигмоидой) может аппроксимировать любую измеримую по Борелю функцию, отображающую одно конечномерное пространство в другое с любой точностью, при условии что в сети достаточно скрытых блоков. Понятие измеримости по Борелю выходит за рамки курса; нам достаточно знать, что любая непрерывная функция на замкнутом ограниченном подмножестве $R^n$ измерима по Борелю и потому может быть аппроксимирована нейронной сетью. Нейронная сеть также может аппроксимировать произвольную функцию, отображающую одно конечномерное дискретное пространство в другое. Хотя первоначально эти теоремы были доказаны в терминах блоков с функциями активации, которые насыщаются при стремлении аргумента к бесконечности любого знака, универсальные теоремы аппроксимации справедливы также для более широкого класса функций активации, включающего ныне широко используемые блоки линейной ректификации (ReLU)."
   ]
  },
  {
   "cell_type": "markdown",
   "metadata": {},
   "source": [
    "Универсальная теорема аппроксимации означает, что какой бы ни была обучаемая функция, найдется достаточно большая нейронная сеть,  способная ее *представить*. Однако стоит сделать два важных замечания:\n",
    "1) Теорема ничего не говорит о том, насколько велика эта сеть. Cети прямого распространения с одним слоем достаточно для представления любой функции, но этот слой может оказаться невообразимо большим, не поддающимся обучению и плохо обобщающимся. Во многих случаях применение глубоких моделей позволяет уменьшить число необходимых блоков и величину ошибки обобщения.\n",
    "\n",
    "2)  Не гарантируется, что алгоритм обучения сможет обучить такую нейронную сеть. Даже если она может представить функцию, обучение может оказаться невозможным по двум причинам. Во-первых, применяемый при обучении алгоритм оптимизации может не найти соответствующие ей значения параметров. Во-вторых, из-за переобучения алгоритм оптимизации может выбрать не ту функцию."
   ]
  }
 ],
 "metadata": {
  "kernelspec": {
   "display_name": "Python 3 (ipykernel)",
   "language": "python",
   "name": "python3"
  },
  "language_info": {
   "codemirror_mode": {
    "name": "ipython",
    "version": 3
   },
   "file_extension": ".py",
   "mimetype": "text/x-python",
   "name": "python",
   "nbconvert_exporter": "python",
   "pygments_lexer": "ipython3",
   "version": "3.7.11"
  }
 },
 "nbformat": 4,
 "nbformat_minor": 4
}
