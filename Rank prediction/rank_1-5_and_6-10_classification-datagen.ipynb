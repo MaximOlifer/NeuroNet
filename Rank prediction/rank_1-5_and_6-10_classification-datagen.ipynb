{
 "cells": [
  {
   "cell_type": "markdown",
   "metadata": {},
   "source": [
    "Генерируем случайную матрицу размера nxn фиксированного ранга r. Для начала, генерируем произвольную матрицу A и вычисляем ее сингулярное разложение. A=U*S*V"
   ]
  },
  {
   "cell_type": "code",
   "execution_count": 1,
   "metadata": {},
   "outputs": [
    {
     "data": {
      "text/plain": [
       "(10, 10)"
      ]
     },
     "execution_count": 1,
     "metadata": {},
     "output_type": "execute_result"
    }
   ],
   "source": [
    "import numpy as np\n",
    "n=10\n",
    "r=2\n",
    "a=np.random.rand(n,n)\n",
    "(u,s,v)=np.linalg.svd(a)\n",
    "a"
   ]
  },
  {
   "cell_type": "code",
   "execution_count": 2,
   "metadata": {},
   "outputs": [
    {
     "data": {
      "text/plain": [
       "10"
      ]
     },
     "execution_count": 2,
     "metadata": {},
     "output_type": "execute_result"
    }
   ],
   "source": [
    "np.linalg.matrix_rank(a)"
   ]
  },
  {
   "cell_type": "code",
   "execution_count": 3,
   "metadata": {},
   "outputs": [
    {
     "data": {
      "text/plain": [
       "array([5.08927325, 1.39001694, 1.29967144, 1.07892203, 0.77139686,\n",
       "       0.68018123, 0.49241182, 0.36104805, 0.26472254, 0.05640903])"
      ]
     },
     "execution_count": 3,
     "metadata": {},
     "output_type": "execute_result"
    }
   ],
   "source": [
    "s"
   ]
  },
  {
   "cell_type": "markdown",
   "metadata": {},
   "source": [
    "Вектор s -- сингулярные значения матрицы A. Теперь оставим в s только первые r значений, а остальные заменим 0."
   ]
  },
  {
   "cell_type": "code",
   "execution_count": 4,
   "metadata": {},
   "outputs": [],
   "source": [
    "s_cut=np.zeros(n)\n",
    "s_cut[:r]=s[:r]"
   ]
  },
  {
   "cell_type": "code",
   "execution_count": 5,
   "metadata": {},
   "outputs": [
    {
     "data": {
      "text/plain": [
       "array([5.08927325, 1.39001694, 0.        , 0.        , 0.        ,\n",
       "       0.        , 0.        , 0.        , 0.        , 0.        ])"
      ]
     },
     "execution_count": 5,
     "metadata": {},
     "output_type": "execute_result"
    }
   ],
   "source": [
    "s_cut"
   ]
  },
  {
   "cell_type": "markdown",
   "metadata": {},
   "source": [
    "Дальше восстановим по тем же формулам, но с урезанным s, матрицу A."
   ]
  },
  {
   "cell_type": "code",
   "execution_count": 6,
   "metadata": {},
   "outputs": [],
   "source": [
    "s_mat=np.diag(s_cut)\n",
    "a_new=u.dot(s_mat).dot(v)"
   ]
  },
  {
   "cell_type": "code",
   "execution_count": 7,
   "metadata": {},
   "outputs": [
    {
     "data": {
      "text/plain": [
       "(10, 10)"
      ]
     },
     "execution_count": 7,
     "metadata": {},
     "output_type": "execute_result"
    }
   ],
   "source": [
    "a_new.shape"
   ]
  },
  {
   "cell_type": "code",
   "execution_count": 8,
   "metadata": {},
   "outputs": [
    {
     "data": {
      "text/plain": [
       "2"
      ]
     },
     "execution_count": 8,
     "metadata": {},
     "output_type": "execute_result"
    }
   ],
   "source": [
    "np.linalg.matrix_rank(a_new)"
   ]
  },
  {
   "cell_type": "code",
   "execution_count": 9,
   "metadata": {},
   "outputs": [
    {
     "data": {
      "text/plain": [
       "array([[0.20947436, 0.61912177, 0.29032454, 0.49659149, 0.57635656,\n",
       "        0.68852136, 0.83273979, 0.33619584, 0.7026359 , 0.58022191],\n",
       "       [0.28090265, 0.54677421, 0.31903271, 0.40447244, 0.51034349,\n",
       "        0.55679029, 0.702029  , 0.35539266, 0.6218852 , 0.54788062],\n",
       "       [0.25645963, 0.6848941 , 0.33731884, 0.54055596, 0.63793055,\n",
       "        0.74844416, 0.9125926 , 0.38699282, 0.77763   , 0.6510061 ],\n",
       "       [0.59751642, 0.50085161, 0.51441789, 0.24957579, 0.47222391,\n",
       "        0.32814427, 0.52458486, 0.53299913, 0.57446397, 0.62765358],\n",
       "       [0.15350245, 0.63580548, 0.25790771, 0.53187487, 0.59102877,\n",
       "        0.74001692, 0.87663889, 0.30768203, 0.72069896, 0.57307511],\n",
       "       [0.42798448, 0.6175893 , 0.43264799, 0.41750897, 0.57798371,\n",
       "        0.56971932, 0.75439855, 0.46892569, 0.70399332, 0.65976976],\n",
       "       [0.69907786, 0.36476948, 0.54700116, 0.0879602 , 0.34759945,\n",
       "        0.09789588, 0.29014459, 0.54911133, 0.42211235, 0.55469682],\n",
       "       [0.29604701, 0.47152263, 0.31026316, 0.32968089, 0.44085597,\n",
       "        0.45139508, 0.58667175, 0.33929018, 0.53705691, 0.49237054],\n",
       "       [0.92233093, 0.48402925, 0.72237468, 0.11860488, 0.46117156,\n",
       "        0.13273993, 0.38685444, 0.72540447, 0.56004509, 0.73409014],\n",
       "       [0.18218089, 0.45630703, 0.23212709, 0.35612025, 0.42517558,\n",
       "        0.4925971 , 0.60406895, 0.26473233, 0.51825181, 0.43791334]])"
      ]
     },
     "execution_count": 9,
     "metadata": {},
     "output_type": "execute_result"
    }
   ],
   "source": [
    "a_new"
   ]
  },
  {
   "cell_type": "markdown",
   "metadata": {},
   "source": [
    "Форма правильная, в ячйках значения от 0 до 1, ранг -- искомый."
   ]
  },
  {
   "cell_type": "markdown",
   "metadata": {},
   "source": [
    "Палитры можно использовать разные. В статье наиболее перспективной оказалась 'jet'."
   ]
  },
  {
   "cell_type": "code",
   "execution_count": 11,
   "metadata": {},
   "outputs": [
    {
     "data": {
      "text/plain": [
       "<matplotlib.image.AxesImage at 0x1484e24bec8>"
      ]
     },
     "execution_count": 11,
     "metadata": {},
     "output_type": "execute_result"
    },
    {
     "data": {
      "image/png": "[encoded data removed]",
      "text/plain": [
       "<Figure size 432x288 with 1 Axes>"
      ]
     },
     "metadata": {
      "needs_background": "light"
     },
     "output_type": "display_data"
    }
   ],
   "source": [
    "plt.imshow(a_new, cmap='gray', origin = 'lower',  extent = [0, 100, 0, 100],interpolation='nearest')"
   ]
  },
  {
   "cell_type": "code",
   "execution_count": 14,
   "metadata": {},
   "outputs": [
    {
     "data": {
      "image/png": "[encoded data removed]",
      "text/plain": [
       "<Figure size 432x288 with 1 Axes>"
      ]
     },
     "metadata": {
      "needs_background": "light"
     },
     "output_type": "display_data"
    }
   ],
   "source": [
    "a = plt.imshow(a_new, cmap='jet', origin = 'lower',  extent = [0, 100, 0, 100],interpolation='nearest')\n",
    "data = a.get_array()"
   ]
  },
  {
   "cell_type": "markdown",
   "metadata": {},
   "source": [
    "Осталось сгенирировать достаточное число образцов. "
   ]
  },
  {
   "cell_type": "markdown",
   "metadata": {},
   "source": [
    "## Генерация датасета"
   ]
  },
  {
   "cell_type": "code",
   "execution_count": 1,
   "metadata": {},
   "outputs": [],
   "source": [
    "import numpy as np\n",
    "import matplotlib.pyplot as plt\n",
    "import cv2"
   ]
  },
  {
   "cell_type": "markdown",
   "metadata": {},
   "source": [
    "Генерация"
   ]
  },
  {
   "cell_type": "code",
   "execution_count": 2,
   "metadata": {},
   "outputs": [],
   "source": [
    "def generate_image(n, r):\n",
    "    a=np.random.rand(n,n)\n",
    "    (u,s,v)=np.linalg.svd(a)\n",
    "\n",
    "    s_cut=np.zeros(n)\n",
    "    s_cut[:r]=s[:r]\n",
    "\n",
    "    s_mat=np.diag(s_cut)\n",
    "\n",
    "    a_new=u.dot(s_mat).dot(v)\n",
    "    \n",
    "    image = a_new\n",
    "    #image = cv2.resize(image, (100, 100), interpolation=cv2.INTER_NEAREST)\n",
    "    image = np.uint8(255 * image)\n",
    "    image = cv2.applyColorMap(image, cv2.COLORMAP_JET)\n",
    "    return image"
   ]
  },
  {
   "cell_type": "code",
   "execution_count": null,
   "metadata": {},
   "outputs": [],
   "source": [
    "N = 10000\n",
    "file_size = 100\n",
    "n = 10\n",
    "threshold = 5\n",
    "\n",
    "images = np.zeros((N*10, 10, 10, 3))\n",
    "labels = np.zeros((N*10))\n",
    "for i in range(N):\n",
    "    for r in range(1, 11):\n",
    "        image = generate_image(n, r)\n",
    "\n",
    "        images[10*i+r-1] = image\n",
    "        labels[10*i+r-1] = (r > threshold)"
   ]
  },
  {
   "cell_type": "code",
   "execution_count": null,
   "metadata": {},
   "outputs": [],
   "source": [
    "N_test = 500\n",
    "file_size = 100\n",
    "n = 10\n",
    "\n",
    "test_images = np.zeros((N_test*10, 10, 10, 3))\n",
    "test_labels = np.zeros((N_test*10))\n",
    "for i in range(N_test):\n",
    "    for r in range(1, 11):\n",
    "        image = generate_image(n, r)\n",
    "\n",
    "        test_images[10*i+r-1] = image\n",
    "        test_labels[10*i+r-1] = (r > threshold)"
   ]
  },
  {
   "cell_type": "code",
   "execution_count": null,
   "metadata": {},
   "outputs": [],
   "source": [
    "images.shape"
   ]
  },
  {
   "cell_type": "code",
   "execution_count": null,
   "metadata": {},
   "outputs": [],
   "source": [
    "test_images.shape"
   ]
  },
  {
   "cell_type": "code",
   "execution_count": null,
   "metadata": {},
   "outputs": [],
   "source": [
    "labels[0:100]"
   ]
  },
  {
   "cell_type": "markdown",
   "metadata": {},
   "source": [
    "Перемешивание"
   ]
  },
  {
   "cell_type": "code",
   "execution_count": 12,
   "metadata": {},
   "outputs": [],
   "source": [
    "def unison_shuffled_copies(a, b):\n",
    "    assert len(a) == len(b)\n",
    "    p = np.random.permutation(len(a))\n",
    "    return a[p], b[p]"
   ]
  },
  {
   "cell_type": "code",
   "execution_count": 13,
   "metadata": {},
   "outputs": [],
   "source": [
    "images, labels = unison_shuffled_copies(images, labels)\n",
    "test_images, test_labels = unison_shuffled_copies(test_images, test_labels)"
   ]
  },
  {
   "cell_type": "markdown",
   "metadata": {},
   "source": [
    "Сохранение"
   ]
  },
  {
   "cell_type": "code",
   "execution_count": 14,
   "metadata": {},
   "outputs": [],
   "source": [
    "np.savez(\n",
    "    \"rank_1-5_and_6-10_classification_dataset.npz\", \n",
    "    x_train=images, \n",
    "    y_train=labels,\n",
    "    x_test=test_images,\n",
    "    y_test=test_labels\n",
    ")"
   ]
  },
  {
   "cell_type": "markdown",
   "metadata": {},
   "source": [
    "## Обучение модели"
   ]
  },
  {
   "cell_type": "code",
   "execution_count": 1,
   "metadata": {},
   "outputs": [
    {
     "name": "stderr",
     "output_type": "stream",
     "text": [
      "D:\\Users\\maxim\\Anaconda3\\envs\\maxim\\lib\\site-packages\\tensorflow\\python\\framework\\dtypes.py:516: FutureWarning: Passing (type, 1) or '1type' as a synonym of type is deprecated; in a future version of numpy, it will be understood as (type, (1,)) / '(1,)type'.\n",
      "  _np_qint8 = np.dtype([(\"qint8\", np.int8, 1)])\n",
      "D:\\Users\\maxim\\Anaconda3\\envs\\maxim\\lib\\site-packages\\tensorflow\\python\\framework\\dtypes.py:517: FutureWarning: Passing (type, 1) or '1type' as a synonym of type is deprecated; in a future version of numpy, it will be understood as (type, (1,)) / '(1,)type'.\n",
      "  _np_quint8 = np.dtype([(\"quint8\", np.uint8, 1)])\n",
      "D:\\Users\\maxim\\Anaconda3\\envs\\maxim\\lib\\site-packages\\tensorflow\\python\\framework\\dtypes.py:518: FutureWarning: Passing (type, 1) or '1type' as a synonym of type is deprecated; in a future version of numpy, it will be understood as (type, (1,)) / '(1,)type'.\n",
      "  _np_qint16 = np.dtype([(\"qint16\", np.int16, 1)])\n",
      "D:\\Users\\maxim\\Anaconda3\\envs\\maxim\\lib\\site-packages\\tensorflow\\python\\framework\\dtypes.py:519: FutureWarning: Passing (type, 1) or '1type' as a synonym of type is deprecated; in a future version of numpy, it will be understood as (type, (1,)) / '(1,)type'.\n",
      "  _np_quint16 = np.dtype([(\"quint16\", np.uint16, 1)])\n",
      "D:\\Users\\maxim\\Anaconda3\\envs\\maxim\\lib\\site-packages\\tensorflow\\python\\framework\\dtypes.py:520: FutureWarning: Passing (type, 1) or '1type' as a synonym of type is deprecated; in a future version of numpy, it will be understood as (type, (1,)) / '(1,)type'.\n",
      "  _np_qint32 = np.dtype([(\"qint32\", np.int32, 1)])\n",
      "D:\\Users\\maxim\\Anaconda3\\envs\\maxim\\lib\\site-packages\\tensorflow\\python\\framework\\dtypes.py:525: FutureWarning: Passing (type, 1) or '1type' as a synonym of type is deprecated; in a future version of numpy, it will be understood as (type, (1,)) / '(1,)type'.\n",
      "  np_resource = np.dtype([(\"resource\", np.ubyte, 1)])\n",
      "D:\\Users\\maxim\\Anaconda3\\envs\\maxim\\lib\\site-packages\\tensorboard\\compat\\tensorflow_stub\\dtypes.py:541: FutureWarning: Passing (type, 1) or '1type' as a synonym of type is deprecated; in a future version of numpy, it will be understood as (type, (1,)) / '(1,)type'.\n",
      "  _np_qint8 = np.dtype([(\"qint8\", np.int8, 1)])\n",
      "D:\\Users\\maxim\\Anaconda3\\envs\\maxim\\lib\\site-packages\\tensorboard\\compat\\tensorflow_stub\\dtypes.py:542: FutureWarning: Passing (type, 1) or '1type' as a synonym of type is deprecated; in a future version of numpy, it will be understood as (type, (1,)) / '(1,)type'.\n",
      "  _np_quint8 = np.dtype([(\"quint8\", np.uint8, 1)])\n",
      "D:\\Users\\maxim\\Anaconda3\\envs\\maxim\\lib\\site-packages\\tensorboard\\compat\\tensorflow_stub\\dtypes.py:543: FutureWarning: Passing (type, 1) or '1type' as a synonym of type is deprecated; in a future version of numpy, it will be understood as (type, (1,)) / '(1,)type'.\n",
      "  _np_qint16 = np.dtype([(\"qint16\", np.int16, 1)])\n",
      "D:\\Users\\maxim\\Anaconda3\\envs\\maxim\\lib\\site-packages\\tensorboard\\compat\\tensorflow_stub\\dtypes.py:544: FutureWarning: Passing (type, 1) or '1type' as a synonym of type is deprecated; in a future version of numpy, it will be understood as (type, (1,)) / '(1,)type'.\n",
      "  _np_quint16 = np.dtype([(\"quint16\", np.uint16, 1)])\n",
      "D:\\Users\\maxim\\Anaconda3\\envs\\maxim\\lib\\site-packages\\tensorboard\\compat\\tensorflow_stub\\dtypes.py:545: FutureWarning: Passing (type, 1) or '1type' as a synonym of type is deprecated; in a future version of numpy, it will be understood as (type, (1,)) / '(1,)type'.\n",
      "  _np_qint32 = np.dtype([(\"qint32\", np.int32, 1)])\n",
      "D:\\Users\\maxim\\Anaconda3\\envs\\maxim\\lib\\site-packages\\tensorboard\\compat\\tensorflow_stub\\dtypes.py:550: FutureWarning: Passing (type, 1) or '1type' as a synonym of type is deprecated; in a future version of numpy, it will be understood as (type, (1,)) / '(1,)type'.\n",
      "  np_resource = np.dtype([(\"resource\", np.ubyte, 1)])\n"
     ]
    }
   ],
   "source": [
    "import numpy as np\n",
    "import matplotlib.pyplot as plt\n",
    "import tensorflow as tf\n",
    "from tensorflow import keras\n",
    "from sklearn import metrics\n",
    "from tensorflow.keras.regularizers import l1_l2"
   ]
  },
  {
   "cell_type": "markdown",
   "metadata": {},
   "source": [
    "Загрузка данных"
   ]
  },
  {
   "cell_type": "code",
   "execution_count": 2,
   "metadata": {},
   "outputs": [],
   "source": [
    "with np.load(\"rank_1-5_and_6-10_classification_dataset.npz\") as data:\n",
    "    x_train = data[\"x_train\"]\n",
    "    y_train = data[\"y_train\"]\n",
    "    x_test = data[\"x_test\"]\n",
    "    y_test = data[\"y_test\"]"
   ]
  },
  {
   "cell_type": "markdown",
   "metadata": {},
   "source": [
    "Нормализация"
   ]
  },
  {
   "cell_type": "code",
   "execution_count": 3,
   "metadata": {},
   "outputs": [],
   "source": [
    "x_train = keras.utils.normalize(x_train)\n",
    "x_test = keras.utils.normalize(x_test)"
   ]
  },
  {
   "cell_type": "markdown",
   "metadata": {},
   "source": [
    "Класс для аугментации данных"
   ]
  },
  {
   "cell_type": "code",
   "execution_count": 4,
   "metadata": {},
   "outputs": [],
   "source": [
    "class MatixDataGenerator(keras.utils.Sequence):    \n",
    "    def __init__(self, x_set, y_set, batch_size, shuffle=True):\n",
    "        self.x, self.y = x_set, y_set\n",
    "        self.batch_size = batch_size\n",
    "        self.shuffle = shuffle\n",
    "        \n",
    "\n",
    "    def __len__(self):\n",
    "        return int(np.ceil(len(self.x) / float(self.batch_size)))\n",
    "    \n",
    "\n",
    "    def __getitem__(self, idx):\n",
    "        batch_x = self.x[idx * self.batch_size:(idx + 1) * self.batch_size]\n",
    "        batch_y = self.y[idx * self.batch_size:(idx + 1) * self.batch_size]\n",
    "\n",
    "        if self.shuffle:\n",
    "            np.take(batch_x, np.random.permutation(batch_x.shape[1]), axis=1, out=batch_x)\n",
    "            np.take(batch_x, np.random.permutation(batch_x.shape[2]), axis=2, out=batch_x)\n",
    "            \n",
    "        return np.array(batch_x), np.array(batch_y)"
   ]
  },
  {
   "cell_type": "code",
   "execution_count": 5,
   "metadata": {},
   "outputs": [],
   "source": [
    "BATCH_SIZE = 128\n",
    "\n",
    "xtrain_gen = MatixDataGenerator(x_train, y_train, batch_size=BATCH_SIZE)\n",
    "xvalidation_gen = MatixDataGenerator(x_test, y_test, batch_size=BATCH_SIZE)"
   ]
  },
  {
   "cell_type": "markdown",
   "metadata": {},
   "source": [
    "Создание модели"
   ]
  },
  {
   "cell_type": "code",
   "execution_count": 6,
   "metadata": {},
   "outputs": [
    {
     "name": "stdout",
     "output_type": "stream",
     "text": [
      "WARNING:tensorflow:From D:\\Users\\maxim\\Anaconda3\\envs\\maxim\\lib\\site-packages\\tensorflow\\python\\ops\\init_ops.py:1251: calling VarianceScaling.__init__ (from tensorflow.python.ops.init_ops) with dtype is deprecated and will be removed in a future version.\n",
      "Instructions for updating:\n",
      "Call initializer instance with the dtype argument instead of passing it to the constructor\n",
      "Model: \"model\"\n",
      "_________________________________________________________________\n",
      "Layer (type)                 Output Shape              Param #   \n",
      "=================================================================\n",
      "input_1 (InputLayer)         [(None, 10, 10, 3)]       0         \n",
      "_________________________________________________________________\n",
      "conv2d (Conv2D)              (None, 8, 8, 32)          896       \n",
      "_________________________________________________________________\n",
      "batch_normalization (BatchNo (None, 8, 8, 32)          128       \n",
      "_________________________________________________________________\n",
      "leaky_re_lu (LeakyReLU)      (None, 8, 8, 32)          0         \n",
      "_________________________________________________________________\n",
      "dropout (Dropout)            (None, 8, 8, 32)          0         \n",
      "_________________________________________________________________\n",
      "conv2d_1 (Conv2D)            (None, 6, 6, 64)          18496     \n",
      "_________________________________________________________________\n",
      "batch_normalization_1 (Batch (None, 6, 6, 64)          256       \n",
      "_________________________________________________________________\n",
      "leaky_re_lu_1 (LeakyReLU)    (None, 6, 6, 64)          0         \n",
      "_________________________________________________________________\n",
      "dropout_1 (Dropout)          (None, 6, 6, 64)          0         \n",
      "_________________________________________________________________\n",
      "conv2d_2 (Conv2D)            (None, 4, 4, 512)         295424    \n",
      "_________________________________________________________________\n",
      "batch_normalization_2 (Batch (None, 4, 4, 512)         2048      \n",
      "_________________________________________________________________\n",
      "leaky_re_lu_2 (LeakyReLU)    (None, 4, 4, 512)         0         \n",
      "_________________________________________________________________\n",
      "dropout_2 (Dropout)          (None, 4, 4, 512)         0         \n",
      "_________________________________________________________________\n",
      "flatten (Flatten)            (None, 8192)              0         \n",
      "_________________________________________________________________\n",
      "dense (Dense)                (None, 512)               4194816   \n",
      "_________________________________________________________________\n",
      "batch_normalization_3 (Batch (None, 512)               2048      \n",
      "_________________________________________________________________\n",
      "leaky_re_lu_3 (LeakyReLU)    (None, 512)               0         \n",
      "_________________________________________________________________\n",
      "dropout_3 (Dropout)          (None, 512)               0         \n",
      "_________________________________________________________________\n",
      "dense_1 (Dense)              (None, 1)                 513       \n",
      "=================================================================\n",
      "Total params: 4,514,625\n",
      "Trainable params: 4,512,385\n",
      "Non-trainable params: 2,240\n",
      "_________________________________________________________________\n"
     ]
    }
   ],
   "source": [
    "model_input = keras.layers.Input(shape=(10,10,3))\n",
    "\n",
    "x = keras.layers.Conv2D(32, (3, 3), kernel_regularizer=l1_l2(l1=1e-5, l2=1e-4))(model_input)\n",
    "x = keras.layers.BatchNormalization()(x)\n",
    "x = keras.layers.LeakyReLU()(x)\n",
    "x = keras.layers.Dropout(0.4)(x)\n",
    "\n",
    "x = keras.layers.Conv2D(64, (3, 3), kernel_regularizer=l1_l2(l1=1e-5, l2=1e-4))(x)\n",
    "x = keras.layers.BatchNormalization()(x)\n",
    "x = keras.layers.LeakyReLU()(x)\n",
    "x = keras.layers.Dropout(0.4)(x)\n",
    "\n",
    "x = keras.layers.Conv2D(512, (3, 3), kernel_regularizer=l1_l2(l1=1e-5, l2=1e-4))(x)\n",
    "x = keras.layers.BatchNormalization()(x)\n",
    "x = keras.layers.LeakyReLU()(x)\n",
    "x = keras.layers.Dropout(0.4)(x)\n",
    "\n",
    "x = keras.layers.Flatten()(x)\n",
    "x = keras.layers.Dense(512, kernel_regularizer=l1_l2(l1=1e-5, l2=1e-4))(x)\n",
    "x = keras.layers.BatchNormalization()(x)\n",
    "x = keras.layers.LeakyReLU()(x)\n",
    "x = keras.layers.Dropout(0.4)(x)\n",
    "\n",
    "x = keras.layers.Dense(1, activation=\"sigmoid\")(x)\n",
    "model = keras.models.Model(model_input, x)\n",
    "\n",
    "model.summary()"
   ]
  },
  {
   "cell_type": "code",
   "execution_count": 7,
   "metadata": {},
   "outputs": [
    {
     "name": "stdout",
     "output_type": "stream",
     "text": [
      "WARNING:tensorflow:From D:\\Users\\maxim\\Anaconda3\\envs\\maxim\\lib\\site-packages\\tensorflow\\python\\ops\\nn_impl.py:180: add_dispatch_support.<locals>.wrapper (from tensorflow.python.ops.array_ops) is deprecated and will be removed in a future version.\n",
      "Instructions for updating:\n",
      "Use tf.where in 2.0, which has the same broadcast rule as np.where\n"
     ]
    }
   ],
   "source": [
    "model.compile(optimizer='adam',\n",
    "              loss='binary_crossentropy',\n",
    "              metrics=['accuracy'])"
   ]
  },
  {
   "cell_type": "markdown",
   "metadata": {},
   "source": [
    "Обучение"
   ]
  },
  {
   "cell_type": "code",
   "execution_count": 8,
   "metadata": {},
   "outputs": [
    {
     "name": "stdout",
     "output_type": "stream",
     "text": [
      "Epoch 1/50\n",
      "40/40 [==============================] - 5s 134ms/step - loss: 1.4797 - acc: 0.7776 - val_loss: 2.7070 - val_acc: 0.5000\n",
      "Epoch 2/50\n",
      "40/40 [==============================] - 1s 22ms/step - loss: 1.1312 - acc: 0.8320 - val_loss: 2.3651 - val_acc: 0.5000\n",
      "Epoch 3/50\n",
      "40/40 [==============================] - 1s 21ms/step - loss: 1.0173 - acc: 0.8536 - val_loss: 2.0448 - val_acc: 0.5000\n",
      "Epoch 4/50\n",
      "40/40 [==============================] - 1s 22ms/step - loss: 0.9425 - acc: 0.8608 - val_loss: 1.9056 - val_acc: 0.5004\n",
      "Epoch 5/50\n",
      "40/40 [==============================] - 1s 22ms/step - loss: 0.8884 - acc: 0.8582 - val_loss: 1.7095 - val_acc: 0.5036\n",
      "Epoch 6/50\n",
      "40/40 [==============================] - 1s 22ms/step - loss: 0.8268 - acc: 0.8642 - val_loss: 1.5624 - val_acc: 0.5118\n",
      "Epoch 7/50\n",
      "40/40 [==============================] - 1s 22ms/step - loss: 0.7716 - acc: 0.8648 - val_loss: 1.2758 - val_acc: 0.5718\n",
      "Epoch 8/50\n",
      "40/40 [==============================] - 1s 23ms/step - loss: 0.7354 - acc: 0.8630 - val_loss: 1.1309 - val_acc: 0.5898\n",
      "Epoch 9/50\n",
      "40/40 [==============================] - 1s 22ms/step - loss: 0.6941 - acc: 0.8662 - val_loss: 1.0063 - val_acc: 0.6670\n",
      "Epoch 10/50\n",
      "40/40 [==============================] - 1s 22ms/step - loss: 0.6576 - acc: 0.8676 - val_loss: 0.8356 - val_acc: 0.7384\n",
      "Epoch 11/50\n",
      "40/40 [==============================] - 1s 22ms/step - loss: 0.6203 - acc: 0.8698 - val_loss: 0.7402 - val_acc: 0.7790\n",
      "Epoch 12/50\n",
      "40/40 [==============================] - 1s 22ms/step - loss: 0.5930 - acc: 0.8634 - val_loss: 0.6891 - val_acc: 0.7922\n",
      "Epoch 13/50\n",
      "40/40 [==============================] - 1s 22ms/step - loss: 0.5767 - acc: 0.8606 - val_loss: 0.6394 - val_acc: 0.8242\n",
      "Epoch 14/50\n",
      "40/40 [==============================] - 1s 22ms/step - loss: 0.5456 - acc: 0.8666 - val_loss: 0.5754 - val_acc: 0.8426\n",
      "Epoch 15/50\n",
      "40/40 [==============================] - 1s 21ms/step - loss: 0.5254 - acc: 0.8718 - val_loss: 0.5458 - val_acc: 0.8532\n",
      "Epoch 16/50\n",
      "40/40 [==============================] - 1s 22ms/step - loss: 0.5150 - acc: 0.8672 - val_loss: 0.5383 - val_acc: 0.8504\n",
      "Epoch 17/50\n",
      "40/40 [==============================] - 1s 23ms/step - loss: 0.4959 - acc: 0.8698 - val_loss: 0.5076 - val_acc: 0.8604\n",
      "Epoch 18/50\n",
      "40/40 [==============================] - 1s 22ms/step - loss: 0.4829 - acc: 0.8714 - val_loss: 0.5079 - val_acc: 0.8542\n",
      "Epoch 19/50\n",
      "40/40 [==============================] - 1s 22ms/step - loss: 0.4741 - acc: 0.8678 - val_loss: 0.4965 - val_acc: 0.8576\n",
      "Epoch 20/50\n",
      "40/40 [==============================] - 1s 22ms/step - loss: 0.4659 - acc: 0.8694 - val_loss: 0.4455 - val_acc: 0.8864\n",
      "Epoch 21/50\n",
      "40/40 [==============================] - 1s 22ms/step - loss: 0.4625 - acc: 0.8682 - val_loss: 0.4564 - val_acc: 0.8776\n",
      "Epoch 22/50\n",
      "40/40 [==============================] - 1s 22ms/step - loss: 0.4496 - acc: 0.8704 - val_loss: 0.4364 - val_acc: 0.8804\n",
      "Epoch 23/50\n",
      "40/40 [==============================] - 1s 21ms/step - loss: 0.4490 - acc: 0.8724 - val_loss: 0.4288 - val_acc: 0.8842\n",
      "Epoch 24/50\n",
      "40/40 [==============================] - 1s 21ms/step - loss: 0.4409 - acc: 0.8710 - val_loss: 0.4542 - val_acc: 0.8718\n",
      "Epoch 25/50\n",
      "40/40 [==============================] - 1s 23ms/step - loss: 0.4441 - acc: 0.8686 - val_loss: 0.4198 - val_acc: 0.8804\n",
      "Epoch 26/50\n",
      "40/40 [==============================] - 1s 21ms/step - loss: 0.4289 - acc: 0.8770 - val_loss: 0.4169 - val_acc: 0.8822\n",
      "Epoch 27/50\n",
      "40/40 [==============================] - 1s 22ms/step - loss: 0.4310 - acc: 0.8740 - val_loss: 0.4276 - val_acc: 0.8784\n",
      "Epoch 28/50\n",
      "40/40 [==============================] - 1s 22ms/step - loss: 0.4394 - acc: 0.8722 - val_loss: 0.4161 - val_acc: 0.8856\n",
      "Epoch 29/50\n",
      "40/40 [==============================] - 1s 22ms/step - loss: 0.4371 - acc: 0.8724 - val_loss: 0.4183 - val_acc: 0.8854\n",
      "Epoch 30/50\n",
      "40/40 [==============================] - 1s 22ms/step - loss: 0.4289 - acc: 0.8740 - val_loss: 0.4047 - val_acc: 0.8848\n",
      "Epoch 31/50\n",
      "40/40 [==============================] - 1s 21ms/step - loss: 0.4239 - acc: 0.8740 - val_loss: 0.4086 - val_acc: 0.8868\n",
      "Epoch 32/50\n",
      "40/40 [==============================] - 1s 21ms/step - loss: 0.4280 - acc: 0.8698 - val_loss: 0.4084 - val_acc: 0.8854\n",
      "Epoch 33/50\n",
      "40/40 [==============================] - 1s 21ms/step - loss: 0.4158 - acc: 0.8716 - val_loss: 0.4100 - val_acc: 0.8808\n",
      "Epoch 34/50\n",
      "40/40 [==============================] - 1s 21ms/step - loss: 0.4155 - acc: 0.8742 - val_loss: 0.3991 - val_acc: 0.8848\n",
      "Epoch 35/50\n",
      "40/40 [==============================] - 1s 21ms/step - loss: 0.4252 - acc: 0.8744 - val_loss: 0.4234 - val_acc: 0.8818\n",
      "Epoch 36/50\n",
      "40/40 [==============================] - 1s 21ms/step - loss: 0.4235 - acc: 0.8730 - val_loss: 0.3947 - val_acc: 0.8884\n",
      "Epoch 37/50\n",
      "40/40 [==============================] - 1s 22ms/step - loss: 0.4201 - acc: 0.8748 - val_loss: 0.4046 - val_acc: 0.8864\n",
      "Epoch 38/50\n",
      "40/40 [==============================] - 1s 21ms/step - loss: 0.4245 - acc: 0.8684 - val_loss: 0.4072 - val_acc: 0.8884\n",
      "Epoch 39/50\n",
      "40/40 [==============================] - 1s 21ms/step - loss: 0.4259 - acc: 0.8770 - val_loss: 0.4106 - val_acc: 0.8780\n",
      "Epoch 40/50\n",
      "40/40 [==============================] - 1s 21ms/step - loss: 0.4273 - acc: 0.8736 - val_loss: 0.3986 - val_acc: 0.8870\n",
      "Epoch 41/50\n",
      "40/40 [==============================] - 1s 21ms/step - loss: 0.4186 - acc: 0.8694 - val_loss: 0.3982 - val_acc: 0.8854\n",
      "Epoch 42/50\n",
      "40/40 [==============================] - 1s 22ms/step - loss: 0.4273 - acc: 0.8710 - val_loss: 0.4001 - val_acc: 0.8854\n",
      "Epoch 43/50\n",
      "40/40 [==============================] - 1s 21ms/step - loss: 0.4156 - acc: 0.8728 - val_loss: 0.3988 - val_acc: 0.8842\n",
      "Epoch 44/50\n",
      "40/40 [==============================] - 1s 21ms/step - loss: 0.4167 - acc: 0.8720 - val_loss: 0.3994 - val_acc: 0.8868\n",
      "Epoch 45/50\n",
      "40/40 [==============================] - 1s 21ms/step - loss: 0.4139 - acc: 0.8784 - val_loss: 0.3985 - val_acc: 0.8802\n",
      "Epoch 46/50\n",
      "40/40 [==============================] - 1s 21ms/step - loss: 0.4047 - acc: 0.8740 - val_loss: 0.3854 - val_acc: 0.8884\n",
      "Epoch 47/50\n",
      "40/40 [==============================] - 1s 21ms/step - loss: 0.4183 - acc: 0.8734 - val_loss: 0.3905 - val_acc: 0.8874\n",
      "Epoch 48/50\n",
      "40/40 [==============================] - 1s 21ms/step - loss: 0.4258 - acc: 0.8736 - val_loss: 0.3907 - val_acc: 0.8878\n",
      "Epoch 49/50\n",
      "40/40 [==============================] - 1s 21ms/step - loss: 0.4116 - acc: 0.8708 - val_loss: 0.3898 - val_acc: 0.8916\n",
      "Epoch 50/50\n",
      "40/40 [==============================] - 1s 21ms/step - loss: 0.4044 - acc: 0.8758 - val_loss: 0.3793 - val_acc: 0.8908\n"
     ]
    }
   ],
   "source": [
    "history = model.fit(\n",
    "    xtrain_gen,\n",
    "    epochs=50, \n",
    "    validation_data=xvalidation_gen\n",
    ")"
   ]
  },
  {
   "cell_type": "code",
   "execution_count": 9,
   "metadata": {},
   "outputs": [
    {
     "name": "stdout",
     "output_type": "stream",
     "text": [
      "5000/5000 - 0s - loss: 0.3839 - acc: 0.8908\n",
      "\n",
      "Точность на проверочных данных: 0.8908\n"
     ]
    }
   ],
   "source": [
    "test_loss, test_acc = model.evaluate(x_test, y_test, verbose=2)\n",
    "\n",
    "print('\\nТочность на проверочных данных:', test_acc)"
   ]
  },
  {
   "cell_type": "code",
   "execution_count": 10,
   "metadata": {},
   "outputs": [],
   "source": [
    "def show_loss(history):\n",
    "    loss = history.history['loss']\n",
    "    val_loss = history.history['val_loss']\n",
    "    epochs = range(1, len(loss) + 1)\n",
    "    plt.plot(epochs, loss, 'bo', label='Training loss')\n",
    "    plt.plot(epochs, val_loss, 'b', label='Validation loss')\n",
    "    plt.xlabel('Epochs')\n",
    "    plt.ylabel('Loss')\n",
    "    plt.legend(['Train', 'Test'], loc='upper left')\n",
    "\n",
    "    plt.show()\n",
    "\n",
    "    plt.plot(history.history['acc'])\n",
    "    plt.plot(history.history['val_acc'])\n",
    "    plt.title('Model accuracy')\n",
    "    plt.ylabel('Accuracy')\n",
    "    plt.xlabel('Epoch')\n",
    "    plt.legend(['Train', 'Test'], loc='upper left')\n",
    "    plt.show()"
   ]
  },
  {
   "cell_type": "code",
   "execution_count": 11,
   "metadata": {},
   "outputs": [
    {
     "data": {
      "image/png": "[encoded data removed]",
      "text/plain": [
       "<Figure size 432x288 with 1 Axes>"
      ]
     },
     "metadata": {
      "needs_background": "light"
     },
     "output_type": "display_data"
    },
    {
     "data": {
      "image/png": "[encoded data removed]",
      "text/plain": [
       "<Figure size 432x288 with 1 Axes>"
      ]
     },
     "metadata": {
      "needs_background": "light"
     },
     "output_type": "display_data"
    }
   ],
   "source": [
    "show_loss(history)"
   ]
  },
  {
   "cell_type": "code",
   "execution_count": 12,
   "metadata": {},
   "outputs": [],
   "source": [
    "import itertools\n",
    "def plot_confusion_matrix(cm, class_names):\n",
    "  \"\"\"\n",
    "  Returns a matplotlib figure containing the plotted confusion matrix.\n",
    "\n",
    "  Args:\n",
    "    cm (array, shape = [n, n]): a confusion matrix of integer classes\n",
    "    class_names (array, shape = [n]): String names of the integer classes\n",
    "  \"\"\"\n",
    "  figure = plt.figure(figsize=(8, 8))\n",
    "  plt.imshow(cm, interpolation='nearest', cmap=plt.cm.Blues)\n",
    "  plt.title(\"Confusion matrix\")\n",
    "  plt.colorbar()\n",
    "  tick_marks = np.arange(len(class_names))\n",
    "  plt.xticks(tick_marks, class_names, rotation=45)\n",
    "  plt.yticks(tick_marks, class_names)\n",
    "\n",
    "  # Normalize the confusion matrix.\n",
    "  cm = np.around(cm.astype('float') / cm.sum(axis=1)[:, np.newaxis], decimals=2)\n",
    "\n",
    "  # Use white text if squares are dark; otherwise black.\n",
    "  threshold = cm.max() / 2.\n",
    "  for i, j in itertools.product(range(cm.shape[0]), range(cm.shape[1])):\n",
    "    color = \"white\" if cm[i, j] > threshold else \"black\"\n",
    "    plt.text(j, i, cm[i, j], horizontalalignment=\"center\", color=color)\n",
    "\n",
    "  plt.tight_layout()\n",
    "  plt.ylabel('True label')\n",
    "  plt.xlabel('Predicted label')\n",
    "  return figure"
   ]
  },
  {
   "cell_type": "code",
   "execution_count": 13,
   "metadata": {},
   "outputs": [
    {
     "data": {
      "text/plain": [
       "(5000, 1)"
      ]
     },
     "execution_count": 13,
     "metadata": {},
     "output_type": "execute_result"
    }
   ],
   "source": [
    "y_pred = model.predict(x_test)\n",
    "y_pred.shape"
   ]
  },
  {
   "cell_type": "code",
   "execution_count": 14,
   "metadata": {},
   "outputs": [],
   "source": [
    "con_mat = metrics.confusion_matrix(y_test, (y_pred > 0.5))"
   ]
  },
  {
   "cell_type": "code",
   "execution_count": 15,
   "metadata": {},
   "outputs": [
    {
     "data": {
      "image/png": "[encoded data removed]",
      "text/plain": [
       "<Figure size 576x576 with 2 Axes>"
      ]
     },
     "execution_count": 15,
     "metadata": {},
     "output_type": "execute_result"
    },
    {
     "data": {
      "image/png": "[encoded data removed]",
      "text/plain": [
       "<Figure size 576x576 with 2 Axes>"
      ]
     },
     "metadata": {
      "needs_background": "light"
     },
     "output_type": "display_data"
    }
   ],
   "source": [
    "plot_confusion_matrix(con_mat, ['<= 5', '> 5'])"
   ]
  },
  {
   "cell_type": "code",
   "execution_count": null,
   "metadata": {},
   "outputs": [],
   "source": []
  }
 ],
 "metadata": {
  "kernelspec": {
   "display_name": "Python 3",
   "language": "python",
   "name": "python3"
  },
  "language_info": {
   "codemirror_mode": {
    "name": "ipython",
    "version": 3
   },
   "file_extension": ".py",
   "mimetype": "text/x-python",
   "name": "python",
   "nbconvert_exporter": "python",
   "pygments_lexer": "ipython3",
   "version": "3.7.7"
  }
 },
 "nbformat": 4,
 "nbformat_minor": 4
}
