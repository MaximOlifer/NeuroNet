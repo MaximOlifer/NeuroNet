{
 "cells": [
  {
   "cell_type": "markdown",
   "metadata": {},
   "source": [
    "Генерируем случайную матрицу размера nxn фиксированного ранга r. Для начала, генерируем произвольную матрицу A и вычисляем ее сингулярное разложение. A=U*S*V"
   ]
  },
  {
   "cell_type": "code",
   "execution_count": 1,
   "metadata": {},
   "outputs": [
    {
     "data": {
      "text/plain": [
       "(10, 10)"
      ]
     },
     "execution_count": 1,
     "metadata": {},
     "output_type": "execute_result"
    }
   ],
   "source": [
    "import numpy as np\n",
    "n=10\n",
    "r=2\n",
    "a=np.random.rand(n,n)\n",
    "(u,s,v)=np.linalg.svd(a)\n",
    "a"
   ]
  },
  {
   "cell_type": "code",
   "execution_count": 2,
   "metadata": {},
   "outputs": [
    {
     "data": {
      "text/plain": [
       "10"
      ]
     },
     "execution_count": 2,
     "metadata": {},
     "output_type": "execute_result"
    }
   ],
   "source": [
    "np.linalg.matrix_rank(a)"
   ]
  },
  {
   "cell_type": "code",
   "execution_count": 3,
   "metadata": {},
   "outputs": [
    {
     "data": {
      "text/plain": [
       "array([5.08927325, 1.39001694, 1.29967144, 1.07892203, 0.77139686,\n",
       "       0.68018123, 0.49241182, 0.36104805, 0.26472254, 0.05640903])"
      ]
     },
     "execution_count": 3,
     "metadata": {},
     "output_type": "execute_result"
    }
   ],
   "source": [
    "s"
   ]
  },
  {
   "cell_type": "markdown",
   "metadata": {},
   "source": [
    "Вектор s -- сингулярные значения матрицы A. Теперь оставим в s только первые r значений, а остальные заменим 0."
   ]
  },
  {
   "cell_type": "code",
   "execution_count": 4,
   "metadata": {},
   "outputs": [],
   "source": [
    "s_cut=np.zeros(n)\n",
    "s_cut[:r]=s[:r]"
   ]
  },
  {
   "cell_type": "code",
   "execution_count": 5,
   "metadata": {},
   "outputs": [
    {
     "data": {
      "text/plain": [
       "array([5.08927325, 1.39001694, 0.        , 0.        , 0.        ,\n",
       "       0.        , 0.        , 0.        , 0.        , 0.        ])"
      ]
     },
     "execution_count": 5,
     "metadata": {},
     "output_type": "execute_result"
    }
   ],
   "source": [
    "s_cut"
   ]
  },
  {
   "cell_type": "markdown",
   "metadata": {},
   "source": [
    "Дальше восстановим по тем же формулам, но с урезанным s, матрицу A."
   ]
  },
  {
   "cell_type": "code",
   "execution_count": 6,
   "metadata": {},
   "outputs": [],
   "source": [
    "s_mat=np.diag(s_cut)\n",
    "a_new=u.dot(s_mat).dot(v)"
   ]
  },
  {
   "cell_type": "code",
   "execution_count": 7,
   "metadata": {},
   "outputs": [
    {
     "data": {
      "text/plain": [
       "(10, 10)"
      ]
     },
     "execution_count": 7,
     "metadata": {},
     "output_type": "execute_result"
    }
   ],
   "source": [
    "a_new.shape"
   ]
  },
  {
   "cell_type": "code",
   "execution_count": 8,
   "metadata": {},
   "outputs": [
    {
     "data": {
      "text/plain": [
       "2"
      ]
     },
     "execution_count": 8,
     "metadata": {},
     "output_type": "execute_result"
    }
   ],
   "source": [
    "np.linalg.matrix_rank(a_new)"
   ]
  },
  {
   "cell_type": "code",
   "execution_count": 9,
   "metadata": {},
   "outputs": [
    {
     "data": {
      "text/plain": [
       "array([[0.20947436, 0.61912177, 0.29032454, 0.49659149, 0.57635656,\n",
       "        0.68852136, 0.83273979, 0.33619584, 0.7026359 , 0.58022191],\n",
       "       [0.28090265, 0.54677421, 0.31903271, 0.40447244, 0.51034349,\n",
       "        0.55679029, 0.702029  , 0.35539266, 0.6218852 , 0.54788062],\n",
       "       [0.25645963, 0.6848941 , 0.33731884, 0.54055596, 0.63793055,\n",
       "        0.74844416, 0.9125926 , 0.38699282, 0.77763   , 0.6510061 ],\n",
       "       [0.59751642, 0.50085161, 0.51441789, 0.24957579, 0.47222391,\n",
       "        0.32814427, 0.52458486, 0.53299913, 0.57446397, 0.62765358],\n",
       "       [0.15350245, 0.63580548, 0.25790771, 0.53187487, 0.59102877,\n",
       "        0.74001692, 0.87663889, 0.30768203, 0.72069896, 0.57307511],\n",
       "       [0.42798448, 0.6175893 , 0.43264799, 0.41750897, 0.57798371,\n",
       "        0.56971932, 0.75439855, 0.46892569, 0.70399332, 0.65976976],\n",
       "       [0.69907786, 0.36476948, 0.54700116, 0.0879602 , 0.34759945,\n",
       "        0.09789588, 0.29014459, 0.54911133, 0.42211235, 0.55469682],\n",
       "       [0.29604701, 0.47152263, 0.31026316, 0.32968089, 0.44085597,\n",
       "        0.45139508, 0.58667175, 0.33929018, 0.53705691, 0.49237054],\n",
       "       [0.92233093, 0.48402925, 0.72237468, 0.11860488, 0.46117156,\n",
       "        0.13273993, 0.38685444, 0.72540447, 0.56004509, 0.73409014],\n",
       "       [0.18218089, 0.45630703, 0.23212709, 0.35612025, 0.42517558,\n",
       "        0.4925971 , 0.60406895, 0.26473233, 0.51825181, 0.43791334]])"
      ]
     },
     "execution_count": 9,
     "metadata": {},
     "output_type": "execute_result"
    }
   ],
   "source": [
    "a_new"
   ]
  },
  {
   "cell_type": "markdown",
   "metadata": {},
   "source": [
    "Форма правильная, в ячйках значения от 0 до 1, ранг -- искомый."
   ]
  },
  {
   "cell_type": "markdown",
   "metadata": {},
   "source": [
    "По матрице 10x10 строим картинку 100x100. Делаем extent, затем заполнение цветом по алгоритму ближайших соседей."
   ]
  },
  {
   "cell_type": "markdown",
   "metadata": {},
   "source": [
    "Палитры можно использовать разные. В статье наиболее перспективной оказалась 'jet'."
   ]
  },
  {
   "cell_type": "code",
   "execution_count": 11,
   "metadata": {},
   "outputs": [
    {
     "data": {
      "text/plain": [
       "<matplotlib.image.AxesImage at 0x1484e24bec8>"
      ]
     },
     "execution_count": 11,
     "metadata": {},
     "output_type": "execute_result"
    },
    {
     "data": {
      "image/png": "[encoded data removed]",
      "text/plain": [
       "<Figure size 432x288 with 1 Axes>"
      ]
     },
     "metadata": {
      "needs_background": "light"
     },
     "output_type": "display_data"
    }
   ],
   "source": [
    "plt.imshow(a_new, cmap='gray', origin = 'lower',  extent = [0, 100, 0, 100],interpolation='nearest')"
   ]
  },
  {
   "cell_type": "code",
   "execution_count": 14,
   "metadata": {},
   "outputs": [
    {
     "data": {
      "image/png": "[encoded data removed]",
      "text/plain": [
       "<Figure size 432x288 with 1 Axes>"
      ]
     },
     "metadata": {
      "needs_background": "light"
     },
     "output_type": "display_data"
    }
   ],
   "source": [
    "a = plt.imshow(a_new, cmap='jet', origin = 'lower',  extent = [0, 100, 0, 100],interpolation='nearest')\n",
    "data = a.get_array()"
   ]
  },
  {
   "cell_type": "markdown",
   "metadata": {},
   "source": [
    "Осталось сгенирировать достаточное число образцов. Разобраться как их хранить: png-файлами или тензорами 100х100 (что, почти одно и тоже). Это я оставлю уже на вас. Опыта у вас побольше. Т.е. нужно сформировать картинки+ранги, затем уже проводить категориальное обучение, желательно CNN. Статья предсказывает не очень высокую точность, но пример, идеологически, невероятно интересный. "
   ]
  },
  {
   "cell_type": "markdown",
   "metadata": {},
   "source": [
    "## Генерация датасета"
   ]
  },
  {
   "cell_type": "code",
   "execution_count": 15,
   "metadata": {},
   "outputs": [],
   "source": [
    "import numpy as np\n",
    "import matplotlib.pyplot as plt\n",
    "import cv2"
   ]
  },
  {
   "cell_type": "markdown",
   "metadata": {},
   "source": [
    "Генерация"
   ]
  },
  {
   "cell_type": "code",
   "execution_count": 16,
   "metadata": {},
   "outputs": [],
   "source": [
    "def generate_image(n, r):\n",
    "    a=np.random.rand(n,n)\n",
    "    (u,s,v)=np.linalg.svd(a)\n",
    "\n",
    "    s_cut=np.zeros(n)\n",
    "    s_cut[:r]=s[:r]\n",
    "\n",
    "    s_mat=np.diag(s_cut)\n",
    "\n",
    "    a_new=u.dot(s_mat).dot(v)\n",
    "    \n",
    "    image = a_new\n",
    "    #image = cv2.resize(image, (100, 100), interpolation=cv2.INTER_NEAREST)\n",
    "    image = np.uint8(255 * image)\n",
    "    #image = cv2.applyColorMap(image, cv2.COLORMAP_JET)\n",
    "    return image.reshape(10, 10, 1)"
   ]
  },
  {
   "cell_type": "code",
   "execution_count": 17,
   "metadata": {},
   "outputs": [],
   "source": [
    "N = 10000\n",
    "file_size = 100\n",
    "n = 10\n",
    "\n",
    "images = np.zeros((N*10, 10, 10, 1))\n",
    "labels = np.zeros((N*10))\n",
    "for i in range(N):\n",
    "    for r in range(1, 11):\n",
    "        image = generate_image(n, r)\n",
    "\n",
    "        images[10*i+r-1] = image\n",
    "        labels[10*i+r-1] = r-1"
   ]
  },
  {
   "cell_type": "code",
   "execution_count": 18,
   "metadata": {},
   "outputs": [],
   "source": [
    "N_test = 100\n",
    "file_size = 100\n",
    "n = 10\n",
    "\n",
    "test_images = np.zeros((N_test*10, 10, 10, 1))\n",
    "test_labels = np.zeros((N_test*10))\n",
    "for i in range(N_test):\n",
    "    for r in range(1, 11):\n",
    "        image = generate_image(n, r)\n",
    "\n",
    "        test_images[10*i+r-1] = image\n",
    "        test_labels[10*i+r-1] = r-1"
   ]
  },
  {
   "cell_type": "code",
   "execution_count": 19,
   "metadata": {},
   "outputs": [
    {
     "data": {
      "text/plain": [
       "(100000, 10, 10, 1)"
      ]
     },
     "execution_count": 19,
     "metadata": {},
     "output_type": "execute_result"
    }
   ],
   "source": [
    "images.shape"
   ]
  },
  {
   "cell_type": "code",
   "execution_count": 20,
   "metadata": {},
   "outputs": [
    {
     "data": {
      "text/plain": [
       "(1000, 10, 10, 1)"
      ]
     },
     "execution_count": 20,
     "metadata": {},
     "output_type": "execute_result"
    }
   ],
   "source": [
    "test_images.shape"
   ]
  },
  {
   "cell_type": "code",
   "execution_count": 21,
   "metadata": {},
   "outputs": [
    {
     "data": {
      "text/plain": [
       "array([0., 1., 2., 3., 4., 5., 6., 7., 8., 9., 0., 1., 2., 3., 4., 5., 6.,\n",
       "       7., 8., 9., 0., 1., 2., 3., 4., 5., 6., 7., 8., 9., 0., 1., 2., 3.,\n",
       "       4., 5., 6., 7., 8., 9., 0., 1., 2., 3., 4., 5., 6., 7., 8., 9., 0.,\n",
       "       1., 2., 3., 4., 5., 6., 7., 8., 9., 0., 1., 2., 3., 4., 5., 6., 7.,\n",
       "       8., 9., 0., 1., 2., 3., 4., 5., 6., 7., 8., 9., 0., 1., 2., 3., 4.,\n",
       "       5., 6., 7., 8., 9., 0., 1., 2., 3., 4., 5., 6., 7., 8., 9., 0., 1.,\n",
       "       2., 3., 4., 5., 6., 7., 8., 9., 0., 1., 2., 3., 4., 5., 6., 7., 8.,\n",
       "       9., 0., 1., 2., 3., 4., 5., 6., 7., 8., 9., 0., 1., 2., 3., 4., 5.,\n",
       "       6., 7., 8., 9., 0., 1., 2., 3., 4., 5., 6., 7., 8., 9., 0., 1., 2.,\n",
       "       3., 4., 5., 6., 7., 8., 9., 0., 1., 2., 3., 4., 5., 6., 7., 8., 9.,\n",
       "       0., 1., 2., 3., 4., 5., 6., 7., 8., 9., 0., 1., 2., 3., 4., 5., 6.,\n",
       "       7., 8., 9., 0., 1., 2., 3., 4., 5., 6., 7., 8., 9., 0., 1., 2., 3.,\n",
       "       4., 5., 6., 7., 8., 9., 0., 1., 2., 3., 4., 5., 6., 7., 8., 9., 0.,\n",
       "       1., 2., 3., 4., 5., 6., 7., 8., 9., 0., 1., 2., 3., 4., 5., 6., 7.,\n",
       "       8., 9., 0., 1., 2., 3., 4., 5., 6., 7., 8., 9., 0., 1., 2., 3., 4.,\n",
       "       5., 6., 7., 8., 9., 0., 1., 2., 3., 4., 5., 6., 7., 8., 9., 0., 1.,\n",
       "       2., 3., 4., 5., 6., 7., 8., 9., 0., 1., 2., 3., 4., 5., 6., 7., 8.,\n",
       "       9., 0., 1., 2., 3., 4., 5., 6., 7., 8., 9., 0., 1., 2., 3., 4., 5.,\n",
       "       6., 7., 8., 9., 0., 1., 2., 3., 4., 5., 6., 7., 8., 9., 0., 1., 2.,\n",
       "       3., 4., 5., 6., 7., 8., 9., 0., 1., 2., 3., 4., 5., 6., 7., 8., 9.,\n",
       "       0., 1., 2., 3., 4., 5., 6., 7., 8., 9., 0., 1., 2., 3., 4., 5., 6.,\n",
       "       7., 8., 9., 0., 1., 2., 3., 4., 5., 6., 7., 8., 9., 0., 1., 2., 3.,\n",
       "       4., 5., 6., 7., 8., 9., 0., 1., 2., 3., 4., 5., 6., 7., 8., 9., 0.,\n",
       "       1., 2., 3., 4., 5., 6., 7., 8., 9., 0., 1., 2., 3., 4., 5., 6., 7.,\n",
       "       8., 9., 0., 1., 2., 3., 4., 5., 6., 7., 8., 9., 0., 1., 2., 3., 4.,\n",
       "       5., 6., 7., 8., 9., 0., 1., 2., 3., 4., 5., 6., 7., 8., 9., 0., 1.,\n",
       "       2., 3., 4., 5., 6., 7., 8., 9., 0., 1., 2., 3., 4., 5., 6., 7., 8.,\n",
       "       9., 0., 1., 2., 3., 4., 5., 6., 7., 8., 9., 0., 1., 2., 3., 4., 5.,\n",
       "       6., 7., 8., 9., 0., 1., 2., 3., 4., 5., 6., 7., 8., 9., 0., 1., 2.,\n",
       "       3., 4., 5., 6., 7., 8., 9., 0., 1., 2., 3., 4., 5., 6., 7., 8., 9.,\n",
       "       0., 1., 2., 3., 4., 5., 6., 7., 8., 9., 0., 1., 2., 3., 4., 5., 6.,\n",
       "       7., 8., 9., 0., 1., 2., 3., 4., 5., 6., 7., 8., 9., 0., 1., 2., 3.,\n",
       "       4., 5., 6., 7., 8., 9., 0., 1., 2., 3., 4., 5., 6., 7., 8., 9., 0.,\n",
       "       1., 2., 3., 4., 5., 6., 7., 8., 9., 0., 1., 2., 3., 4., 5., 6., 7.,\n",
       "       8., 9., 0., 1., 2., 3., 4., 5., 6., 7., 8., 9., 0., 1., 2., 3., 4.,\n",
       "       5., 6., 7., 8., 9., 0., 1., 2., 3., 4., 5., 6., 7., 8., 9., 0., 1.,\n",
       "       2., 3., 4., 5., 6., 7., 8., 9., 0., 1., 2., 3., 4., 5., 6., 7., 8.,\n",
       "       9., 0., 1., 2., 3., 4., 5., 6., 7., 8., 9., 0., 1., 2., 3., 4., 5.,\n",
       "       6., 7., 8., 9., 0., 1., 2., 3., 4., 5., 6., 7., 8., 9., 0., 1., 2.,\n",
       "       3., 4., 5., 6., 7., 8., 9., 0., 1., 2., 3., 4., 5., 6., 7., 8., 9.,\n",
       "       0., 1., 2., 3., 4., 5., 6., 7., 8., 9., 0., 1., 2., 3., 4., 5., 6.,\n",
       "       7., 8., 9., 0., 1., 2., 3., 4., 5., 6., 7., 8., 9., 0., 1., 2., 3.,\n",
       "       4., 5., 6., 7., 8., 9., 0., 1., 2., 3., 4., 5., 6., 7., 8., 9., 0.,\n",
       "       1., 2., 3., 4., 5., 6., 7., 8., 9., 0., 1., 2., 3., 4., 5., 6., 7.,\n",
       "       8., 9., 0., 1., 2., 3., 4., 5., 6., 7., 8., 9., 0., 1., 2., 3., 4.,\n",
       "       5., 6., 7., 8., 9., 0., 1., 2., 3., 4., 5., 6., 7., 8., 9., 0., 1.,\n",
       "       2., 3., 4., 5., 6., 7., 8., 9., 0., 1., 2., 3., 4., 5., 6., 7., 8.,\n",
       "       9., 0., 1., 2., 3., 4., 5., 6., 7., 8., 9., 0., 1., 2., 3., 4., 5.,\n",
       "       6., 7., 8., 9., 0., 1., 2., 3., 4., 5., 6., 7., 8., 9., 0., 1., 2.,\n",
       "       3., 4., 5., 6., 7., 8., 9., 0., 1., 2., 3., 4., 5., 6., 7., 8., 9.,\n",
       "       0., 1., 2., 3., 4., 5., 6., 7., 8., 9., 0., 1., 2., 3., 4., 5., 6.,\n",
       "       7., 8., 9., 0., 1., 2., 3., 4., 5., 6., 7., 8., 9., 0., 1., 2., 3.,\n",
       "       4., 5., 6., 7., 8., 9., 0., 1., 2., 3., 4., 5., 6., 7., 8., 9., 0.,\n",
       "       1., 2., 3., 4., 5., 6., 7., 8., 9., 0., 1., 2., 3., 4., 5., 6., 7.,\n",
       "       8., 9., 0., 1., 2., 3., 4., 5., 6., 7., 8., 9., 0., 1., 2., 3., 4.,\n",
       "       5., 6., 7., 8., 9., 0., 1., 2., 3., 4., 5., 6., 7., 8., 9., 0., 1.,\n",
       "       2., 3., 4., 5., 6., 7., 8., 9., 0., 1., 2., 3., 4., 5., 6., 7., 8.,\n",
       "       9., 0., 1., 2., 3., 4., 5., 6., 7., 8., 9., 0., 1., 2., 3., 4., 5.,\n",
       "       6., 7., 8., 9., 0., 1., 2., 3., 4., 5., 6., 7., 8., 9.])"
      ]
     },
     "execution_count": 21,
     "metadata": {},
     "output_type": "execute_result"
    }
   ],
   "source": [
    "test_labels"
   ]
  },
  {
   "cell_type": "markdown",
   "metadata": {},
   "source": [
    "Перемешивание"
   ]
  },
  {
   "cell_type": "code",
   "execution_count": 22,
   "metadata": {},
   "outputs": [],
   "source": [
    "def unison_shuffled_copies(a, b):\n",
    "    assert len(a) == len(b)\n",
    "    p = np.random.permutation(len(a))\n",
    "    return a[p], b[p]"
   ]
  },
  {
   "cell_type": "code",
   "execution_count": 23,
   "metadata": {},
   "outputs": [],
   "source": [
    "images, labels = unison_shuffled_copies(images, labels)\n",
    "test_images, test_labels = unison_shuffled_copies(test_images, test_labels)"
   ]
  },
  {
   "cell_type": "markdown",
   "metadata": {},
   "source": [
    "Сохранение"
   ]
  },
  {
   "cell_type": "code",
   "execution_count": 24,
   "metadata": {},
   "outputs": [],
   "source": [
    "np.savez(\n",
    "    \"rank_prediction_small_matrix.npz\", \n",
    "    x_train=images, \n",
    "    y_train=labels,\n",
    "    x_test=test_images,\n",
    "    y_test=test_labels\n",
    ")"
   ]
  },
  {
   "cell_type": "markdown",
   "metadata": {},
   "source": [
    "## Обучение модели"
   ]
  },
  {
   "cell_type": "code",
   "execution_count": 1,
   "metadata": {},
   "outputs": [
    {
     "name": "stderr",
     "output_type": "stream",
     "text": [
      "D:\\Users\\maxim\\Anaconda3\\envs\\maxim\\lib\\site-packages\\tensorflow\\python\\framework\\dtypes.py:516: FutureWarning: Passing (type, 1) or '1type' as a synonym of type is deprecated; in a future version of numpy, it will be understood as (type, (1,)) / '(1,)type'.\n",
      "  _np_qint8 = np.dtype([(\"qint8\", np.int8, 1)])\n",
      "D:\\Users\\maxim\\Anaconda3\\envs\\maxim\\lib\\site-packages\\tensorflow\\python\\framework\\dtypes.py:517: FutureWarning: Passing (type, 1) or '1type' as a synonym of type is deprecated; in a future version of numpy, it will be understood as (type, (1,)) / '(1,)type'.\n",
      "  _np_quint8 = np.dtype([(\"quint8\", np.uint8, 1)])\n",
      "D:\\Users\\maxim\\Anaconda3\\envs\\maxim\\lib\\site-packages\\tensorflow\\python\\framework\\dtypes.py:518: FutureWarning: Passing (type, 1) or '1type' as a synonym of type is deprecated; in a future version of numpy, it will be understood as (type, (1,)) / '(1,)type'.\n",
      "  _np_qint16 = np.dtype([(\"qint16\", np.int16, 1)])\n",
      "D:\\Users\\maxim\\Anaconda3\\envs\\maxim\\lib\\site-packages\\tensorflow\\python\\framework\\dtypes.py:519: FutureWarning: Passing (type, 1) or '1type' as a synonym of type is deprecated; in a future version of numpy, it will be understood as (type, (1,)) / '(1,)type'.\n",
      "  _np_quint16 = np.dtype([(\"quint16\", np.uint16, 1)])\n",
      "D:\\Users\\maxim\\Anaconda3\\envs\\maxim\\lib\\site-packages\\tensorflow\\python\\framework\\dtypes.py:520: FutureWarning: Passing (type, 1) or '1type' as a synonym of type is deprecated; in a future version of numpy, it will be understood as (type, (1,)) / '(1,)type'.\n",
      "  _np_qint32 = np.dtype([(\"qint32\", np.int32, 1)])\n",
      "D:\\Users\\maxim\\Anaconda3\\envs\\maxim\\lib\\site-packages\\tensorflow\\python\\framework\\dtypes.py:525: FutureWarning: Passing (type, 1) or '1type' as a synonym of type is deprecated; in a future version of numpy, it will be understood as (type, (1,)) / '(1,)type'.\n",
      "  np_resource = np.dtype([(\"resource\", np.ubyte, 1)])\n",
      "D:\\Users\\maxim\\Anaconda3\\envs\\maxim\\lib\\site-packages\\tensorboard\\compat\\tensorflow_stub\\dtypes.py:541: FutureWarning: Passing (type, 1) or '1type' as a synonym of type is deprecated; in a future version of numpy, it will be understood as (type, (1,)) / '(1,)type'.\n",
      "  _np_qint8 = np.dtype([(\"qint8\", np.int8, 1)])\n",
      "D:\\Users\\maxim\\Anaconda3\\envs\\maxim\\lib\\site-packages\\tensorboard\\compat\\tensorflow_stub\\dtypes.py:542: FutureWarning: Passing (type, 1) or '1type' as a synonym of type is deprecated; in a future version of numpy, it will be understood as (type, (1,)) / '(1,)type'.\n",
      "  _np_quint8 = np.dtype([(\"quint8\", np.uint8, 1)])\n",
      "D:\\Users\\maxim\\Anaconda3\\envs\\maxim\\lib\\site-packages\\tensorboard\\compat\\tensorflow_stub\\dtypes.py:543: FutureWarning: Passing (type, 1) or '1type' as a synonym of type is deprecated; in a future version of numpy, it will be understood as (type, (1,)) / '(1,)type'.\n",
      "  _np_qint16 = np.dtype([(\"qint16\", np.int16, 1)])\n",
      "D:\\Users\\maxim\\Anaconda3\\envs\\maxim\\lib\\site-packages\\tensorboard\\compat\\tensorflow_stub\\dtypes.py:544: FutureWarning: Passing (type, 1) or '1type' as a synonym of type is deprecated; in a future version of numpy, it will be understood as (type, (1,)) / '(1,)type'.\n",
      "  _np_quint16 = np.dtype([(\"quint16\", np.uint16, 1)])\n",
      "D:\\Users\\maxim\\Anaconda3\\envs\\maxim\\lib\\site-packages\\tensorboard\\compat\\tensorflow_stub\\dtypes.py:545: FutureWarning: Passing (type, 1) or '1type' as a synonym of type is deprecated; in a future version of numpy, it will be understood as (type, (1,)) / '(1,)type'.\n",
      "  _np_qint32 = np.dtype([(\"qint32\", np.int32, 1)])\n",
      "D:\\Users\\maxim\\Anaconda3\\envs\\maxim\\lib\\site-packages\\tensorboard\\compat\\tensorflow_stub\\dtypes.py:550: FutureWarning: Passing (type, 1) or '1type' as a synonym of type is deprecated; in a future version of numpy, it will be understood as (type, (1,)) / '(1,)type'.\n",
      "  np_resource = np.dtype([(\"resource\", np.ubyte, 1)])\n"
     ]
    }
   ],
   "source": [
    "import numpy as np\n",
    "import matplotlib.pyplot as plt\n",
    "import tensorflow as tf\n",
    "from tensorflow import keras\n",
    "from sklearn import metrics\n",
    "from tensorflow.keras.regularizers import l1_l2"
   ]
  },
  {
   "cell_type": "markdown",
   "metadata": {},
   "source": [
    "Загрузка данных"
   ]
  },
  {
   "cell_type": "code",
   "execution_count": 2,
   "metadata": {},
   "outputs": [],
   "source": [
    "with np.load(\"rank_prediction_small_matrix.npz\") as data:\n",
    "    x_train = data[\"x_train\"]\n",
    "    y_train = data[\"y_train\"]\n",
    "    x_test = data[\"x_test\"]\n",
    "    y_test = data[\"y_test\"]"
   ]
  },
  {
   "cell_type": "markdown",
   "metadata": {},
   "source": [
    "Нормализация"
   ]
  },
  {
   "cell_type": "code",
   "execution_count": 3,
   "metadata": {},
   "outputs": [],
   "source": [
    "x_train = keras.utils.normalize(x_train)\n",
    "x_test = keras.utils.normalize(x_test)"
   ]
  },
  {
   "cell_type": "markdown",
   "metadata": {},
   "source": [
    "Подготовка"
   ]
  },
  {
   "cell_type": "code",
   "execution_count": 4,
   "metadata": {},
   "outputs": [],
   "source": [
    "train_dataset = tf.data.Dataset.from_tensor_slices((x_train, y_train))\n",
    "test_dataset = tf.data.Dataset.from_tensor_slices((x_test, y_test))"
   ]
  },
  {
   "cell_type": "code",
   "execution_count": 5,
   "metadata": {},
   "outputs": [],
   "source": [
    "BATCH_SIZE = 64\n",
    "SHUFFLE_BUFFER_SIZE = 100\n",
    "\n",
    "train_dataset = train_dataset.shuffle(SHUFFLE_BUFFER_SIZE).batch(BATCH_SIZE)\n",
    "test_dataset = test_dataset.batch(BATCH_SIZE)"
   ]
  },
  {
   "cell_type": "markdown",
   "metadata": {},
   "source": [
    "Создание модели"
   ]
  },
  {
   "cell_type": "code",
   "execution_count": 6,
   "metadata": {},
   "outputs": [
    {
     "name": "stdout",
     "output_type": "stream",
     "text": [
      "WARNING:tensorflow:From D:\\Users\\maxim\\Anaconda3\\envs\\maxim\\lib\\site-packages\\tensorflow\\python\\ops\\init_ops.py:1251: calling VarianceScaling.__init__ (from tensorflow.python.ops.init_ops) with dtype is deprecated and will be removed in a future version.\n",
      "Instructions for updating:\n",
      "Call initializer instance with the dtype argument instead of passing it to the constructor\n",
      "Model: \"model\"\n",
      "_________________________________________________________________\n",
      "Layer (type)                 Output Shape              Param #   \n",
      "=================================================================\n",
      "input_1 (InputLayer)         [(None, 10, 10, 1)]       0         \n",
      "_________________________________________________________________\n",
      "conv2d (Conv2D)              (None, 8, 8, 32)          320       \n",
      "_________________________________________________________________\n",
      "batch_normalization (BatchNo (None, 8, 8, 32)          128       \n",
      "_________________________________________________________________\n",
      "leaky_re_lu (LeakyReLU)      (None, 8, 8, 32)          0         \n",
      "_________________________________________________________________\n",
      "dropout (Dropout)            (None, 8, 8, 32)          0         \n",
      "_________________________________________________________________\n",
      "conv2d_1 (Conv2D)            (None, 6, 6, 64)          18496     \n",
      "_________________________________________________________________\n",
      "batch_normalization_1 (Batch (None, 6, 6, 64)          256       \n",
      "_________________________________________________________________\n",
      "leaky_re_lu_1 (LeakyReLU)    (None, 6, 6, 64)          0         \n",
      "_________________________________________________________________\n",
      "dropout_1 (Dropout)          (None, 6, 6, 64)          0         \n",
      "_________________________________________________________________\n",
      "conv2d_2 (Conv2D)            (None, 4, 4, 512)         295424    \n",
      "_________________________________________________________________\n",
      "batch_normalization_2 (Batch (None, 4, 4, 512)         2048      \n",
      "_________________________________________________________________\n",
      "leaky_re_lu_2 (LeakyReLU)    (None, 4, 4, 512)         0         \n",
      "_________________________________________________________________\n",
      "dropout_2 (Dropout)          (None, 4, 4, 512)         0         \n",
      "_________________________________________________________________\n",
      "flatten (Flatten)            (None, 8192)              0         \n",
      "_________________________________________________________________\n",
      "dense (Dense)                (None, 512)               4194816   \n",
      "_________________________________________________________________\n",
      "batch_normalization_3 (Batch (None, 512)               2048      \n",
      "_________________________________________________________________\n",
      "leaky_re_lu_3 (LeakyReLU)    (None, 512)               0         \n",
      "_________________________________________________________________\n",
      "dropout_3 (Dropout)          (None, 512)               0         \n",
      "_________________________________________________________________\n",
      "dense_1 (Dense)              (None, 10)                5130      \n",
      "=================================================================\n",
      "Total params: 4,518,666\n",
      "Trainable params: 4,516,426\n",
      "Non-trainable params: 2,240\n",
      "_________________________________________________________________\n"
     ]
    }
   ],
   "source": [
    "model_input = keras.layers.Input(shape=(10,10,1))\n",
    "\n",
    "x = keras.layers.Conv2D(32, (3, 3))(model_input)\n",
    "x = keras.layers.BatchNormalization()(x)\n",
    "x = keras.layers.LeakyReLU()(x)\n",
    "x = keras.layers.Dropout(0.4)(x)\n",
    "\n",
    "x = keras.layers.Conv2D(64, (3, 3))(x)\n",
    "x = keras.layers.BatchNormalization()(x)\n",
    "x = keras.layers.LeakyReLU()(x)\n",
    "x = keras.layers.Dropout(0.4)(x)\n",
    "\n",
    "x = keras.layers.Conv2D(512, (3, 3))(x)\n",
    "x = keras.layers.BatchNormalization()(x)\n",
    "x = keras.layers.LeakyReLU()(x)\n",
    "x = keras.layers.Dropout(0.4)(x)\n",
    "\n",
    "x = keras.layers.Flatten()(x)\n",
    "x = keras.layers.Dense(512)(x)\n",
    "x = keras.layers.BatchNormalization()(x)\n",
    "x = keras.layers.LeakyReLU()(x)\n",
    "x = keras.layers.Dropout(0.4)(x)\n",
    "\n",
    "x = keras.layers.Dense(10, activation=\"softmax\")(x)\n",
    "model = keras.models.Model(model_input, x)\n",
    "\n",
    "model.summary()"
   ]
  },
  {
   "cell_type": "code",
   "execution_count": 7,
   "metadata": {},
   "outputs": [],
   "source": [
    "model.compile(optimizer='adam',\n",
    "              loss='sparse_categorical_crossentropy',\n",
    "              metrics=['accuracy'])"
   ]
  },
  {
   "cell_type": "markdown",
   "metadata": {},
   "source": [
    "Обучение"
   ]
  },
  {
   "cell_type": "code",
   "execution_count": 8,
   "metadata": {},
   "outputs": [
    {
     "name": "stdout",
     "output_type": "stream",
     "text": [
      "Epoch 1/100\n",
      "1563/1563 [==============================] - 17s 11ms/step - loss: 2.3975 - acc: 0.1204 - val_loss: 2.2873 - val_acc: 0.1090\n",
      "Epoch 2/100\n",
      "1563/1563 [==============================] - 14s 9ms/step - loss: 2.2906 - acc: 0.1285 - val_loss: 2.2629 - val_acc: 0.1330\n",
      "Epoch 3/100\n",
      "1563/1563 [==============================] - 14s 9ms/step - loss: 2.2777 - acc: 0.1309 - val_loss: 2.2639 - val_acc: 0.1260\n",
      "Epoch 4/100\n",
      "1563/1563 [==============================] - 14s 9ms/step - loss: 2.2715 - acc: 0.1315 - val_loss: 2.4030 - val_acc: 0.0990\n",
      "Epoch 5/100\n",
      "1563/1563 [==============================] - 16s 10ms/step - loss: 2.2673 - acc: 0.1314 - val_loss: 2.2664 - val_acc: 0.1150\n",
      "Epoch 6/100\n",
      "1563/1563 [==============================] - 16s 10ms/step - loss: 2.2640 - acc: 0.1339 - val_loss: 2.2565 - val_acc: 0.1290\n",
      "Epoch 7/100\n",
      "1563/1563 [==============================] - 14s 9ms/step - loss: 2.2614 - acc: 0.1341 - val_loss: 2.2842 - val_acc: 0.0980\n",
      "Epoch 8/100\n",
      "1563/1563 [==============================] - 14s 9ms/step - loss: 2.2593 - acc: 0.1347 - val_loss: 2.5333 - val_acc: 0.1000\n",
      "Epoch 9/100\n",
      "1563/1563 [==============================] - 14s 9ms/step - loss: 2.2577 - acc: 0.1346 - val_loss: 2.6285 - val_acc: 0.0990\n",
      "Epoch 10/100\n",
      "1563/1563 [==============================] - 14s 9ms/step - loss: 2.2564 - acc: 0.1353 - val_loss: 2.4953 - val_acc: 0.1050\n",
      "Epoch 11/100\n",
      "1563/1563 [==============================] - 14s 9ms/step - loss: 2.2555 - acc: 0.1348 - val_loss: 2.2572 - val_acc: 0.1150\n",
      "Epoch 12/100\n",
      "1563/1563 [==============================] - 14s 9ms/step - loss: 2.2547 - acc: 0.1356 - val_loss: 2.3670 - val_acc: 0.0960\n",
      "Epoch 13/100\n",
      "1563/1563 [==============================] - 15s 10ms/step - loss: 2.2542 - acc: 0.1358 - val_loss: 2.5512 - val_acc: 0.1050\n",
      "Epoch 14/100\n",
      "1563/1563 [==============================] - 15s 9ms/step - loss: 2.2538 - acc: 0.1363 - val_loss: 2.2530 - val_acc: 0.1300\n",
      "Epoch 15/100\n",
      "1563/1563 [==============================] - 15s 9ms/step - loss: 2.2528 - acc: 0.1374 - val_loss: 2.4818 - val_acc: 0.0930\n",
      "Epoch 16/100\n",
      "1563/1563 [==============================] - 15s 9ms/step - loss: 2.2523 - acc: 0.1378 - val_loss: 2.2538 - val_acc: 0.1200\n",
      "Epoch 17/100\n",
      "1563/1563 [==============================] - 15s 10ms/step - loss: 2.2519 - acc: 0.1385 - val_loss: 2.2509 - val_acc: 0.1260\n",
      "Epoch 18/100\n",
      "1563/1563 [==============================] - 15s 10ms/step - loss: 2.2517 - acc: 0.1386 - val_loss: 2.2579 - val_acc: 0.1140\n",
      "Epoch 19/100\n",
      "1563/1563 [==============================] - 15s 10ms/step - loss: 2.2513 - acc: 0.1383 - val_loss: 2.2955 - val_acc: 0.1020\n",
      "Epoch 20/100\n",
      "1563/1563 [==============================] - 15s 10ms/step - loss: 2.2515 - acc: 0.1382 - val_loss: 2.2522 - val_acc: 0.1310\n",
      "Epoch 21/100\n",
      "1563/1563 [==============================] - 15s 10ms/step - loss: 2.2510 - acc: 0.1394 - val_loss: 2.2540 - val_acc: 0.1210\n",
      "Epoch 22/100\n",
      "1563/1563 [==============================] - 15s 10ms/step - loss: 2.2512 - acc: 0.1393 - val_loss: 2.2739 - val_acc: 0.1160\n",
      "Epoch 23/100\n",
      "1563/1563 [==============================] - 16s 10ms/step - loss: 2.2510 - acc: 0.1384 - val_loss: 2.2546 - val_acc: 0.1250\n",
      "Epoch 24/100\n",
      "1563/1563 [==============================] - 15s 10ms/step - loss: 2.2507 - acc: 0.1385 - val_loss: 2.3365 - val_acc: 0.1040\n",
      "Epoch 25/100\n",
      "1563/1563 [==============================] - 15s 10ms/step - loss: 2.2510 - acc: 0.1386 - val_loss: 2.2509 - val_acc: 0.1290\n",
      "Epoch 26/100\n",
      "1563/1563 [==============================] - 15s 10ms/step - loss: 2.2511 - acc: 0.1390 - val_loss: 2.2512 - val_acc: 0.1210\n",
      "Epoch 27/100\n",
      "1563/1563 [==============================] - 15s 9ms/step - loss: 2.2508 - acc: 0.1386 - val_loss: 2.2548 - val_acc: 0.1320\n",
      "Epoch 28/100\n",
      "1563/1563 [==============================] - 14s 9ms/step - loss: 2.2503 - acc: 0.1389 - val_loss: 2.2534 - val_acc: 0.1330\n",
      "Epoch 29/100\n",
      "1563/1563 [==============================] - 14s 9ms/step - loss: 2.2510 - acc: 0.1383 - val_loss: 2.2503 - val_acc: 0.1320\n",
      "Epoch 30/100\n",
      "1563/1563 [==============================] - 15s 9ms/step - loss: 2.2503 - acc: 0.1394 - val_loss: 2.2513 - val_acc: 0.1280\n",
      "Epoch 31/100\n",
      "1563/1563 [==============================] - 15s 9ms/step - loss: 2.2505 - acc: 0.1392 - val_loss: 2.2509 - val_acc: 0.1260\n",
      "Epoch 32/100\n",
      "1563/1563 [==============================] - 14s 9ms/step - loss: 2.2509 - acc: 0.1378 - val_loss: 2.2516 - val_acc: 0.1290\n",
      "Epoch 33/100\n",
      "1563/1563 [==============================] - 14s 9ms/step - loss: 2.2508 - acc: 0.1397 - val_loss: 2.2511 - val_acc: 0.1250\n",
      "Epoch 34/100\n",
      "1563/1563 [==============================] - 14s 9ms/step - loss: 2.2506 - acc: 0.1387 - val_loss: 2.2510 - val_acc: 0.1250\n",
      "Epoch 35/100\n",
      "1563/1563 [==============================] - 14s 9ms/step - loss: 2.2506 - acc: 0.1395 - val_loss: 2.2532 - val_acc: 0.1210\n",
      "Epoch 36/100\n",
      "1563/1563 [==============================] - 14s 9ms/step - loss: 2.2501 - acc: 0.1403 - val_loss: 2.2508 - val_acc: 0.1210\n",
      "Epoch 37/100\n",
      "1563/1563 [==============================] - 14s 9ms/step - loss: 2.2504 - acc: 0.1391 - val_loss: 2.2520 - val_acc: 0.1290\n",
      "Epoch 38/100\n",
      "1563/1563 [==============================] - 14s 9ms/step - loss: 2.2506 - acc: 0.1393 - val_loss: 2.2522 - val_acc: 0.1300\n",
      "Epoch 39/100\n",
      "1563/1563 [==============================] - 14s 9ms/step - loss: 2.2506 - acc: 0.1397 - val_loss: 2.2500 - val_acc: 0.1330\n",
      "Epoch 40/100\n",
      "1563/1563 [==============================] - 14s 9ms/step - loss: 2.2504 - acc: 0.1388 - val_loss: 2.2503 - val_acc: 0.1340\n",
      "Epoch 41/100\n",
      "1563/1563 [==============================] - 14s 9ms/step - loss: 2.2504 - acc: 0.1400 - val_loss: 2.2512 - val_acc: 0.1350\n",
      "Epoch 42/100\n",
      "1563/1563 [==============================] - 16s 10ms/step - loss: 2.2500 - acc: 0.1388 - val_loss: 2.2517 - val_acc: 0.1280\n",
      "Epoch 43/100\n",
      "1563/1563 [==============================] - 14s 9ms/step - loss: 2.2503 - acc: 0.1397 - val_loss: 2.2510 - val_acc: 0.1190\n",
      "Epoch 44/100\n",
      "1563/1563 [==============================] - 14s 9ms/step - loss: 2.2503 - acc: 0.1399 - val_loss: 2.2499 - val_acc: 0.1220\n",
      "Epoch 45/100\n",
      "1563/1563 [==============================] - 14s 9ms/step - loss: 2.2502 - acc: 0.1388 - val_loss: 2.2523 - val_acc: 0.1260\n",
      "Epoch 46/100\n",
      "1563/1563 [==============================] - 14s 9ms/step - loss: 2.2498 - acc: 0.1399 - val_loss: 2.2499 - val_acc: 0.1280\n",
      "Epoch 47/100\n",
      "1563/1563 [==============================] - 14s 9ms/step - loss: 2.2496 - acc: 0.1410 - val_loss: 2.2513 - val_acc: 0.1290\n",
      "Epoch 48/100\n",
      "1563/1563 [==============================] - 14s 9ms/step - loss: 2.2507 - acc: 0.1394 - val_loss: 2.2503 - val_acc: 0.1320\n",
      "Epoch 49/100\n",
      "1563/1563 [==============================] - 14s 9ms/step - loss: 2.2500 - acc: 0.1392 - val_loss: 2.2533 - val_acc: 0.1260\n",
      "Epoch 50/100\n",
      "1563/1563 [==============================] - 14s 9ms/step - loss: 2.2499 - acc: 0.1398 - val_loss: 2.2513 - val_acc: 0.1350\n",
      "Epoch 51/100\n",
      "1563/1563 [==============================] - 15s 9ms/step - loss: 2.2498 - acc: 0.1397 - val_loss: 2.2525 - val_acc: 0.1240\n",
      "Epoch 52/100\n",
      "1563/1563 [==============================] - 15s 9ms/step - loss: 2.2501 - acc: 0.1409 - val_loss: 2.2497 - val_acc: 0.1340\n",
      "Epoch 53/100\n",
      "1563/1563 [==============================] - 14s 9ms/step - loss: 2.2501 - acc: 0.1400 - val_loss: 2.2512 - val_acc: 0.1370\n",
      "Epoch 54/100\n",
      "1563/1563 [==============================] - 14s 9ms/step - loss: 2.2502 - acc: 0.1391 - val_loss: 2.2510 - val_acc: 0.1340\n",
      "Epoch 55/100\n",
      "1563/1563 [==============================] - 14s 9ms/step - loss: 2.2500 - acc: 0.1391 - val_loss: 2.2566 - val_acc: 0.1310\n",
      "Epoch 56/100\n",
      "1563/1563 [==============================] - 14s 9ms/step - loss: 2.2501 - acc: 0.1401 - val_loss: 2.2510 - val_acc: 0.1250\n",
      "Epoch 57/100\n",
      "1563/1563 [==============================] - 14s 9ms/step - loss: 2.2498 - acc: 0.1405 - val_loss: 2.2521 - val_acc: 0.1330\n",
      "Epoch 58/100\n",
      "1563/1563 [==============================] - 14s 9ms/step - loss: 2.2500 - acc: 0.1388 - val_loss: 2.2519 - val_acc: 0.1310\n",
      "Epoch 59/100\n",
      "1563/1563 [==============================] - 14s 9ms/step - loss: 2.2496 - acc: 0.1390 - val_loss: 2.2510 - val_acc: 0.1320\n",
      "Epoch 60/100\n",
      "1563/1563 [==============================] - 14s 9ms/step - loss: 2.2499 - acc: 0.1401 - val_loss: 2.2544 - val_acc: 0.1270\n",
      "Epoch 61/100\n",
      "1563/1563 [==============================] - 14s 9ms/step - loss: 2.2498 - acc: 0.1402 - val_loss: 2.2507 - val_acc: 0.1320\n",
      "Epoch 62/100\n",
      "1563/1563 [==============================] - 14s 9ms/step - loss: 2.2498 - acc: 0.1406 - val_loss: 2.2517 - val_acc: 0.1280\n",
      "Epoch 63/100\n",
      "1563/1563 [==============================] - 14s 9ms/step - loss: 2.2496 - acc: 0.1404 - val_loss: 2.2556 - val_acc: 0.1230\n",
      "Epoch 64/100\n",
      "1563/1563 [==============================] - 14s 9ms/step - loss: 2.2498 - acc: 0.1410 - val_loss: 2.2509 - val_acc: 0.1370\n",
      "Epoch 65/100\n",
      "1563/1563 [==============================] - 14s 9ms/step - loss: 2.2495 - acc: 0.1407 - val_loss: 2.2531 - val_acc: 0.1220\n",
      "Epoch 66/100\n",
      "1563/1563 [==============================] - 14s 9ms/step - loss: 2.2496 - acc: 0.1399 - val_loss: 2.2529 - val_acc: 0.1250\n",
      "Epoch 67/100\n",
      "1563/1563 [==============================] - 14s 9ms/step - loss: 2.2494 - acc: 0.1383 - val_loss: 2.2548 - val_acc: 0.1230\n",
      "Epoch 68/100\n",
      "1563/1563 [==============================] - 15s 9ms/step - loss: 2.2498 - acc: 0.1397 - val_loss: 2.2550 - val_acc: 0.1280\n",
      "Epoch 69/100\n",
      "1563/1563 [==============================] - 14s 9ms/step - loss: 2.2498 - acc: 0.1403 - val_loss: 2.2516 - val_acc: 0.1250\n",
      "Epoch 70/100\n",
      "1563/1563 [==============================] - 14s 9ms/step - loss: 2.2498 - acc: 0.1392 - val_loss: 2.2514 - val_acc: 0.1220\n",
      "Epoch 71/100\n",
      "1563/1563 [==============================] - 14s 9ms/step - loss: 2.2495 - acc: 0.1400 - val_loss: 2.2554 - val_acc: 0.1290\n",
      "Epoch 72/100\n",
      "1563/1563 [==============================] - 14s 9ms/step - loss: 2.2496 - acc: 0.1397 - val_loss: 2.2508 - val_acc: 0.1370\n",
      "Epoch 73/100\n",
      "1563/1563 [==============================] - 14s 9ms/step - loss: 2.2499 - acc: 0.1398 - val_loss: 2.2537 - val_acc: 0.1290\n",
      "Epoch 74/100\n",
      "1563/1563 [==============================] - 14s 9ms/step - loss: 2.2495 - acc: 0.1396 - val_loss: 2.2531 - val_acc: 0.1210\n",
      "Epoch 75/100\n",
      "1563/1563 [==============================] - 14s 9ms/step - loss: 2.2498 - acc: 0.1395 - val_loss: 2.2498 - val_acc: 0.1280\n",
      "Epoch 76/100\n",
      "1563/1563 [==============================] - 14s 9ms/step - loss: 2.2496 - acc: 0.1399 - val_loss: 2.2521 - val_acc: 0.1270\n",
      "Epoch 77/100\n",
      "1563/1563 [==============================] - 14s 9ms/step - loss: 2.2491 - acc: 0.1407 - val_loss: 2.2519 - val_acc: 0.1280\n",
      "Epoch 78/100\n",
      "1563/1563 [==============================] - 14s 9ms/step - loss: 2.2494 - acc: 0.1397 - val_loss: 2.2502 - val_acc: 0.1360\n",
      "Epoch 79/100\n",
      "1563/1563 [==============================] - 14s 9ms/step - loss: 2.2493 - acc: 0.1403 - val_loss: 2.2511 - val_acc: 0.1330\n",
      "Epoch 80/100\n",
      "1563/1563 [==============================] - 14s 9ms/step - loss: 2.2496 - acc: 0.1407 - val_loss: 2.2518 - val_acc: 0.1250\n",
      "Epoch 81/100\n",
      "1563/1563 [==============================] - 14s 9ms/step - loss: 2.2495 - acc: 0.1406 - val_loss: 2.2564 - val_acc: 0.1220\n",
      "Epoch 82/100\n",
      "1563/1563 [==============================] - 14s 9ms/step - loss: 2.2496 - acc: 0.1392 - val_loss: 2.2525 - val_acc: 0.1310\n",
      "Epoch 83/100\n",
      "1563/1563 [==============================] - 14s 9ms/step - loss: 2.2498 - acc: 0.1396 - val_loss: 2.2515 - val_acc: 0.1260\n",
      "Epoch 84/100\n",
      "1563/1563 [==============================] - 14s 9ms/step - loss: 2.2496 - acc: 0.1397 - val_loss: 2.2515 - val_acc: 0.1320\n",
      "Epoch 85/100\n",
      "1563/1563 [==============================] - 14s 9ms/step - loss: 2.2494 - acc: 0.1394 - val_loss: 2.2569 - val_acc: 0.1230\n",
      "Epoch 86/100\n",
      "1563/1563 [==============================] - 14s 9ms/step - loss: 2.2496 - acc: 0.1399 - val_loss: 2.2517 - val_acc: 0.1260\n",
      "Epoch 87/100\n",
      "1563/1563 [==============================] - 14s 9ms/step - loss: 2.2498 - acc: 0.1407 - val_loss: 2.2527 - val_acc: 0.1210\n",
      "Epoch 88/100\n",
      "1563/1563 [==============================] - 14s 9ms/step - loss: 2.2494 - acc: 0.1404 - val_loss: 2.2534 - val_acc: 0.1310\n",
      "Epoch 89/100\n",
      "1563/1563 [==============================] - 14s 9ms/step - loss: 2.2495 - acc: 0.1399 - val_loss: 2.2495 - val_acc: 0.1250\n",
      "Epoch 90/100\n",
      "1563/1563 [==============================] - 14s 9ms/step - loss: 2.2495 - acc: 0.1402 - val_loss: 2.2509 - val_acc: 0.1360\n",
      "Epoch 91/100\n",
      "1563/1563 [==============================] - 16s 10ms/step - loss: 2.2495 - acc: 0.1404 - val_loss: 2.2511 - val_acc: 0.1220\n",
      "Epoch 92/100\n",
      "1563/1563 [==============================] - 15s 9ms/step - loss: 2.2495 - acc: 0.1408 - val_loss: 2.2513 - val_acc: 0.1260\n",
      "Epoch 93/100\n",
      "1563/1563 [==============================] - 15s 9ms/step - loss: 2.2496 - acc: 0.1399 - val_loss: 2.2512 - val_acc: 0.1260\n",
      "Epoch 94/100\n",
      "1563/1563 [==============================] - 15s 9ms/step - loss: 2.2493 - acc: 0.1414 - val_loss: 2.2492 - val_acc: 0.1390\n",
      "Epoch 95/100\n",
      "1563/1563 [==============================] - 14s 9ms/step - loss: 2.2496 - acc: 0.1406 - val_loss: 2.2524 - val_acc: 0.1380\n",
      "Epoch 96/100\n",
      "1563/1563 [==============================] - 14s 9ms/step - loss: 2.2492 - acc: 0.1407 - val_loss: 2.2497 - val_acc: 0.1310\n",
      "Epoch 97/100\n",
      "1563/1563 [==============================] - 14s 9ms/step - loss: 2.2494 - acc: 0.1400 - val_loss: 2.2495 - val_acc: 0.1350\n",
      "Epoch 98/100\n",
      "1563/1563 [==============================] - 14s 9ms/step - loss: 2.2489 - acc: 0.1406 - val_loss: 2.2513 - val_acc: 0.1350\n",
      "Epoch 99/100\n",
      "1563/1563 [==============================] - 14s 9ms/step - loss: 2.2495 - acc: 0.1399 - val_loss: 2.2534 - val_acc: 0.1280\n",
      "Epoch 100/100\n",
      "1563/1563 [==============================] - 14s 9ms/step - loss: 2.2496 - acc: 0.1414 - val_loss: 2.2529 - val_acc: 0.1250\n"
     ]
    }
   ],
   "source": [
    "history = model.fit(\n",
    "    train_dataset,\n",
    "    epochs=100, \n",
    "    validation_data=test_dataset\n",
    ")"
   ]
  },
  {
   "cell_type": "code",
   "execution_count": 9,
   "metadata": {},
   "outputs": [
    {
     "name": "stdout",
     "output_type": "stream",
     "text": [
      "16/16 - 1s - loss: 2.2529 - acc: 0.1250\n",
      "\n",
      "Точность на проверочных данных: 0.125\n"
     ]
    }
   ],
   "source": [
    "test_loss, test_acc = model.evaluate(test_dataset, verbose=2)\n",
    "\n",
    "print('\\nТочность на проверочных данных:', test_acc)"
   ]
  },
  {
   "cell_type": "code",
   "execution_count": 10,
   "metadata": {},
   "outputs": [],
   "source": [
    "def show_loss(history):\n",
    "    loss = history.history['loss']\n",
    "    val_loss = history.history['val_loss']\n",
    "    epochs = range(1, len(loss) + 1)\n",
    "    plt.plot(epochs, loss, 'bo', label='Training loss')\n",
    "    plt.plot(epochs, val_loss, 'b', label='Validation loss')\n",
    "    plt.xlabel('Epochs')\n",
    "    plt.ylabel('Loss')\n",
    "    plt.legend(['Train', 'Test'], loc='upper left')\n",
    "\n",
    "    plt.show()\n",
    "\n",
    "    plt.plot(history.history['acc'])\n",
    "    plt.plot(history.history['val_acc'])\n",
    "    plt.title('Model accuracy')\n",
    "    plt.ylabel('Accuracy')\n",
    "    plt.xlabel('Epoch')\n",
    "    plt.legend(['Train', 'Test'], loc='upper left')\n",
    "    plt.show()"
   ]
  },
  {
   "cell_type": "code",
   "execution_count": 11,
   "metadata": {},
   "outputs": [
    {
     "data": {
      "image/png": "[encoded data removed]",
      "text/plain": [
       "<Figure size 432x288 with 1 Axes>"
      ]
     },
     "metadata": {
      "needs_background": "light"
     },
     "output_type": "display_data"
    },
    {
     "data": {
      "image/png": "[encoded data removed]",
      "text/plain": [
       "<Figure size 432x288 with 1 Axes>"
      ]
     },
     "metadata": {
      "needs_background": "light"
     },
     "output_type": "display_data"
    }
   ],
   "source": [
    "show_loss(history)"
   ]
  },
  {
   "cell_type": "code",
   "execution_count": 12,
   "metadata": {},
   "outputs": [
    {
     "data": {
      "text/plain": [
       "(1000, 10)"
      ]
     },
     "execution_count": 12,
     "metadata": {},
     "output_type": "execute_result"
    }
   ],
   "source": [
    "y_pred = model.predict(x_test)\n",
    "y_pred.shape"
   ]
  },
  {
   "cell_type": "code",
   "execution_count": 15,
   "metadata": {},
   "outputs": [],
   "source": [
    "import itertools\n",
    "def plot_confusion_matrix(cm, class_names):\n",
    "  \"\"\"\n",
    "  Returns a matplotlib figure containing the plotted confusion matrix.\n",
    "\n",
    "  Args:\n",
    "    cm (array, shape = [n, n]): a confusion matrix of integer classes\n",
    "    class_names (array, shape = [n]): String names of the integer classes\n",
    "  \"\"\"\n",
    "  figure = plt.figure(figsize=(8, 8))\n",
    "  plt.imshow(cm, interpolation='nearest', cmap=plt.cm.Blues)\n",
    "  plt.title(\"Confusion matrix\")\n",
    "  plt.colorbar()\n",
    "  tick_marks = np.arange(len(class_names))\n",
    "  plt.xticks(tick_marks, class_names, rotation=45)\n",
    "  plt.yticks(tick_marks, class_names)\n",
    "\n",
    "  # Normalize the confusion matrix.\n",
    "  cm = np.around(cm.astype('float') / cm.sum(axis=1)[:, np.newaxis], decimals=2)\n",
    "\n",
    "  # Use white text if squares are dark; otherwise black.\n",
    "  threshold = cm.max() / 2.\n",
    "  for i, j in itertools.product(range(cm.shape[0]), range(cm.shape[1])):\n",
    "    color = \"white\" if cm[i, j] > threshold else \"black\"\n",
    "    plt.text(j, i, cm[i, j], horizontalalignment=\"center\", color=color)\n",
    "\n",
    "  plt.tight_layout()\n",
    "  plt.ylabel('True label')\n",
    "  plt.xlabel('Predicted label')\n",
    "  return figure"
   ]
  },
  {
   "cell_type": "code",
   "execution_count": 16,
   "metadata": {},
   "outputs": [],
   "source": [
    "con_mat = metrics.confusion_matrix(y_test, y_pred.argmax(axis=1))"
   ]
  },
  {
   "cell_type": "code",
   "execution_count": 17,
   "metadata": {},
   "outputs": [
    {
     "data": {
      "image/png": "[encoded data removed]",
      "text/plain": [
       "<Figure size 576x576 with 2 Axes>"
      ]
     },
     "execution_count": 17,
     "metadata": {},
     "output_type": "execute_result"
    },
    {
     "data": {
      "image/png": "[encoded data removed]",
      "text/plain": [
       "<Figure size 576x576 with 2 Axes>"
      ]
     },
     "metadata": {
      "needs_background": "light"
     },
     "output_type": "display_data"
    }
   ],
   "source": [
    "plot_confusion_matrix(con_mat, ['1', '2', '3', '4', '5', '6', '7', '8', '9', '10'])"
   ]
  },
  {
   "cell_type": "code",
   "execution_count": null,
   "metadata": {},
   "outputs": [],
   "source": []
  }
 ],
 "metadata": {
  "kernelspec": {
   "display_name": "Python 3",
   "language": "python",
   "name": "python3"
  },
  "language_info": {
   "codemirror_mode": {
    "name": "ipython",
    "version": 3
   },
   "file_extension": ".py",
   "mimetype": "text/x-python",
   "name": "python",
   "nbconvert_exporter": "python",
   "pygments_lexer": "ipython3",
   "version": "3.7.7"
  }
 },
 "nbformat": 4,
 "nbformat_minor": 4
}
