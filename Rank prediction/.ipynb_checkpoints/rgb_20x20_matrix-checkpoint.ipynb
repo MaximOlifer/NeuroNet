{
 "cells": [
  {
   "cell_type": "markdown",
   "metadata": {},
   "source": [
    "Генерируем случайную матрицу размера nxn фиксированного ранга r. Для начала, генерируем произвольную матрицу A и вычисляем ее сингулярное разложение. A=U*S*V"
   ]
  },
  {
   "cell_type": "code",
   "execution_count": 1,
   "metadata": {},
   "outputs": [
    {
     "data": {
      "text/plain": [
       "(10, 10)"
      ]
     },
     "execution_count": 1,
     "metadata": {},
     "output_type": "execute_result"
    }
   ],
   "source": [
    "import numpy as np\n",
    "n=10\n",
    "r=2\n",
    "a=np.random.rand(n,n)\n",
    "(u,s,v)=np.linalg.svd(a)\n",
    "a"
   ]
  },
  {
   "cell_type": "code",
   "execution_count": 2,
   "metadata": {},
   "outputs": [
    {
     "data": {
      "text/plain": [
       "10"
      ]
     },
     "execution_count": 2,
     "metadata": {},
     "output_type": "execute_result"
    }
   ],
   "source": [
    "np.linalg.matrix_rank(a)"
   ]
  },
  {
   "cell_type": "code",
   "execution_count": 3,
   "metadata": {},
   "outputs": [
    {
     "data": {
      "text/plain": [
       "array([5.08927325, 1.39001694, 1.29967144, 1.07892203, 0.77139686,\n",
       "       0.68018123, 0.49241182, 0.36104805, 0.26472254, 0.05640903])"
      ]
     },
     "execution_count": 3,
     "metadata": {},
     "output_type": "execute_result"
    }
   ],
   "source": [
    "s"
   ]
  },
  {
   "cell_type": "markdown",
   "metadata": {},
   "source": [
    "Вектор s -- сингулярные значения матрицы A. Теперь оставим в s только первые r значений, а остальные заменим 0."
   ]
  },
  {
   "cell_type": "code",
   "execution_count": 4,
   "metadata": {},
   "outputs": [],
   "source": [
    "s_cut=np.zeros(n)\n",
    "s_cut[:r]=s[:r]"
   ]
  },
  {
   "cell_type": "code",
   "execution_count": 5,
   "metadata": {},
   "outputs": [
    {
     "data": {
      "text/plain": [
       "array([5.08927325, 1.39001694, 0.        , 0.        , 0.        ,\n",
       "       0.        , 0.        , 0.        , 0.        , 0.        ])"
      ]
     },
     "execution_count": 5,
     "metadata": {},
     "output_type": "execute_result"
    }
   ],
   "source": [
    "s_cut"
   ]
  },
  {
   "cell_type": "markdown",
   "metadata": {},
   "source": [
    "Дальше восстановим по тем же формулам, но с урезанным s, матрицу A."
   ]
  },
  {
   "cell_type": "code",
   "execution_count": 6,
   "metadata": {},
   "outputs": [],
   "source": [
    "s_mat=np.diag(s_cut)\n",
    "a_new=u.dot(s_mat).dot(v)"
   ]
  },
  {
   "cell_type": "code",
   "execution_count": 7,
   "metadata": {},
   "outputs": [
    {
     "data": {
      "text/plain": [
       "(10, 10)"
      ]
     },
     "execution_count": 7,
     "metadata": {},
     "output_type": "execute_result"
    }
   ],
   "source": [
    "a_new.shape"
   ]
  },
  {
   "cell_type": "code",
   "execution_count": 8,
   "metadata": {},
   "outputs": [
    {
     "data": {
      "text/plain": [
       "2"
      ]
     },
     "execution_count": 8,
     "metadata": {},
     "output_type": "execute_result"
    }
   ],
   "source": [
    "np.linalg.matrix_rank(a_new)"
   ]
  },
  {
   "cell_type": "code",
   "execution_count": 9,
   "metadata": {},
   "outputs": [
    {
     "data": {
      "text/plain": [
       "array([[0.20947436, 0.61912177, 0.29032454, 0.49659149, 0.57635656,\n",
       "        0.68852136, 0.83273979, 0.33619584, 0.7026359 , 0.58022191],\n",
       "       [0.28090265, 0.54677421, 0.31903271, 0.40447244, 0.51034349,\n",
       "        0.55679029, 0.702029  , 0.35539266, 0.6218852 , 0.54788062],\n",
       "       [0.25645963, 0.6848941 , 0.33731884, 0.54055596, 0.63793055,\n",
       "        0.74844416, 0.9125926 , 0.38699282, 0.77763   , 0.6510061 ],\n",
       "       [0.59751642, 0.50085161, 0.51441789, 0.24957579, 0.47222391,\n",
       "        0.32814427, 0.52458486, 0.53299913, 0.57446397, 0.62765358],\n",
       "       [0.15350245, 0.63580548, 0.25790771, 0.53187487, 0.59102877,\n",
       "        0.74001692, 0.87663889, 0.30768203, 0.72069896, 0.57307511],\n",
       "       [0.42798448, 0.6175893 , 0.43264799, 0.41750897, 0.57798371,\n",
       "        0.56971932, 0.75439855, 0.46892569, 0.70399332, 0.65976976],\n",
       "       [0.69907786, 0.36476948, 0.54700116, 0.0879602 , 0.34759945,\n",
       "        0.09789588, 0.29014459, 0.54911133, 0.42211235, 0.55469682],\n",
       "       [0.29604701, 0.47152263, 0.31026316, 0.32968089, 0.44085597,\n",
       "        0.45139508, 0.58667175, 0.33929018, 0.53705691, 0.49237054],\n",
       "       [0.92233093, 0.48402925, 0.72237468, 0.11860488, 0.46117156,\n",
       "        0.13273993, 0.38685444, 0.72540447, 0.56004509, 0.73409014],\n",
       "       [0.18218089, 0.45630703, 0.23212709, 0.35612025, 0.42517558,\n",
       "        0.4925971 , 0.60406895, 0.26473233, 0.51825181, 0.43791334]])"
      ]
     },
     "execution_count": 9,
     "metadata": {},
     "output_type": "execute_result"
    }
   ],
   "source": [
    "a_new"
   ]
  },
  {
   "cell_type": "markdown",
   "metadata": {},
   "source": [
    "Форма правильная, в ячйках значения от 0 до 1, ранг -- искомый."
   ]
  },
  {
   "cell_type": "markdown",
   "metadata": {},
   "source": [
    "Палитры можно использовать разные. В статье наиболее перспективной оказалась 'jet'."
   ]
  },
  {
   "cell_type": "code",
   "execution_count": 11,
   "metadata": {},
   "outputs": [
    {
     "data": {
      "text/plain": [
       "<matplotlib.image.AxesImage at 0x1484e24bec8>"
      ]
     },
     "execution_count": 11,
     "metadata": {},
     "output_type": "execute_result"
    },
    {
     "data": {
      "image/png": "[encoded data removed]",
      "text/plain": [
       "<Figure size 432x288 with 1 Axes>"
      ]
     },
     "metadata": {
      "needs_background": "light"
     },
     "output_type": "display_data"
    }
   ],
   "source": [
    "plt.imshow(a_new, cmap='gray', origin = 'lower',  extent = [0, 100, 0, 100],interpolation='nearest')"
   ]
  },
  {
   "cell_type": "code",
   "execution_count": 14,
   "metadata": {},
   "outputs": [
    {
     "data": {
      "image/png": "[encoded data removed]",
      "text/plain": [
       "<Figure size 432x288 with 1 Axes>"
      ]
     },
     "metadata": {
      "needs_background": "light"
     },
     "output_type": "display_data"
    }
   ],
   "source": [
    "a = plt.imshow(a_new, cmap='jet', origin = 'lower',  extent = [0, 100, 0, 100],interpolation='nearest')\n",
    "data = a.get_array()"
   ]
  },
  {
   "cell_type": "markdown",
   "metadata": {},
   "source": [
    "Осталось сгенирировать достаточное число образцов. "
   ]
  },
  {
   "cell_type": "markdown",
   "metadata": {},
   "source": [
    "## Генерация датасета"
   ]
  },
  {
   "cell_type": "code",
   "execution_count": 2,
   "metadata": {},
   "outputs": [],
   "source": [
    "import numpy as np\n",
    "import matplotlib.pyplot as plt\n",
    "import cv2"
   ]
  },
  {
   "cell_type": "markdown",
   "metadata": {},
   "source": [
    "Генерация"
   ]
  },
  {
   "cell_type": "code",
   "execution_count": 3,
   "metadata": {},
   "outputs": [],
   "source": [
    "def generate_image(n, r):\n",
    "    a=np.random.rand(n,n)\n",
    "    (u,s,v)=np.linalg.svd(a)\n",
    "\n",
    "    s_cut=np.zeros(n)\n",
    "    s_cut[:r]=s[:r]\n",
    "\n",
    "    s_mat=np.diag(s_cut)\n",
    "\n",
    "    a_new=u.dot(s_mat).dot(v)\n",
    "    \n",
    "    image = a_new\n",
    "    #image = cv2.resize(image, (100, 100), interpolation=cv2.INTER_NEAREST)\n",
    "    image = np.uint8(255 * image)\n",
    "    image = cv2.applyColorMap(image, cv2.COLORMAP_JET)\n",
    "    return image"
   ]
  },
  {
   "cell_type": "code",
   "execution_count": 4,
   "metadata": {},
   "outputs": [],
   "source": [
    "N = 10000\n",
    "file_size = 100\n",
    "n = 10\n",
    "\n",
    "images = np.zeros((N*10, 10, 10, 3))\n",
    "labels = np.zeros((N*10))\n",
    "for i in range(N):\n",
    "    for r in range(1, 11):\n",
    "        image = generate_image(n, r)\n",
    "\n",
    "        images[10*i+r-1] = image\n",
    "        labels[10*i+r-1] = r-1"
   ]
  },
  {
   "cell_type": "code",
   "execution_count": 5,
   "metadata": {},
   "outputs": [],
   "source": [
    "N_test = 100\n",
    "file_size = 100\n",
    "n = 10\n",
    "\n",
    "test_images = np.zeros((N_test*10, 10, 10, 3))\n",
    "test_labels = np.zeros((N_test*10))\n",
    "for i in range(N_test):\n",
    "    for r in range(1, 11):\n",
    "        image = generate_image(n, r)\n",
    "\n",
    "        test_images[10*i+r-1] = image\n",
    "        test_labels[10*i+r-1] = r-1"
   ]
  },
  {
   "cell_type": "code",
   "execution_count": 6,
   "metadata": {},
   "outputs": [
    {
     "data": {
      "text/plain": [
       "(100000, 10, 10, 3)"
      ]
     },
     "execution_count": 6,
     "metadata": {},
     "output_type": "execute_result"
    }
   ],
   "source": [
    "images.shape"
   ]
  },
  {
   "cell_type": "code",
   "execution_count": 7,
   "metadata": {},
   "outputs": [
    {
     "data": {
      "text/plain": [
       "(1000, 10, 10, 3)"
      ]
     },
     "execution_count": 7,
     "metadata": {},
     "output_type": "execute_result"
    }
   ],
   "source": [
    "test_images.shape"
   ]
  },
  {
   "cell_type": "code",
   "execution_count": 8,
   "metadata": {},
   "outputs": [
    {
     "data": {
      "text/plain": [
       "array([0., 1., 2., 3., 4., 5., 6., 7., 8., 9., 0., 1., 2., 3., 4., 5., 6.,\n",
       "       7., 8., 9., 0., 1., 2., 3., 4., 5., 6., 7., 8., 9., 0., 1., 2., 3.,\n",
       "       4., 5., 6., 7., 8., 9., 0., 1., 2., 3., 4., 5., 6., 7., 8., 9., 0.,\n",
       "       1., 2., 3., 4., 5., 6., 7., 8., 9., 0., 1., 2., 3., 4., 5., 6., 7.,\n",
       "       8., 9., 0., 1., 2., 3., 4., 5., 6., 7., 8., 9., 0., 1., 2., 3., 4.,\n",
       "       5., 6., 7., 8., 9., 0., 1., 2., 3., 4., 5., 6., 7., 8., 9., 0., 1.,\n",
       "       2., 3., 4., 5., 6., 7., 8., 9., 0., 1., 2., 3., 4., 5., 6., 7., 8.,\n",
       "       9., 0., 1., 2., 3., 4., 5., 6., 7., 8., 9., 0., 1., 2., 3., 4., 5.,\n",
       "       6., 7., 8., 9., 0., 1., 2., 3., 4., 5., 6., 7., 8., 9., 0., 1., 2.,\n",
       "       3., 4., 5., 6., 7., 8., 9., 0., 1., 2., 3., 4., 5., 6., 7., 8., 9.,\n",
       "       0., 1., 2., 3., 4., 5., 6., 7., 8., 9., 0., 1., 2., 3., 4., 5., 6.,\n",
       "       7., 8., 9., 0., 1., 2., 3., 4., 5., 6., 7., 8., 9., 0., 1., 2., 3.,\n",
       "       4., 5., 6., 7., 8., 9., 0., 1., 2., 3., 4., 5., 6., 7., 8., 9., 0.,\n",
       "       1., 2., 3., 4., 5., 6., 7., 8., 9., 0., 1., 2., 3., 4., 5., 6., 7.,\n",
       "       8., 9., 0., 1., 2., 3., 4., 5., 6., 7., 8., 9., 0., 1., 2., 3., 4.,\n",
       "       5., 6., 7., 8., 9., 0., 1., 2., 3., 4., 5., 6., 7., 8., 9., 0., 1.,\n",
       "       2., 3., 4., 5., 6., 7., 8., 9., 0., 1., 2., 3., 4., 5., 6., 7., 8.,\n",
       "       9., 0., 1., 2., 3., 4., 5., 6., 7., 8., 9., 0., 1., 2., 3., 4., 5.,\n",
       "       6., 7., 8., 9., 0., 1., 2., 3., 4., 5., 6., 7., 8., 9., 0., 1., 2.,\n",
       "       3., 4., 5., 6., 7., 8., 9., 0., 1., 2., 3., 4., 5., 6., 7., 8., 9.,\n",
       "       0., 1., 2., 3., 4., 5., 6., 7., 8., 9., 0., 1., 2., 3., 4., 5., 6.,\n",
       "       7., 8., 9., 0., 1., 2., 3., 4., 5., 6., 7., 8., 9., 0., 1., 2., 3.,\n",
       "       4., 5., 6., 7., 8., 9., 0., 1., 2., 3., 4., 5., 6., 7., 8., 9., 0.,\n",
       "       1., 2., 3., 4., 5., 6., 7., 8., 9., 0., 1., 2., 3., 4., 5., 6., 7.,\n",
       "       8., 9., 0., 1., 2., 3., 4., 5., 6., 7., 8., 9., 0., 1., 2., 3., 4.,\n",
       "       5., 6., 7., 8., 9., 0., 1., 2., 3., 4., 5., 6., 7., 8., 9., 0., 1.,\n",
       "       2., 3., 4., 5., 6., 7., 8., 9., 0., 1., 2., 3., 4., 5., 6., 7., 8.,\n",
       "       9., 0., 1., 2., 3., 4., 5., 6., 7., 8., 9., 0., 1., 2., 3., 4., 5.,\n",
       "       6., 7., 8., 9., 0., 1., 2., 3., 4., 5., 6., 7., 8., 9., 0., 1., 2.,\n",
       "       3., 4., 5., 6., 7., 8., 9., 0., 1., 2., 3., 4., 5., 6., 7., 8., 9.,\n",
       "       0., 1., 2., 3., 4., 5., 6., 7., 8., 9., 0., 1., 2., 3., 4., 5., 6.,\n",
       "       7., 8., 9., 0., 1., 2., 3., 4., 5., 6., 7., 8., 9., 0., 1., 2., 3.,\n",
       "       4., 5., 6., 7., 8., 9., 0., 1., 2., 3., 4., 5., 6., 7., 8., 9., 0.,\n",
       "       1., 2., 3., 4., 5., 6., 7., 8., 9., 0., 1., 2., 3., 4., 5., 6., 7.,\n",
       "       8., 9., 0., 1., 2., 3., 4., 5., 6., 7., 8., 9., 0., 1., 2., 3., 4.,\n",
       "       5., 6., 7., 8., 9., 0., 1., 2., 3., 4., 5., 6., 7., 8., 9., 0., 1.,\n",
       "       2., 3., 4., 5., 6., 7., 8., 9., 0., 1., 2., 3., 4., 5., 6., 7., 8.,\n",
       "       9., 0., 1., 2., 3., 4., 5., 6., 7., 8., 9., 0., 1., 2., 3., 4., 5.,\n",
       "       6., 7., 8., 9., 0., 1., 2., 3., 4., 5., 6., 7., 8., 9., 0., 1., 2.,\n",
       "       3., 4., 5., 6., 7., 8., 9., 0., 1., 2., 3., 4., 5., 6., 7., 8., 9.,\n",
       "       0., 1., 2., 3., 4., 5., 6., 7., 8., 9., 0., 1., 2., 3., 4., 5., 6.,\n",
       "       7., 8., 9., 0., 1., 2., 3., 4., 5., 6., 7., 8., 9., 0., 1., 2., 3.,\n",
       "       4., 5., 6., 7., 8., 9., 0., 1., 2., 3., 4., 5., 6., 7., 8., 9., 0.,\n",
       "       1., 2., 3., 4., 5., 6., 7., 8., 9., 0., 1., 2., 3., 4., 5., 6., 7.,\n",
       "       8., 9., 0., 1., 2., 3., 4., 5., 6., 7., 8., 9., 0., 1., 2., 3., 4.,\n",
       "       5., 6., 7., 8., 9., 0., 1., 2., 3., 4., 5., 6., 7., 8., 9., 0., 1.,\n",
       "       2., 3., 4., 5., 6., 7., 8., 9., 0., 1., 2., 3., 4., 5., 6., 7., 8.,\n",
       "       9., 0., 1., 2., 3., 4., 5., 6., 7., 8., 9., 0., 1., 2., 3., 4., 5.,\n",
       "       6., 7., 8., 9., 0., 1., 2., 3., 4., 5., 6., 7., 8., 9., 0., 1., 2.,\n",
       "       3., 4., 5., 6., 7., 8., 9., 0., 1., 2., 3., 4., 5., 6., 7., 8., 9.,\n",
       "       0., 1., 2., 3., 4., 5., 6., 7., 8., 9., 0., 1., 2., 3., 4., 5., 6.,\n",
       "       7., 8., 9., 0., 1., 2., 3., 4., 5., 6., 7., 8., 9., 0., 1., 2., 3.,\n",
       "       4., 5., 6., 7., 8., 9., 0., 1., 2., 3., 4., 5., 6., 7., 8., 9., 0.,\n",
       "       1., 2., 3., 4., 5., 6., 7., 8., 9., 0., 1., 2., 3., 4., 5., 6., 7.,\n",
       "       8., 9., 0., 1., 2., 3., 4., 5., 6., 7., 8., 9., 0., 1., 2., 3., 4.,\n",
       "       5., 6., 7., 8., 9., 0., 1., 2., 3., 4., 5., 6., 7., 8., 9., 0., 1.,\n",
       "       2., 3., 4., 5., 6., 7., 8., 9., 0., 1., 2., 3., 4., 5., 6., 7., 8.,\n",
       "       9., 0., 1., 2., 3., 4., 5., 6., 7., 8., 9., 0., 1., 2., 3., 4., 5.,\n",
       "       6., 7., 8., 9., 0., 1., 2., 3., 4., 5., 6., 7., 8., 9.])"
      ]
     },
     "execution_count": 8,
     "metadata": {},
     "output_type": "execute_result"
    }
   ],
   "source": [
    "test_labels"
   ]
  },
  {
   "cell_type": "markdown",
   "metadata": {},
   "source": [
    "Перемешивание"
   ]
  },
  {
   "cell_type": "code",
   "execution_count": 9,
   "metadata": {},
   "outputs": [],
   "source": [
    "def unison_shuffled_copies(a, b):\n",
    "    assert len(a) == len(b)\n",
    "    p = np.random.permutation(len(a))\n",
    "    return a[p], b[p]"
   ]
  },
  {
   "cell_type": "code",
   "execution_count": 10,
   "metadata": {},
   "outputs": [],
   "source": [
    "images, labels = unison_shuffled_copies(images, labels)\n",
    "test_images, test_labels = unison_shuffled_copies(test_images, test_labels)"
   ]
  },
  {
   "cell_type": "markdown",
   "metadata": {},
   "source": [
    "Сохранение"
   ]
  },
  {
   "cell_type": "code",
   "execution_count": 11,
   "metadata": {},
   "outputs": [],
   "source": [
    "np.savez(\n",
    "    \"rank_prediction_small_matrix_rgb.npz\", \n",
    "    x_train=images, \n",
    "    y_train=labels,\n",
    "    x_test=test_images,\n",
    "    y_test=test_labels\n",
    ")"
   ]
  },
  {
   "cell_type": "markdown",
   "metadata": {},
   "source": [
    "## Обучение модели"
   ]
  },
  {
   "cell_type": "code",
   "execution_count": 12,
   "metadata": {},
   "outputs": [
    {
     "name": "stderr",
     "output_type": "stream",
     "text": [
      "D:\\Users\\maxim\\Anaconda3\\envs\\maxim\\lib\\site-packages\\tensorflow\\python\\framework\\dtypes.py:516: FutureWarning: Passing (type, 1) or '1type' as a synonym of type is deprecated; in a future version of numpy, it will be understood as (type, (1,)) / '(1,)type'.\n",
      "  _np_qint8 = np.dtype([(\"qint8\", np.int8, 1)])\n",
      "D:\\Users\\maxim\\Anaconda3\\envs\\maxim\\lib\\site-packages\\tensorflow\\python\\framework\\dtypes.py:517: FutureWarning: Passing (type, 1) or '1type' as a synonym of type is deprecated; in a future version of numpy, it will be understood as (type, (1,)) / '(1,)type'.\n",
      "  _np_quint8 = np.dtype([(\"quint8\", np.uint8, 1)])\n",
      "D:\\Users\\maxim\\Anaconda3\\envs\\maxim\\lib\\site-packages\\tensorflow\\python\\framework\\dtypes.py:518: FutureWarning: Passing (type, 1) or '1type' as a synonym of type is deprecated; in a future version of numpy, it will be understood as (type, (1,)) / '(1,)type'.\n",
      "  _np_qint16 = np.dtype([(\"qint16\", np.int16, 1)])\n",
      "D:\\Users\\maxim\\Anaconda3\\envs\\maxim\\lib\\site-packages\\tensorflow\\python\\framework\\dtypes.py:519: FutureWarning: Passing (type, 1) or '1type' as a synonym of type is deprecated; in a future version of numpy, it will be understood as (type, (1,)) / '(1,)type'.\n",
      "  _np_quint16 = np.dtype([(\"quint16\", np.uint16, 1)])\n",
      "D:\\Users\\maxim\\Anaconda3\\envs\\maxim\\lib\\site-packages\\tensorflow\\python\\framework\\dtypes.py:520: FutureWarning: Passing (type, 1) or '1type' as a synonym of type is deprecated; in a future version of numpy, it will be understood as (type, (1,)) / '(1,)type'.\n",
      "  _np_qint32 = np.dtype([(\"qint32\", np.int32, 1)])\n",
      "D:\\Users\\maxim\\Anaconda3\\envs\\maxim\\lib\\site-packages\\tensorflow\\python\\framework\\dtypes.py:525: FutureWarning: Passing (type, 1) or '1type' as a synonym of type is deprecated; in a future version of numpy, it will be understood as (type, (1,)) / '(1,)type'.\n",
      "  np_resource = np.dtype([(\"resource\", np.ubyte, 1)])\n",
      "D:\\Users\\maxim\\Anaconda3\\envs\\maxim\\lib\\site-packages\\tensorboard\\compat\\tensorflow_stub\\dtypes.py:541: FutureWarning: Passing (type, 1) or '1type' as a synonym of type is deprecated; in a future version of numpy, it will be understood as (type, (1,)) / '(1,)type'.\n",
      "  _np_qint8 = np.dtype([(\"qint8\", np.int8, 1)])\n",
      "D:\\Users\\maxim\\Anaconda3\\envs\\maxim\\lib\\site-packages\\tensorboard\\compat\\tensorflow_stub\\dtypes.py:542: FutureWarning: Passing (type, 1) or '1type' as a synonym of type is deprecated; in a future version of numpy, it will be understood as (type, (1,)) / '(1,)type'.\n",
      "  _np_quint8 = np.dtype([(\"quint8\", np.uint8, 1)])\n",
      "D:\\Users\\maxim\\Anaconda3\\envs\\maxim\\lib\\site-packages\\tensorboard\\compat\\tensorflow_stub\\dtypes.py:543: FutureWarning: Passing (type, 1) or '1type' as a synonym of type is deprecated; in a future version of numpy, it will be understood as (type, (1,)) / '(1,)type'.\n",
      "  _np_qint16 = np.dtype([(\"qint16\", np.int16, 1)])\n",
      "D:\\Users\\maxim\\Anaconda3\\envs\\maxim\\lib\\site-packages\\tensorboard\\compat\\tensorflow_stub\\dtypes.py:544: FutureWarning: Passing (type, 1) or '1type' as a synonym of type is deprecated; in a future version of numpy, it will be understood as (type, (1,)) / '(1,)type'.\n",
      "  _np_quint16 = np.dtype([(\"quint16\", np.uint16, 1)])\n",
      "D:\\Users\\maxim\\Anaconda3\\envs\\maxim\\lib\\site-packages\\tensorboard\\compat\\tensorflow_stub\\dtypes.py:545: FutureWarning: Passing (type, 1) or '1type' as a synonym of type is deprecated; in a future version of numpy, it will be understood as (type, (1,)) / '(1,)type'.\n",
      "  _np_qint32 = np.dtype([(\"qint32\", np.int32, 1)])\n",
      "D:\\Users\\maxim\\Anaconda3\\envs\\maxim\\lib\\site-packages\\tensorboard\\compat\\tensorflow_stub\\dtypes.py:550: FutureWarning: Passing (type, 1) or '1type' as a synonym of type is deprecated; in a future version of numpy, it will be understood as (type, (1,)) / '(1,)type'.\n",
      "  np_resource = np.dtype([(\"resource\", np.ubyte, 1)])\n",
      "Using TensorFlow backend.\n"
     ]
    }
   ],
   "source": [
    "import numpy as np\n",
    "import matplotlib.pyplot as plt\n",
    "import tensorflow as tf\n",
    "from tensorflow import keras\n",
    "from sklearn import metrics\n",
    "from tensorflow.keras.regularizers import l1_l2"
   ]
  },
  {
   "cell_type": "markdown",
   "metadata": {},
   "source": [
    "Загрузка данных"
   ]
  },
  {
   "cell_type": "code",
   "execution_count": 13,
   "metadata": {},
   "outputs": [],
   "source": [
    "with np.load(\"rank_prediction_small_matrix_rgb.npz\") as data:\n",
    "    x_train = data[\"x_train\"]\n",
    "    y_train = data[\"y_train\"]\n",
    "    x_test = data[\"x_test\"]\n",
    "    y_test = data[\"y_test\"]"
   ]
  },
  {
   "cell_type": "markdown",
   "metadata": {},
   "source": [
    "Нормализация"
   ]
  },
  {
   "cell_type": "code",
   "execution_count": 14,
   "metadata": {},
   "outputs": [],
   "source": [
    "x_train = keras.utils.normalize(x_train)\n",
    "x_test = keras.utils.normalize(x_test)"
   ]
  },
  {
   "cell_type": "markdown",
   "metadata": {},
   "source": [
    "Подготовка"
   ]
  },
  {
   "cell_type": "code",
   "execution_count": 18,
   "metadata": {},
   "outputs": [],
   "source": [
    "train_dataset = tf.data.Dataset.from_tensor_slices((x_train, y_train))\n",
    "test_dataset = tf.data.Dataset.from_tensor_slices((x_test, y_test))"
   ]
  },
  {
   "cell_type": "code",
   "execution_count": 19,
   "metadata": {},
   "outputs": [],
   "source": [
    "BATCH_SIZE = 128\n",
    "SHUFFLE_BUFFER_SIZE = 100\n",
    "\n",
    "train_dataset = train_dataset.shuffle(SHUFFLE_BUFFER_SIZE).batch(BATCH_SIZE)\n",
    "test_dataset = test_dataset.batch(BATCH_SIZE)"
   ]
  },
  {
   "cell_type": "markdown",
   "metadata": {},
   "source": [
    "Создание модели"
   ]
  },
  {
   "cell_type": "code",
   "execution_count": 28,
   "metadata": {},
   "outputs": [
    {
     "name": "stdout",
     "output_type": "stream",
     "text": [
      "Model: \"model_2\"\n",
      "_________________________________________________________________\n",
      "Layer (type)                 Output Shape              Param #   \n",
      "=================================================================\n",
      "input_5 (InputLayer)         [(None, 10, 10, 3)]       0         \n",
      "_________________________________________________________________\n",
      "conv2d_10 (Conv2D)           (None, 8, 8, 32)          896       \n",
      "_________________________________________________________________\n",
      "batch_normalization_10 (Batc (None, 8, 8, 32)          128       \n",
      "_________________________________________________________________\n",
      "leaky_re_lu_10 (LeakyReLU)   (None, 8, 8, 32)          0         \n",
      "_________________________________________________________________\n",
      "dropout_8 (Dropout)          (None, 8, 8, 32)          0         \n",
      "_________________________________________________________________\n",
      "conv2d_11 (Conv2D)           (None, 6, 6, 64)          18496     \n",
      "_________________________________________________________________\n",
      "batch_normalization_11 (Batc (None, 6, 6, 64)          256       \n",
      "_________________________________________________________________\n",
      "leaky_re_lu_11 (LeakyReLU)   (None, 6, 6, 64)          0         \n",
      "_________________________________________________________________\n",
      "dropout_9 (Dropout)          (None, 6, 6, 64)          0         \n",
      "_________________________________________________________________\n",
      "conv2d_12 (Conv2D)           (None, 4, 4, 512)         295424    \n",
      "_________________________________________________________________\n",
      "batch_normalization_12 (Batc (None, 4, 4, 512)         2048      \n",
      "_________________________________________________________________\n",
      "leaky_re_lu_12 (LeakyReLU)   (None, 4, 4, 512)         0         \n",
      "_________________________________________________________________\n",
      "flatten_2 (Flatten)          (None, 8192)              0         \n",
      "_________________________________________________________________\n",
      "dense_4 (Dense)              (None, 512)               4194816   \n",
      "_________________________________________________________________\n",
      "batch_normalization_13 (Batc (None, 512)               2048      \n",
      "_________________________________________________________________\n",
      "leaky_re_lu_13 (LeakyReLU)   (None, 512)               0         \n",
      "_________________________________________________________________\n",
      "dropout_10 (Dropout)         (None, 512)               0         \n",
      "_________________________________________________________________\n",
      "dense_5 (Dense)              (None, 10)                5130      \n",
      "=================================================================\n",
      "Total params: 4,519,242\n",
      "Trainable params: 4,517,002\n",
      "Non-trainable params: 2,240\n",
      "_________________________________________________________________\n"
     ]
    }
   ],
   "source": [
    "model_input = keras.layers.Input(shape=(10,10,3))\n",
    "\n",
    "x = keras.layers.Conv2D(32, (3, 3), kernel_regularizer=l1_l2(l1=1e-5, l2=1e-4))(model_input)\n",
    "x = keras.layers.BatchNormalization()(x)\n",
    "x = keras.layers.LeakyReLU()(x)\n",
    "x = keras.layers.Dropout(0.4)(x)\n",
    "\n",
    "x = keras.layers.Conv2D(64, (3, 3), kernel_regularizer=l1_l2(l1=1e-5, l2=1e-4))(x)\n",
    "x = keras.layers.BatchNormalization()(x)\n",
    "x = keras.layers.LeakyReLU()(x)\n",
    "x = keras.layers.Dropout(0.4)(x)\n",
    "\n",
    "x = keras.layers.Conv2D(512, (3, 3), kernel_regularizer=l1_l2(l1=1e-5, l2=1e-4))(x)\n",
    "x = keras.layers.BatchNormalization()(x)\n",
    "x = keras.layers.LeakyReLU()(x)\n",
    "x = keras.layers.Dropout(0.4)(x)\n",
    "\n",
    "x = keras.layers.Flatten()(x)\n",
    "x = keras.layers.Dense(512, kernel_regularizer=l1_l2(l1=1e-5, l2=1e-4))(x)\n",
    "x = keras.layers.BatchNormalization()(x)\n",
    "x = keras.layers.LeakyReLU()(x)\n",
    "x = keras.layers.Dropout(0.4)(x)\n",
    "\n",
    "x = keras.layers.Dense(10, activation=\"softmax\")(x)\n",
    "model = keras.models.Model(model_input, x)\n",
    "\n",
    "model.summary()"
   ]
  },
  {
   "cell_type": "code",
   "execution_count": 29,
   "metadata": {},
   "outputs": [],
   "source": [
    "model.compile(optimizer='adam',\n",
    "              loss='sparse_categorical_crossentropy',\n",
    "              metrics=['accuracy'])"
   ]
  },
  {
   "cell_type": "markdown",
   "metadata": {},
   "source": [
    "Обучение"
   ]
  },
  {
   "cell_type": "code",
   "execution_count": 30,
   "metadata": {},
   "outputs": [
    {
     "name": "stdout",
     "output_type": "stream",
     "text": [
      "Epoch 1/100\n",
      "782/782 [==============================] - 24s 31ms/step - loss: 2.0564 - acc: 0.3789 - val_loss: 1.6403 - val_acc: 0.4350\n",
      "Epoch 2/100\n",
      "782/782 [==============================] - 10s 13ms/step - loss: 1.5761 - acc: 0.4153 - val_loss: 1.5000 - val_acc: 0.4340\n",
      "Epoch 3/100\n",
      "782/782 [==============================] - 10s 13ms/step - loss: 1.5087 - acc: 0.4230 - val_loss: 1.4467 - val_acc: 0.4540\n",
      "Epoch 4/100\n",
      "782/782 [==============================] - 10s 13ms/step - loss: 1.4902 - acc: 0.4263 - val_loss: 1.4991 - val_acc: 0.4400\n",
      "Epoch 5/100\n",
      "782/782 [==============================] - 11s 14ms/step - loss: 1.4823 - acc: 0.4277 - val_loss: 1.4228 - val_acc: 0.4520\n",
      "Epoch 6/100\n",
      "782/782 [==============================] - 10s 13ms/step - loss: 1.4704 - acc: 0.4318 - val_loss: 1.4116 - val_acc: 0.4490\n",
      "Epoch 7/100\n",
      "782/782 [==============================] - 10s 13ms/step - loss: 1.4518 - acc: 0.4345 - val_loss: 1.3918 - val_acc: 0.4570\n",
      "Epoch 8/100\n",
      "782/782 [==============================] - 10s 13ms/step - loss: 1.4273 - acc: 0.4372 - val_loss: 1.3695 - val_acc: 0.4410\n",
      "Epoch 9/100\n",
      "782/782 [==============================] - 10s 13ms/step - loss: 1.4111 - acc: 0.4376 - val_loss: 1.3256 - val_acc: 0.4690\n",
      "Epoch 10/100\n",
      "782/782 [==============================] - 10s 13ms/step - loss: 1.3973 - acc: 0.4393 - val_loss: 1.3535 - val_acc: 0.4440\n",
      "Epoch 11/100\n",
      "782/782 [==============================] - 10s 13ms/step - loss: 1.3836 - acc: 0.4414 - val_loss: 1.3260 - val_acc: 0.4550\n",
      "Epoch 12/100\n",
      "782/782 [==============================] - 10s 13ms/step - loss: 1.3760 - acc: 0.4448 - val_loss: 1.3057 - val_acc: 0.4570\n",
      "Epoch 13/100\n",
      "782/782 [==============================] - 11s 14ms/step - loss: 1.3717 - acc: 0.4416 - val_loss: 1.3153 - val_acc: 0.4490\n",
      "Epoch 14/100\n",
      "782/782 [==============================] - 11s 14ms/step - loss: 1.3677 - acc: 0.4445 - val_loss: 1.2882 - val_acc: 0.4560\n",
      "Epoch 15/100\n",
      "782/782 [==============================] - 10s 13ms/step - loss: 1.3617 - acc: 0.4469 - val_loss: 1.2896 - val_acc: 0.4630\n",
      "Epoch 16/100\n",
      "782/782 [==============================] - 10s 13ms/step - loss: 1.3591 - acc: 0.4466 - val_loss: 1.2857 - val_acc: 0.4720\n",
      "Epoch 17/100\n",
      "782/782 [==============================] - 11s 14ms/step - loss: 1.3541 - acc: 0.4474 - val_loss: 1.2763 - val_acc: 0.4530\n",
      "Epoch 18/100\n",
      "782/782 [==============================] - 10s 13ms/step - loss: 1.3499 - acc: 0.4489 - val_loss: 1.2713 - val_acc: 0.4580\n",
      "Epoch 19/100\n",
      "782/782 [==============================] - 10s 13ms/step - loss: 1.3511 - acc: 0.4474 - val_loss: 1.2673 - val_acc: 0.4740\n",
      "Epoch 20/100\n",
      "782/782 [==============================] - 11s 14ms/step - loss: 1.3445 - acc: 0.4492 - val_loss: 1.2733 - val_acc: 0.4660\n",
      "Epoch 21/100\n",
      "782/782 [==============================] - 10s 13ms/step - loss: 1.3448 - acc: 0.4491 - val_loss: 1.2793 - val_acc: 0.4660\n",
      "Epoch 22/100\n",
      "782/782 [==============================] - 10s 13ms/step - loss: 1.3407 - acc: 0.4493 - val_loss: 1.2855 - val_acc: 0.4680\n",
      "Epoch 23/100\n",
      "782/782 [==============================] - 10s 13ms/step - loss: 1.3409 - acc: 0.4484 - val_loss: 1.2655 - val_acc: 0.4720\n",
      "Epoch 24/100\n",
      "782/782 [==============================] - 10s 13ms/step - loss: 1.3359 - acc: 0.4492 - val_loss: 1.2553 - val_acc: 0.4750\n",
      "Epoch 25/100\n",
      "782/782 [==============================] - 10s 13ms/step - loss: 1.3370 - acc: 0.4508 - val_loss: 1.2563 - val_acc: 0.4820\n",
      "Epoch 26/100\n",
      "782/782 [==============================] - 10s 13ms/step - loss: 1.3355 - acc: 0.4527 - val_loss: 1.2848 - val_acc: 0.4670\n",
      "Epoch 27/100\n",
      "782/782 [==============================] - 10s 13ms/step - loss: 1.3356 - acc: 0.4509 - val_loss: 1.2677 - val_acc: 0.4770\n",
      "Epoch 28/100\n",
      "782/782 [==============================] - 10s 13ms/step - loss: 1.3333 - acc: 0.4503 - val_loss: 1.2605 - val_acc: 0.4660\n",
      "Epoch 29/100\n",
      "782/782 [==============================] - 10s 13ms/step - loss: 1.3314 - acc: 0.4528 - val_loss: 1.2584 - val_acc: 0.4690\n",
      "Epoch 30/100\n",
      "782/782 [==============================] - 10s 13ms/step - loss: 1.3261 - acc: 0.4537 - val_loss: 1.2867 - val_acc: 0.4570\n",
      "Epoch 31/100\n",
      "782/782 [==============================] - 10s 13ms/step - loss: 1.3282 - acc: 0.4521 - val_loss: 1.2641 - val_acc: 0.4630\n",
      "Epoch 32/100\n",
      "782/782 [==============================] - 10s 13ms/step - loss: 1.3256 - acc: 0.4539 - val_loss: 1.2629 - val_acc: 0.4760\n",
      "Epoch 33/100\n",
      "782/782 [==============================] - 10s 13ms/step - loss: 1.3258 - acc: 0.4526 - val_loss: 1.2540 - val_acc: 0.4770\n",
      "Epoch 34/100\n",
      "782/782 [==============================] - 10s 13ms/step - loss: 1.3247 - acc: 0.4540 - val_loss: 1.2659 - val_acc: 0.4660\n",
      "Epoch 35/100\n",
      "782/782 [==============================] - 10s 13ms/step - loss: 1.3224 - acc: 0.4535 - val_loss: 1.2559 - val_acc: 0.4650\n",
      "Epoch 36/100\n",
      "782/782 [==============================] - 10s 13ms/step - loss: 1.3247 - acc: 0.4542 - val_loss: 1.2680 - val_acc: 0.4680\n",
      "Epoch 37/100\n",
      "782/782 [==============================] - 11s 14ms/step - loss: 1.3256 - acc: 0.4538 - val_loss: 1.2659 - val_acc: 0.4780\n",
      "Epoch 38/100\n",
      "782/782 [==============================] - 10s 13ms/step - loss: 1.3218 - acc: 0.4537 - val_loss: 1.2494 - val_acc: 0.4810\n",
      "Epoch 39/100\n",
      "782/782 [==============================] - 10s 13ms/step - loss: 1.3176 - acc: 0.4559 - val_loss: 1.2455 - val_acc: 0.4750\n",
      "Epoch 40/100\n",
      "782/782 [==============================] - 10s 13ms/step - loss: 1.3190 - acc: 0.4535 - val_loss: 1.2557 - val_acc: 0.4770\n",
      "Epoch 41/100\n",
      "782/782 [==============================] - 11s 14ms/step - loss: 1.3183 - acc: 0.4535 - val_loss: 1.2526 - val_acc: 0.4650\n",
      "Epoch 42/100\n",
      "782/782 [==============================] - 11s 14ms/step - loss: 1.3185 - acc: 0.4549 - val_loss: 1.2436 - val_acc: 0.4730\n",
      "Epoch 43/100\n",
      "782/782 [==============================] - 10s 13ms/step - loss: 1.3159 - acc: 0.4569 - val_loss: 1.2411 - val_acc: 0.4740\n",
      "Epoch 44/100\n",
      "782/782 [==============================] - 10s 13ms/step - loss: 1.3168 - acc: 0.4561 - val_loss: 1.2514 - val_acc: 0.4740\n",
      "Epoch 45/100\n",
      "782/782 [==============================] - 11s 13ms/step - loss: 1.3167 - acc: 0.4545 - val_loss: 1.2400 - val_acc: 0.4770\n",
      "Epoch 46/100\n",
      "782/782 [==============================] - 11s 14ms/step - loss: 1.3178 - acc: 0.4556 - val_loss: 1.2613 - val_acc: 0.4690\n",
      "Epoch 47/100\n",
      "782/782 [==============================] - 10s 13ms/step - loss: 1.3164 - acc: 0.4545 - val_loss: 1.2459 - val_acc: 0.4930\n",
      "Epoch 48/100\n",
      "782/782 [==============================] - 10s 13ms/step - loss: 1.3161 - acc: 0.4553 - val_loss: 1.2454 - val_acc: 0.4720\n",
      "Epoch 49/100\n",
      "782/782 [==============================] - 10s 13ms/step - loss: 1.3149 - acc: 0.4562 - val_loss: 1.2499 - val_acc: 0.4850\n",
      "Epoch 50/100\n",
      "782/782 [==============================] - 10s 13ms/step - loss: 1.3114 - acc: 0.4566 - val_loss: 1.2436 - val_acc: 0.4750\n",
      "Epoch 51/100\n",
      "782/782 [==============================] - 10s 13ms/step - loss: 1.3150 - acc: 0.4552 - val_loss: 1.2555 - val_acc: 0.4710\n",
      "Epoch 52/100\n",
      "782/782 [==============================] - 10s 13ms/step - loss: 1.3173 - acc: 0.4576 - val_loss: 1.2509 - val_acc: 0.4880\n",
      "Epoch 53/100\n",
      "782/782 [==============================] - 10s 13ms/step - loss: 1.3156 - acc: 0.4561 - val_loss: 1.2511 - val_acc: 0.4710\n",
      "Epoch 54/100\n",
      "782/782 [==============================] - 10s 13ms/step - loss: 1.3124 - acc: 0.4557 - val_loss: 1.2402 - val_acc: 0.4780\n",
      "Epoch 55/100\n",
      "782/782 [==============================] - 10s 13ms/step - loss: 1.3109 - acc: 0.4570 - val_loss: 1.2542 - val_acc: 0.4890\n",
      "Epoch 56/100\n",
      "782/782 [==============================] - 10s 13ms/step - loss: 1.3096 - acc: 0.4570 - val_loss: 1.2362 - val_acc: 0.4690\n",
      "Epoch 57/100\n",
      "782/782 [==============================] - 10s 13ms/step - loss: 1.3146 - acc: 0.4554 - val_loss: 1.2677 - val_acc: 0.4570\n",
      "Epoch 58/100\n",
      "782/782 [==============================] - 11s 14ms/step - loss: 1.3110 - acc: 0.4576 - val_loss: 1.2352 - val_acc: 0.4790\n",
      "Epoch 59/100\n",
      "782/782 [==============================] - 10s 13ms/step - loss: 1.3124 - acc: 0.4551 - val_loss: 1.2436 - val_acc: 0.4810\n",
      "Epoch 60/100\n",
      "782/782 [==============================] - 10s 13ms/step - loss: 1.3110 - acc: 0.4560 - val_loss: 1.2408 - val_acc: 0.4760\n",
      "Epoch 61/100\n",
      "782/782 [==============================] - 10s 13ms/step - loss: 1.3113 - acc: 0.4553 - val_loss: 1.2659 - val_acc: 0.4880\n",
      "Epoch 62/100\n",
      "782/782 [==============================] - 10s 13ms/step - loss: 1.3109 - acc: 0.4568 - val_loss: 1.2616 - val_acc: 0.4800\n",
      "Epoch 63/100\n",
      "782/782 [==============================] - 10s 13ms/step - loss: 1.3146 - acc: 0.4571 - val_loss: 1.2445 - val_acc: 0.4810\n",
      "Epoch 64/100\n",
      "782/782 [==============================] - 10s 13ms/step - loss: 1.3091 - acc: 0.4568 - val_loss: 1.2420 - val_acc: 0.4810\n",
      "Epoch 65/100\n",
      "782/782 [==============================] - 10s 13ms/step - loss: 1.3094 - acc: 0.4576 - val_loss: 1.2572 - val_acc: 0.4900\n",
      "Epoch 66/100\n",
      "782/782 [==============================] - 10s 13ms/step - loss: 1.3093 - acc: 0.4572 - val_loss: 1.2367 - val_acc: 0.4870\n",
      "Epoch 67/100\n",
      "782/782 [==============================] - 10s 13ms/step - loss: 1.3129 - acc: 0.4564 - val_loss: 1.2604 - val_acc: 0.4580\n",
      "Epoch 68/100\n",
      "782/782 [==============================] - 10s 13ms/step - loss: 1.3113 - acc: 0.4573 - val_loss: 1.2349 - val_acc: 0.4880\n",
      "Epoch 69/100\n",
      "782/782 [==============================] - 10s 13ms/step - loss: 1.3081 - acc: 0.4581 - val_loss: 1.2521 - val_acc: 0.4890\n",
      "Epoch 70/100\n",
      "782/782 [==============================] - 10s 13ms/step - loss: 1.3076 - acc: 0.4592 - val_loss: 1.2882 - val_acc: 0.4600\n",
      "Epoch 71/100\n",
      "782/782 [==============================] - 10s 13ms/step - loss: 1.3075 - acc: 0.4570 - val_loss: 1.2349 - val_acc: 0.4870\n",
      "Epoch 72/100\n",
      "782/782 [==============================] - 10s 13ms/step - loss: 1.3129 - acc: 0.4569 - val_loss: 1.2327 - val_acc: 0.4620\n",
      "Epoch 73/100\n",
      "782/782 [==============================] - 10s 13ms/step - loss: 1.3095 - acc: 0.4568 - val_loss: 1.2556 - val_acc: 0.4740\n",
      "Epoch 74/100\n",
      "782/782 [==============================] - 10s 13ms/step - loss: 1.3096 - acc: 0.4575 - val_loss: 1.2513 - val_acc: 0.4670\n",
      "Epoch 75/100\n",
      "782/782 [==============================] - 10s 13ms/step - loss: 1.3066 - acc: 0.4592 - val_loss: 1.2354 - val_acc: 0.4810\n",
      "Epoch 76/100\n",
      "782/782 [==============================] - 10s 13ms/step - loss: 1.3090 - acc: 0.4578 - val_loss: 1.2539 - val_acc: 0.4780\n",
      "Epoch 77/100\n",
      "782/782 [==============================] - 10s 13ms/step - loss: 1.3086 - acc: 0.4581 - val_loss: 1.2409 - val_acc: 0.4700\n",
      "Epoch 78/100\n",
      "782/782 [==============================] - 10s 13ms/step - loss: 1.3065 - acc: 0.4603 - val_loss: 1.2360 - val_acc: 0.4810\n",
      "Epoch 79/100\n",
      "782/782 [==============================] - 10s 13ms/step - loss: 1.3075 - acc: 0.4573 - val_loss: 1.2395 - val_acc: 0.4750\n",
      "Epoch 80/100\n",
      "782/782 [==============================] - 10s 13ms/step - loss: 1.3063 - acc: 0.4595 - val_loss: 1.2456 - val_acc: 0.4840\n",
      "Epoch 81/100\n",
      "782/782 [==============================] - 10s 13ms/step - loss: 1.3066 - acc: 0.4581 - val_loss: 1.2476 - val_acc: 0.4800\n",
      "Epoch 82/100\n",
      "782/782 [==============================] - 10s 13ms/step - loss: 1.3063 - acc: 0.4571 - val_loss: 1.2321 - val_acc: 0.4760\n",
      "Epoch 83/100\n",
      "782/782 [==============================] - 10s 13ms/step - loss: 1.3078 - acc: 0.4560 - val_loss: 1.2336 - val_acc: 0.4820\n",
      "Epoch 84/100\n",
      "782/782 [==============================] - 10s 13ms/step - loss: 1.3084 - acc: 0.4584 - val_loss: 1.2350 - val_acc: 0.4810\n",
      "Epoch 85/100\n",
      "782/782 [==============================] - 10s 13ms/step - loss: 1.3069 - acc: 0.4588 - val_loss: 1.2359 - val_acc: 0.4830\n",
      "Epoch 86/100\n",
      "782/782 [==============================] - 10s 13ms/step - loss: 1.3063 - acc: 0.4589 - val_loss: 1.2402 - val_acc: 0.4800\n",
      "Epoch 87/100\n",
      "782/782 [==============================] - 11s 13ms/step - loss: 1.3068 - acc: 0.4580 - val_loss: 1.2420 - val_acc: 0.4850\n",
      "Epoch 88/100\n",
      "782/782 [==============================] - 10s 13ms/step - loss: 1.3063 - acc: 0.4565 - val_loss: 1.2349 - val_acc: 0.4800\n",
      "Epoch 89/100\n",
      "782/782 [==============================] - 10s 13ms/step - loss: 1.3034 - acc: 0.4594 - val_loss: 1.2347 - val_acc: 0.4920\n",
      "Epoch 90/100\n",
      "782/782 [==============================] - 11s 13ms/step - loss: 1.3044 - acc: 0.4596 - val_loss: 1.2351 - val_acc: 0.4810\n",
      "Epoch 91/100\n",
      "782/782 [==============================] - 10s 13ms/step - loss: 1.3061 - acc: 0.4579 - val_loss: 1.2453 - val_acc: 0.4950\n",
      "Epoch 92/100\n",
      "782/782 [==============================] - 11s 14ms/step - loss: 1.3085 - acc: 0.4556 - val_loss: 1.2392 - val_acc: 0.4820\n",
      "Epoch 93/100\n",
      "782/782 [==============================] - 10s 13ms/step - loss: 1.3047 - acc: 0.4585 - val_loss: 1.2498 - val_acc: 0.4700\n",
      "Epoch 94/100\n",
      "782/782 [==============================] - 10s 13ms/step - loss: 1.3057 - acc: 0.4572 - val_loss: 1.2452 - val_acc: 0.4770\n",
      "Epoch 95/100\n",
      "782/782 [==============================] - 10s 13ms/step - loss: 1.3060 - acc: 0.4585 - val_loss: 1.2313 - val_acc: 0.4820\n",
      "Epoch 96/100\n",
      "782/782 [==============================] - 10s 13ms/step - loss: 1.3072 - acc: 0.4596 - val_loss: 1.2338 - val_acc: 0.4770\n",
      "Epoch 97/100\n",
      "782/782 [==============================] - 10s 13ms/step - loss: 1.3056 - acc: 0.4590 - val_loss: 1.2331 - val_acc: 0.4810\n",
      "Epoch 98/100\n",
      "782/782 [==============================] - 10s 13ms/step - loss: 1.3061 - acc: 0.4575 - val_loss: 1.2388 - val_acc: 0.4860\n",
      "Epoch 99/100\n",
      "782/782 [==============================] - 10s 13ms/step - loss: 1.3040 - acc: 0.4586 - val_loss: 1.2320 - val_acc: 0.4850\n",
      "Epoch 100/100\n",
      "782/782 [==============================] - 10s 13ms/step - loss: 1.3045 - acc: 0.4590 - val_loss: 1.2401 - val_acc: 0.4790\n"
     ]
    }
   ],
   "source": [
    "history = model.fit(\n",
    "    train_dataset,\n",
    "    epochs=100, \n",
    "    validation_data=test_dataset\n",
    ")"
   ]
  },
  {
   "cell_type": "code",
   "execution_count": 31,
   "metadata": {},
   "outputs": [
    {
     "name": "stdout",
     "output_type": "stream",
     "text": [
      "8/8 - 6s - loss: 1.2401 - acc: 0.4790\n",
      "\n",
      "Точность на проверочных данных: 0.479\n"
     ]
    }
   ],
   "source": [
    "test_loss, test_acc = model.evaluate(test_dataset, verbose=2)\n",
    "\n",
    "print('\\nТочность на проверочных данных:', test_acc)"
   ]
  },
  {
   "cell_type": "code",
   "execution_count": 32,
   "metadata": {},
   "outputs": [],
   "source": [
    "def show_loss(history):\n",
    "    loss = history.history['loss']\n",
    "    val_loss = history.history['val_loss']\n",
    "    epochs = range(1, len(loss) + 1)\n",
    "    plt.plot(epochs, loss, 'bo', label='Training loss')\n",
    "    plt.plot(epochs, val_loss, 'b', label='Validation loss')\n",
    "    plt.xlabel('Epochs')\n",
    "    plt.ylabel('Loss')\n",
    "    plt.legend(['Train', 'Test'], loc='upper left')\n",
    "\n",
    "    plt.show()\n",
    "\n",
    "    plt.plot(history.history['acc'])\n",
    "    plt.plot(history.history['val_acc'])\n",
    "    plt.title('Model accuracy')\n",
    "    plt.ylabel('Accuracy')\n",
    "    plt.xlabel('Epoch')\n",
    "    plt.legend(['Train', 'Test'], loc='upper left')\n",
    "    plt.show()"
   ]
  },
  {
   "cell_type": "code",
   "execution_count": 33,
   "metadata": {},
   "outputs": [
    {
     "data": {
      "image/png": "[encoded data removed]",
      "text/plain": [
       "<Figure size 432x288 with 1 Axes>"
      ]
     },
     "metadata": {
      "needs_background": "light"
     },
     "output_type": "display_data"
    },
    {
     "data": {
      "image/png": "[encoded data removed]",
      "text/plain": [
       "<Figure size 432x288 with 1 Axes>"
      ]
     },
     "metadata": {
      "needs_background": "light"
     },
     "output_type": "display_data"
    }
   ],
   "source": [
    "show_loss(history)"
   ]
  },
  {
   "cell_type": "code",
   "execution_count": 34,
   "metadata": {},
   "outputs": [],
   "source": [
    "import itertools\n",
    "def plot_confusion_matrix(cm, class_names):\n",
    "  \"\"\"\n",
    "  Returns a matplotlib figure containing the plotted confusion matrix.\n",
    "\n",
    "  Args:\n",
    "    cm (array, shape = [n, n]): a confusion matrix of integer classes\n",
    "    class_names (array, shape = [n]): String names of the integer classes\n",
    "  \"\"\"\n",
    "  figure = plt.figure(figsize=(8, 8))\n",
    "  plt.imshow(cm, interpolation='nearest', cmap=plt.cm.Blues)\n",
    "  plt.title(\"Confusion matrix\")\n",
    "  plt.colorbar()\n",
    "  tick_marks = np.arange(len(class_names))\n",
    "  plt.xticks(tick_marks, class_names, rotation=45)\n",
    "  plt.yticks(tick_marks, class_names)\n",
    "\n",
    "  # Normalize the confusion matrix.\n",
    "  cm = np.around(cm.astype('float') / cm.sum(axis=1)[:, np.newaxis], decimals=2)\n",
    "\n",
    "  # Use white text if squares are dark; otherwise black.\n",
    "  threshold = cm.max() / 2.\n",
    "  for i, j in itertools.product(range(cm.shape[0]), range(cm.shape[1])):\n",
    "    color = \"white\" if cm[i, j] > threshold else \"black\"\n",
    "    plt.text(j, i, cm[i, j], horizontalalignment=\"center\", color=color)\n",
    "\n",
    "  plt.tight_layout()\n",
    "  plt.ylabel('True label')\n",
    "  plt.xlabel('Predicted label')\n",
    "  return figure"
   ]
  },
  {
   "cell_type": "code",
   "execution_count": 35,
   "metadata": {},
   "outputs": [
    {
     "data": {
      "text/plain": [
       "(1000, 10)"
      ]
     },
     "execution_count": 35,
     "metadata": {},
     "output_type": "execute_result"
    }
   ],
   "source": [
    "y_pred = model.predict(x_test)\n",
    "y_pred.shape"
   ]
  },
  {
   "cell_type": "code",
   "execution_count": 36,
   "metadata": {},
   "outputs": [],
   "source": [
    "con_mat = metrics.confusion_matrix(y_test, y_pred.argmax(axis=1))"
   ]
  },
  {
   "cell_type": "code",
   "execution_count": 37,
   "metadata": {},
   "outputs": [
    {
     "data": {
      "image/png": "[encoded data removed]",
      "text/plain": [
       "<Figure size 576x576 with 2 Axes>"
      ]
     },
     "execution_count": 37,
     "metadata": {},
     "output_type": "execute_result"
    },
    {
     "data": {
      "image/png": "[encoded data removed]",
      "text/plain": [
       "<Figure size 576x576 with 2 Axes>"
      ]
     },
     "metadata": {
      "needs_background": "light"
     },
     "output_type": "display_data"
    }
   ],
   "source": [
    "plot_confusion_matrix(con_mat, ['1', '2', '3', '4', '5', '6', '7', '8', '9', '10'])"
   ]
  },
  {
   "cell_type": "code",
   "execution_count": null,
   "metadata": {},
   "outputs": [],
   "source": []
  }
 ],
 "metadata": {
  "kernelspec": {
   "display_name": "Python 3",
   "language": "python",
   "name": "python3"
  },
  "language_info": {
   "codemirror_mode": {
    "name": "ipython",
    "version": 3
   },
   "file_extension": ".py",
   "mimetype": "text/x-python",
   "name": "python",
   "nbconvert_exporter": "python",
   "pygments_lexer": "ipython3",
   "version": "3.7.7"
  }
 },
 "nbformat": 4,
 "nbformat_minor": 4
}
