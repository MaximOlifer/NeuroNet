{
 "cells": [
  {
   "cell_type": "markdown",
   "metadata": {},
   "source": [
    "Генерируем случайную матрицу размера nxn фиксированного ранга r. Для начала, генерируем произвольную матрицу A и вычисляем ее сингулярное разложение. A=U*S*V"
   ]
  },
  {
   "cell_type": "code",
   "execution_count": 1,
   "metadata": {},
   "outputs": [
    {
     "data": {
      "text/plain": [
       "(10, 10)"
      ]
     },
     "execution_count": 1,
     "metadata": {},
     "output_type": "execute_result"
    }
   ],
   "source": [
    "import numpy as np\n",
    "n=10\n",
    "r=2\n",
    "a=np.random.rand(n,n)\n",
    "(u,s,v)=np.linalg.svd(a)\n",
    "a"
   ]
  },
  {
   "cell_type": "code",
   "execution_count": 2,
   "metadata": {},
   "outputs": [
    {
     "data": {
      "text/plain": [
       "10"
      ]
     },
     "execution_count": 2,
     "metadata": {},
     "output_type": "execute_result"
    }
   ],
   "source": [
    "np.linalg.matrix_rank(a)"
   ]
  },
  {
   "cell_type": "code",
   "execution_count": 3,
   "metadata": {},
   "outputs": [
    {
     "data": {
      "text/plain": [
       "array([5.08927325, 1.39001694, 1.29967144, 1.07892203, 0.77139686,\n",
       "       0.68018123, 0.49241182, 0.36104805, 0.26472254, 0.05640903])"
      ]
     },
     "execution_count": 3,
     "metadata": {},
     "output_type": "execute_result"
    }
   ],
   "source": [
    "s"
   ]
  },
  {
   "cell_type": "markdown",
   "metadata": {},
   "source": [
    "Вектор s -- сингулярные значения матрицы A. Теперь оставим в s только первые r значений, а остальные заменим 0."
   ]
  },
  {
   "cell_type": "code",
   "execution_count": 4,
   "metadata": {},
   "outputs": [],
   "source": [
    "s_cut=np.zeros(n)\n",
    "s_cut[:r]=s[:r]"
   ]
  },
  {
   "cell_type": "code",
   "execution_count": 5,
   "metadata": {},
   "outputs": [
    {
     "data": {
      "text/plain": [
       "array([5.08927325, 1.39001694, 0.        , 0.        , 0.        ,\n",
       "       0.        , 0.        , 0.        , 0.        , 0.        ])"
      ]
     },
     "execution_count": 5,
     "metadata": {},
     "output_type": "execute_result"
    }
   ],
   "source": [
    "s_cut"
   ]
  },
  {
   "cell_type": "markdown",
   "metadata": {},
   "source": [
    "Дальше восстановим по тем же формулам, но с урезанным s, матрицу A."
   ]
  },
  {
   "cell_type": "code",
   "execution_count": 6,
   "metadata": {},
   "outputs": [],
   "source": [
    "s_mat=np.diag(s_cut)\n",
    "a_new=u.dot(s_mat).dot(v)"
   ]
  },
  {
   "cell_type": "code",
   "execution_count": 7,
   "metadata": {},
   "outputs": [
    {
     "data": {
      "text/plain": [
       "(10, 10)"
      ]
     },
     "execution_count": 7,
     "metadata": {},
     "output_type": "execute_result"
    }
   ],
   "source": [
    "a_new.shape"
   ]
  },
  {
   "cell_type": "code",
   "execution_count": 8,
   "metadata": {},
   "outputs": [
    {
     "data": {
      "text/plain": [
       "2"
      ]
     },
     "execution_count": 8,
     "metadata": {},
     "output_type": "execute_result"
    }
   ],
   "source": [
    "np.linalg.matrix_rank(a_new)"
   ]
  },
  {
   "cell_type": "code",
   "execution_count": 9,
   "metadata": {},
   "outputs": [
    {
     "data": {
      "text/plain": [
       "array([[0.20947436, 0.61912177, 0.29032454, 0.49659149, 0.57635656,\n",
       "        0.68852136, 0.83273979, 0.33619584, 0.7026359 , 0.58022191],\n",
       "       [0.28090265, 0.54677421, 0.31903271, 0.40447244, 0.51034349,\n",
       "        0.55679029, 0.702029  , 0.35539266, 0.6218852 , 0.54788062],\n",
       "       [0.25645963, 0.6848941 , 0.33731884, 0.54055596, 0.63793055,\n",
       "        0.74844416, 0.9125926 , 0.38699282, 0.77763   , 0.6510061 ],\n",
       "       [0.59751642, 0.50085161, 0.51441789, 0.24957579, 0.47222391,\n",
       "        0.32814427, 0.52458486, 0.53299913, 0.57446397, 0.62765358],\n",
       "       [0.15350245, 0.63580548, 0.25790771, 0.53187487, 0.59102877,\n",
       "        0.74001692, 0.87663889, 0.30768203, 0.72069896, 0.57307511],\n",
       "       [0.42798448, 0.6175893 , 0.43264799, 0.41750897, 0.57798371,\n",
       "        0.56971932, 0.75439855, 0.46892569, 0.70399332, 0.65976976],\n",
       "       [0.69907786, 0.36476948, 0.54700116, 0.0879602 , 0.34759945,\n",
       "        0.09789588, 0.29014459, 0.54911133, 0.42211235, 0.55469682],\n",
       "       [0.29604701, 0.47152263, 0.31026316, 0.32968089, 0.44085597,\n",
       "        0.45139508, 0.58667175, 0.33929018, 0.53705691, 0.49237054],\n",
       "       [0.92233093, 0.48402925, 0.72237468, 0.11860488, 0.46117156,\n",
       "        0.13273993, 0.38685444, 0.72540447, 0.56004509, 0.73409014],\n",
       "       [0.18218089, 0.45630703, 0.23212709, 0.35612025, 0.42517558,\n",
       "        0.4925971 , 0.60406895, 0.26473233, 0.51825181, 0.43791334]])"
      ]
     },
     "execution_count": 9,
     "metadata": {},
     "output_type": "execute_result"
    }
   ],
   "source": [
    "a_new"
   ]
  },
  {
   "cell_type": "markdown",
   "metadata": {},
   "source": [
    "Форма правильная, в ячйках значения от 0 до 1, ранг -- искомый."
   ]
  },
  {
   "cell_type": "markdown",
   "metadata": {},
   "source": [
    "Палитры можно использовать разные. В статье наиболее перспективной оказалась 'jet'."
   ]
  },
  {
   "cell_type": "code",
   "execution_count": 11,
   "metadata": {},
   "outputs": [
    {
     "data": {
      "text/plain": [
       "<matplotlib.image.AxesImage at 0x1484e24bec8>"
      ]
     },
     "execution_count": 11,
     "metadata": {},
     "output_type": "execute_result"
    },
    {
     "data": {
      "image/png": "[encoded data removed]",
      "text/plain": [
       "<Figure size 432x288 with 1 Axes>"
      ]
     },
     "metadata": {
      "needs_background": "light"
     },
     "output_type": "display_data"
    }
   ],
   "source": [
    "plt.imshow(a_new, cmap='gray', origin = 'lower',  extent = [0, 100, 0, 100],interpolation='nearest')"
   ]
  },
  {
   "cell_type": "code",
   "execution_count": 14,
   "metadata": {},
   "outputs": [
    {
     "data": {
      "image/png": "[encoded data removed]",
      "text/plain": [
       "<Figure size 432x288 with 1 Axes>"
      ]
     },
     "metadata": {
      "needs_background": "light"
     },
     "output_type": "display_data"
    }
   ],
   "source": [
    "a = plt.imshow(a_new, cmap='jet', origin = 'lower',  extent = [0, 100, 0, 100],interpolation='nearest')\n",
    "data = a.get_array()"
   ]
  },
  {
   "cell_type": "markdown",
   "metadata": {},
   "source": [
    "Осталось сгенирировать достаточное число образцов. "
   ]
  },
  {
   "cell_type": "markdown",
   "metadata": {},
   "source": [
    "## Генерация датасета"
   ]
  },
  {
   "cell_type": "code",
   "execution_count": 1,
   "metadata": {},
   "outputs": [],
   "source": [
    "import numpy as np\n",
    "import matplotlib.pyplot as plt\n",
    "import cv2"
   ]
  },
  {
   "cell_type": "markdown",
   "metadata": {},
   "source": [
    "Генерация"
   ]
  },
  {
   "cell_type": "code",
   "execution_count": 2,
   "metadata": {},
   "outputs": [],
   "source": [
    "def generate_image(n, r):\n",
    "    a=np.random.rand(n,n)\n",
    "    (u,s,v)=np.linalg.svd(a)\n",
    "\n",
    "    s_cut=np.zeros(n)\n",
    "    s_cut[:r]=s[:r]\n",
    "\n",
    "    s_mat=np.diag(s_cut)\n",
    "\n",
    "    a_new=u.dot(s_mat).dot(v)\n",
    "    \n",
    "    image = a_new\n",
    "    #image = cv2.resize(image, (100, 100), interpolation=cv2.INTER_NEAREST)\n",
    "    image = np.uint8(255 * image)\n",
    "    image = cv2.applyColorMap(image, cv2.COLORMAP_JET)\n",
    "    return image"
   ]
  },
  {
   "cell_type": "code",
   "execution_count": 3,
   "metadata": {},
   "outputs": [],
   "source": [
    "N = 10000\n",
    "file_size = 100\n",
    "n = 10\n",
    "\n",
    "images = np.zeros((N*5, 10, 10, 3))\n",
    "labels = np.zeros((N*5))\n",
    "for i in range(N):\n",
    "    for r in range(1, 6):\n",
    "        image = generate_image(n, r)\n",
    "\n",
    "        images[5*i+r-1] = image\n",
    "        labels[5*i+r-1] = r-1"
   ]
  },
  {
   "cell_type": "code",
   "execution_count": 4,
   "metadata": {},
   "outputs": [],
   "source": [
    "N_test = 100\n",
    "file_size = 100\n",
    "n = 10\n",
    "\n",
    "test_images = np.zeros((N_test*5, 10, 10, 3))\n",
    "test_labels = np.zeros((N_test*5))\n",
    "for i in range(N_test):\n",
    "    for r in range(1, 6):\n",
    "        image = generate_image(n, r)\n",
    "\n",
    "        test_images[5*i+r-1] = image\n",
    "        test_labels[5*i+r-1] = r-1"
   ]
  },
  {
   "cell_type": "code",
   "execution_count": 5,
   "metadata": {},
   "outputs": [
    {
     "data": {
      "text/plain": [
       "(50000, 10, 10, 3)"
      ]
     },
     "execution_count": 5,
     "metadata": {},
     "output_type": "execute_result"
    }
   ],
   "source": [
    "images.shape"
   ]
  },
  {
   "cell_type": "code",
   "execution_count": 6,
   "metadata": {},
   "outputs": [
    {
     "data": {
      "text/plain": [
       "(500, 10, 10, 3)"
      ]
     },
     "execution_count": 6,
     "metadata": {},
     "output_type": "execute_result"
    }
   ],
   "source": [
    "test_images.shape"
   ]
  },
  {
   "cell_type": "code",
   "execution_count": 12,
   "metadata": {},
   "outputs": [
    {
     "data": {
      "text/plain": [
       "array([0., 1., 2., 3., 4., 0., 1., 2., 3., 4., 0., 1., 2., 3., 4., 0., 1.,\n",
       "       2., 3., 4., 0., 1., 2., 3., 4., 0., 1., 2., 3., 4., 0., 1., 2., 3.,\n",
       "       4., 0., 1., 2., 3., 4., 0., 1., 2., 3., 4., 0., 1., 2., 3., 4., 0.,\n",
       "       1., 2., 3., 4., 0., 1., 2., 3., 4., 0., 1., 2., 3., 4., 0., 1., 2.,\n",
       "       3., 4., 0., 1., 2., 3., 4., 0., 1., 2., 3., 4., 0., 1., 2., 3., 4.,\n",
       "       0., 1., 2., 3., 4., 0., 1., 2., 3., 4., 0., 1., 2., 3., 4., 0., 1.,\n",
       "       2., 3., 4., 0., 1., 2., 3., 4., 0., 1., 2., 3., 4., 0., 1., 2., 3.,\n",
       "       4., 0., 1., 2., 3., 4., 0., 1., 2., 3., 4., 0., 1., 2., 3., 4., 0.,\n",
       "       1., 2., 3., 4., 0., 1., 2., 3., 4., 0., 1., 2., 3., 4., 0., 1., 2.,\n",
       "       3., 4., 0., 1., 2., 3., 4., 0., 1., 2., 3., 4., 0., 1., 2., 3., 4.,\n",
       "       0., 1., 2., 3., 4., 0., 1., 2., 3., 4., 0., 1., 2., 3., 4., 0., 1.,\n",
       "       2., 3., 4., 0., 1., 2., 3., 4., 0., 1., 2., 3., 4., 0., 1., 2., 3.,\n",
       "       4., 0., 1., 2., 3., 4., 0., 1., 2., 3., 4., 0., 1., 2., 3., 4., 0.,\n",
       "       1., 2., 3., 4., 0., 1., 2., 3., 4., 0., 1., 2., 3., 4., 0., 1., 2.,\n",
       "       3., 4., 0., 1., 2., 3., 4., 0., 1., 2., 3., 4., 0., 1., 2., 3., 4.,\n",
       "       0., 1., 2., 3., 4., 0., 1., 2., 3., 4., 0., 1., 2., 3., 4., 0., 1.,\n",
       "       2., 3., 4., 0., 1., 2., 3., 4., 0., 1., 2., 3., 4., 0., 1., 2., 3.,\n",
       "       4., 0., 1., 2., 3., 4., 0., 1., 2., 3., 4., 0., 1., 2., 3., 4., 0.,\n",
       "       1., 2., 3., 4., 0., 1., 2., 3., 4., 0., 1., 2., 3., 4., 0., 1., 2.,\n",
       "       3., 4., 0., 1., 2., 3., 4., 0., 1., 2., 3., 4., 0., 1., 2., 3., 4.,\n",
       "       0., 1., 2., 3., 4., 0., 1., 2., 3., 4., 0., 1., 2., 3., 4., 0., 1.,\n",
       "       2., 3., 4., 0., 1., 2., 3., 4., 0., 1., 2., 3., 4., 0., 1., 2., 3.,\n",
       "       4., 0., 1., 2., 3., 4., 0., 1., 2., 3., 4., 0., 1., 2., 3., 4., 0.,\n",
       "       1., 2., 3., 4., 0., 1., 2., 3., 4., 0., 1., 2., 3., 4., 0., 1., 2.,\n",
       "       3., 4., 0., 1., 2., 3., 4., 0., 1., 2., 3., 4., 0., 1., 2., 3., 4.,\n",
       "       0., 1., 2., 3., 4., 0., 1., 2., 3., 4., 0., 1., 2., 3., 4., 0., 1.,\n",
       "       2., 3., 4., 0., 1., 2., 3., 4., 0., 1., 2., 3., 4., 0., 1., 2., 3.,\n",
       "       4., 0., 1., 2., 3., 4., 0., 1., 2., 3., 4., 0., 1., 2., 3., 4., 0.,\n",
       "       1., 2., 3., 4., 0., 1., 2., 3., 4., 0., 1., 2., 3., 4., 0., 1., 2.,\n",
       "       3., 4., 0., 1., 2., 3., 4.])"
      ]
     },
     "execution_count": 12,
     "metadata": {},
     "output_type": "execute_result"
    }
   ],
   "source": [
    "test_labels"
   ]
  },
  {
   "cell_type": "markdown",
   "metadata": {},
   "source": [
    "Перемешивание"
   ]
  },
  {
   "cell_type": "code",
   "execution_count": 13,
   "metadata": {},
   "outputs": [],
   "source": [
    "def unison_shuffled_copies(a, b):\n",
    "    assert len(a) == len(b)\n",
    "    p = np.random.permutation(len(a))\n",
    "    return a[p], b[p]"
   ]
  },
  {
   "cell_type": "code",
   "execution_count": 14,
   "metadata": {},
   "outputs": [],
   "source": [
    "images, labels = unison_shuffled_copies(images, labels)\n",
    "test_images, test_labels = unison_shuffled_copies(test_images, test_labels)"
   ]
  },
  {
   "cell_type": "markdown",
   "metadata": {},
   "source": [
    "Сохранение"
   ]
  },
  {
   "cell_type": "code",
   "execution_count": 15,
   "metadata": {},
   "outputs": [],
   "source": [
    "np.savez(\n",
    "    \"rank_1-5_classification.npz\", \n",
    "    x_train=images, \n",
    "    y_train=labels,\n",
    "    x_test=test_images,\n",
    "    y_test=test_labels\n",
    ")"
   ]
  },
  {
   "cell_type": "markdown",
   "metadata": {},
   "source": [
    "## Обучение модели"
   ]
  },
  {
   "cell_type": "code",
   "execution_count": 1,
   "metadata": {},
   "outputs": [
    {
     "name": "stderr",
     "output_type": "stream",
     "text": [
      "D:\\Users\\maxim\\Anaconda3\\envs\\maxim\\lib\\site-packages\\tensorflow\\python\\framework\\dtypes.py:516: FutureWarning: Passing (type, 1) or '1type' as a synonym of type is deprecated; in a future version of numpy, it will be understood as (type, (1,)) / '(1,)type'.\n",
      "  _np_qint8 = np.dtype([(\"qint8\", np.int8, 1)])\n",
      "D:\\Users\\maxim\\Anaconda3\\envs\\maxim\\lib\\site-packages\\tensorflow\\python\\framework\\dtypes.py:517: FutureWarning: Passing (type, 1) or '1type' as a synonym of type is deprecated; in a future version of numpy, it will be understood as (type, (1,)) / '(1,)type'.\n",
      "  _np_quint8 = np.dtype([(\"quint8\", np.uint8, 1)])\n",
      "D:\\Users\\maxim\\Anaconda3\\envs\\maxim\\lib\\site-packages\\tensorflow\\python\\framework\\dtypes.py:518: FutureWarning: Passing (type, 1) or '1type' as a synonym of type is deprecated; in a future version of numpy, it will be understood as (type, (1,)) / '(1,)type'.\n",
      "  _np_qint16 = np.dtype([(\"qint16\", np.int16, 1)])\n",
      "D:\\Users\\maxim\\Anaconda3\\envs\\maxim\\lib\\site-packages\\tensorflow\\python\\framework\\dtypes.py:519: FutureWarning: Passing (type, 1) or '1type' as a synonym of type is deprecated; in a future version of numpy, it will be understood as (type, (1,)) / '(1,)type'.\n",
      "  _np_quint16 = np.dtype([(\"quint16\", np.uint16, 1)])\n",
      "D:\\Users\\maxim\\Anaconda3\\envs\\maxim\\lib\\site-packages\\tensorflow\\python\\framework\\dtypes.py:520: FutureWarning: Passing (type, 1) or '1type' as a synonym of type is deprecated; in a future version of numpy, it will be understood as (type, (1,)) / '(1,)type'.\n",
      "  _np_qint32 = np.dtype([(\"qint32\", np.int32, 1)])\n",
      "D:\\Users\\maxim\\Anaconda3\\envs\\maxim\\lib\\site-packages\\tensorflow\\python\\framework\\dtypes.py:525: FutureWarning: Passing (type, 1) or '1type' as a synonym of type is deprecated; in a future version of numpy, it will be understood as (type, (1,)) / '(1,)type'.\n",
      "  np_resource = np.dtype([(\"resource\", np.ubyte, 1)])\n",
      "D:\\Users\\maxim\\Anaconda3\\envs\\maxim\\lib\\site-packages\\tensorboard\\compat\\tensorflow_stub\\dtypes.py:541: FutureWarning: Passing (type, 1) or '1type' as a synonym of type is deprecated; in a future version of numpy, it will be understood as (type, (1,)) / '(1,)type'.\n",
      "  _np_qint8 = np.dtype([(\"qint8\", np.int8, 1)])\n",
      "D:\\Users\\maxim\\Anaconda3\\envs\\maxim\\lib\\site-packages\\tensorboard\\compat\\tensorflow_stub\\dtypes.py:542: FutureWarning: Passing (type, 1) or '1type' as a synonym of type is deprecated; in a future version of numpy, it will be understood as (type, (1,)) / '(1,)type'.\n",
      "  _np_quint8 = np.dtype([(\"quint8\", np.uint8, 1)])\n",
      "D:\\Users\\maxim\\Anaconda3\\envs\\maxim\\lib\\site-packages\\tensorboard\\compat\\tensorflow_stub\\dtypes.py:543: FutureWarning: Passing (type, 1) or '1type' as a synonym of type is deprecated; in a future version of numpy, it will be understood as (type, (1,)) / '(1,)type'.\n",
      "  _np_qint16 = np.dtype([(\"qint16\", np.int16, 1)])\n",
      "D:\\Users\\maxim\\Anaconda3\\envs\\maxim\\lib\\site-packages\\tensorboard\\compat\\tensorflow_stub\\dtypes.py:544: FutureWarning: Passing (type, 1) or '1type' as a synonym of type is deprecated; in a future version of numpy, it will be understood as (type, (1,)) / '(1,)type'.\n",
      "  _np_quint16 = np.dtype([(\"quint16\", np.uint16, 1)])\n",
      "D:\\Users\\maxim\\Anaconda3\\envs\\maxim\\lib\\site-packages\\tensorboard\\compat\\tensorflow_stub\\dtypes.py:545: FutureWarning: Passing (type, 1) or '1type' as a synonym of type is deprecated; in a future version of numpy, it will be understood as (type, (1,)) / '(1,)type'.\n",
      "  _np_qint32 = np.dtype([(\"qint32\", np.int32, 1)])\n",
      "D:\\Users\\maxim\\Anaconda3\\envs\\maxim\\lib\\site-packages\\tensorboard\\compat\\tensorflow_stub\\dtypes.py:550: FutureWarning: Passing (type, 1) or '1type' as a synonym of type is deprecated; in a future version of numpy, it will be understood as (type, (1,)) / '(1,)type'.\n",
      "  np_resource = np.dtype([(\"resource\", np.ubyte, 1)])\n"
     ]
    }
   ],
   "source": [
    "import numpy as np\n",
    "import matplotlib.pyplot as plt\n",
    "import tensorflow as tf\n",
    "from tensorflow import keras\n",
    "from sklearn import metrics\n",
    "from tensorflow.keras.regularizers import l1_l2"
   ]
  },
  {
   "cell_type": "markdown",
   "metadata": {},
   "source": [
    "Загрузка данных"
   ]
  },
  {
   "cell_type": "code",
   "execution_count": 2,
   "metadata": {},
   "outputs": [],
   "source": [
    "with np.load(\"rank_1-5_classification.npz\") as data:\n",
    "    x_train = data[\"x_train\"]\n",
    "    y_train = data[\"y_train\"]\n",
    "    x_test = data[\"x_test\"]\n",
    "    y_test = data[\"y_test\"]"
   ]
  },
  {
   "cell_type": "markdown",
   "metadata": {},
   "source": [
    "Нормализация"
   ]
  },
  {
   "cell_type": "code",
   "execution_count": 3,
   "metadata": {},
   "outputs": [],
   "source": [
    "x_train = keras.utils.normalize(x_train)\n",
    "x_test = keras.utils.normalize(x_test)"
   ]
  },
  {
   "cell_type": "markdown",
   "metadata": {},
   "source": [
    "Класс для аугментации данных"
   ]
  },
  {
   "cell_type": "code",
   "execution_count": 4,
   "metadata": {},
   "outputs": [],
   "source": [
    "class MatixDataGenerator(keras.utils.Sequence):    \n",
    "    def __init__(self, x_set, y_set, batch_size, shuffle=True):\n",
    "        self.x, self.y = x_set, y_set\n",
    "        self.batch_size = batch_size\n",
    "        self.shuffle = shuffle\n",
    "        \n",
    "\n",
    "    def __len__(self):\n",
    "        return int(np.ceil(len(self.x) / float(self.batch_size)))\n",
    "    \n",
    "\n",
    "    def __getitem__(self, idx):\n",
    "        batch_x = self.x[idx * self.batch_size:(idx + 1) * self.batch_size]\n",
    "        batch_y = self.y[idx * self.batch_size:(idx + 1) * self.batch_size]\n",
    "\n",
    "        if self.shuffle:\n",
    "            np.take(batch_x, np.random.permutation(batch_x.shape[1]), axis=1, out=batch_x)\n",
    "            np.take(batch_x, np.random.permutation(batch_x.shape[2]), axis=2, out=batch_x)\n",
    "            \n",
    "        return np.array(batch_x), np.array(batch_y)"
   ]
  },
  {
   "cell_type": "code",
   "execution_count": 5,
   "metadata": {},
   "outputs": [],
   "source": [
    "BATCH_SIZE = 128\n",
    "\n",
    "xtrain_gen = MatixDataGenerator(x_train, y_train, batch_size=BATCH_SIZE)\n",
    "xvalidation_gen = MatixDataGenerator(x_test, y_test, batch_size=BATCH_SIZE)"
   ]
  },
  {
   "cell_type": "markdown",
   "metadata": {},
   "source": [
    "Создание модели"
   ]
  },
  {
   "cell_type": "code",
   "execution_count": 6,
   "metadata": {},
   "outputs": [
    {
     "name": "stdout",
     "output_type": "stream",
     "text": [
      "WARNING:tensorflow:From D:\\Users\\maxim\\Anaconda3\\envs\\maxim\\lib\\site-packages\\tensorflow\\python\\ops\\init_ops.py:1251: calling VarianceScaling.__init__ (from tensorflow.python.ops.init_ops) with dtype is deprecated and will be removed in a future version.\n",
      "Instructions for updating:\n",
      "Call initializer instance with the dtype argument instead of passing it to the constructor\n",
      "Model: \"model\"\n",
      "_________________________________________________________________\n",
      "Layer (type)                 Output Shape              Param #   \n",
      "=================================================================\n",
      "input_1 (InputLayer)         [(None, 10, 10, 3)]       0         \n",
      "_________________________________________________________________\n",
      "conv2d (Conv2D)              (None, 8, 8, 32)          896       \n",
      "_________________________________________________________________\n",
      "batch_normalization (BatchNo (None, 8, 8, 32)          128       \n",
      "_________________________________________________________________\n",
      "leaky_re_lu (LeakyReLU)      (None, 8, 8, 32)          0         \n",
      "_________________________________________________________________\n",
      "dropout (Dropout)            (None, 8, 8, 32)          0         \n",
      "_________________________________________________________________\n",
      "conv2d_1 (Conv2D)            (None, 6, 6, 64)          18496     \n",
      "_________________________________________________________________\n",
      "batch_normalization_1 (Batch (None, 6, 6, 64)          256       \n",
      "_________________________________________________________________\n",
      "leaky_re_lu_1 (LeakyReLU)    (None, 6, 6, 64)          0         \n",
      "_________________________________________________________________\n",
      "dropout_1 (Dropout)          (None, 6, 6, 64)          0         \n",
      "_________________________________________________________________\n",
      "conv2d_2 (Conv2D)            (None, 4, 4, 512)         295424    \n",
      "_________________________________________________________________\n",
      "batch_normalization_2 (Batch (None, 4, 4, 512)         2048      \n",
      "_________________________________________________________________\n",
      "leaky_re_lu_2 (LeakyReLU)    (None, 4, 4, 512)         0         \n",
      "_________________________________________________________________\n",
      "dropout_2 (Dropout)          (None, 4, 4, 512)         0         \n",
      "_________________________________________________________________\n",
      "flatten (Flatten)            (None, 8192)              0         \n",
      "_________________________________________________________________\n",
      "dense (Dense)                (None, 512)               4194816   \n",
      "_________________________________________________________________\n",
      "batch_normalization_3 (Batch (None, 512)               2048      \n",
      "_________________________________________________________________\n",
      "leaky_re_lu_3 (LeakyReLU)    (None, 512)               0         \n",
      "_________________________________________________________________\n",
      "dropout_3 (Dropout)          (None, 512)               0         \n",
      "_________________________________________________________________\n",
      "dense_1 (Dense)              (None, 5)                 2565      \n",
      "=================================================================\n",
      "Total params: 4,516,677\n",
      "Trainable params: 4,514,437\n",
      "Non-trainable params: 2,240\n",
      "_________________________________________________________________\n"
     ]
    }
   ],
   "source": [
    "model_input = keras.layers.Input(shape=(10,10,3))\n",
    "\n",
    "x = keras.layers.Conv2D(32, (3, 3), kernel_regularizer=l1_l2(l1=1e-5, l2=1e-4))(model_input)\n",
    "x = keras.layers.BatchNormalization()(x)\n",
    "x = keras.layers.LeakyReLU()(x)\n",
    "x = keras.layers.Dropout(0.4)(x)\n",
    "\n",
    "x = keras.layers.Conv2D(64, (3, 3), kernel_regularizer=l1_l2(l1=1e-5, l2=1e-4))(x)\n",
    "x = keras.layers.BatchNormalization()(x)\n",
    "x = keras.layers.LeakyReLU()(x)\n",
    "x = keras.layers.Dropout(0.4)(x)\n",
    "\n",
    "x = keras.layers.Conv2D(512, (3, 3), kernel_regularizer=l1_l2(l1=1e-5, l2=1e-4))(x)\n",
    "x = keras.layers.BatchNormalization()(x)\n",
    "x = keras.layers.LeakyReLU()(x)\n",
    "x = keras.layers.Dropout(0.4)(x)\n",
    "\n",
    "x = keras.layers.Flatten()(x)\n",
    "x = keras.layers.Dense(512, kernel_regularizer=l1_l2(l1=1e-5, l2=1e-4))(x)\n",
    "x = keras.layers.BatchNormalization()(x)\n",
    "x = keras.layers.LeakyReLU()(x)\n",
    "x = keras.layers.Dropout(0.4)(x)\n",
    "\n",
    "x = keras.layers.Dense(5, activation=\"softmax\")(x)\n",
    "model = keras.models.Model(model_input, x)\n",
    "\n",
    "model.summary()"
   ]
  },
  {
   "cell_type": "code",
   "execution_count": 7,
   "metadata": {},
   "outputs": [],
   "source": [
    "model.compile(optimizer='adam',\n",
    "              loss='sparse_categorical_crossentropy',\n",
    "              metrics=['accuracy'])"
   ]
  },
  {
   "cell_type": "markdown",
   "metadata": {},
   "source": [
    "Обучение"
   ]
  },
  {
   "cell_type": "code",
   "execution_count": 8,
   "metadata": {},
   "outputs": [
    {
     "name": "stdout",
     "output_type": "stream",
     "text": [
      "Epoch 1/100\n",
      "391/391 [==============================] - 11s 28ms/step - loss: 1.4427 - acc: 0.6734 - val_loss: 2.6677 - val_acc: 0.3320\n",
      "Epoch 2/100\n",
      "391/391 [==============================] - 6s 15ms/step - loss: 0.9922 - acc: 0.7403 - val_loss: 0.8580 - val_acc: 0.7480\n",
      "Epoch 3/100\n",
      "391/391 [==============================] - 6s 16ms/step - loss: 0.8145 - acc: 0.7486 - val_loss: 0.7051 - val_acc: 0.8060\n",
      "Epoch 4/100\n",
      "391/391 [==============================] - 6s 16ms/step - loss: 0.7501 - acc: 0.7538 - val_loss: 0.6868 - val_acc: 0.7920\n",
      "Epoch 5/100\n",
      "391/391 [==============================] - 6s 16ms/step - loss: 0.7278 - acc: 0.7556 - val_loss: 0.6862 - val_acc: 0.7940\n",
      "Epoch 6/100\n",
      "391/391 [==============================] - 6s 16ms/step - loss: 0.7206 - acc: 0.7566 - val_loss: 0.6516 - val_acc: 0.8040\n",
      "Epoch 7/100\n",
      "391/391 [==============================] - 6s 16ms/step - loss: 0.7143 - acc: 0.7569 - val_loss: 0.7309 - val_acc: 0.7620\n",
      "Epoch 8/100\n",
      "391/391 [==============================] - 6s 16ms/step - loss: 0.7127 - acc: 0.7596 - val_loss: 0.6560 - val_acc: 0.7840\n",
      "Epoch 9/100\n",
      "391/391 [==============================] - 6s 15ms/step - loss: 0.7069 - acc: 0.7620 - val_loss: 0.6741 - val_acc: 0.8160\n",
      "Epoch 10/100\n",
      "391/391 [==============================] - 6s 16ms/step - loss: 0.7166 - acc: 0.7612 - val_loss: 0.6795 - val_acc: 0.7820\n",
      "Epoch 11/100\n",
      "391/391 [==============================] - 6s 15ms/step - loss: 0.7175 - acc: 0.7634 - val_loss: 0.6785 - val_acc: 0.7880\n",
      "Epoch 12/100\n",
      "391/391 [==============================] - 6s 15ms/step - loss: 0.7107 - acc: 0.7650 - val_loss: 0.6878 - val_acc: 0.7840\n",
      "Epoch 13/100\n",
      "391/391 [==============================] - 6s 15ms/step - loss: 0.7117 - acc: 0.7636 - val_loss: 0.7041 - val_acc: 0.7840\n",
      "Epoch 14/100\n",
      "391/391 [==============================] - 6s 15ms/step - loss: 0.7094 - acc: 0.7673 - val_loss: 0.6489 - val_acc: 0.8120\n",
      "Epoch 15/100\n",
      "391/391 [==============================] - 6s 15ms/step - loss: 0.7075 - acc: 0.7684 - val_loss: 0.6497 - val_acc: 0.7940\n",
      "Epoch 16/100\n",
      "391/391 [==============================] - 6s 16ms/step - loss: 0.7059 - acc: 0.7687 - val_loss: 0.6738 - val_acc: 0.7780\n",
      "Epoch 17/100\n",
      "391/391 [==============================] - 6s 16ms/step - loss: 0.7012 - acc: 0.7677 - val_loss: 0.6412 - val_acc: 0.7980\n",
      "Epoch 18/100\n",
      "391/391 [==============================] - 6s 16ms/step - loss: 0.6955 - acc: 0.7684 - val_loss: 0.6544 - val_acc: 0.7940\n",
      "Epoch 19/100\n",
      "391/391 [==============================] - 6s 16ms/step - loss: 0.6911 - acc: 0.7702 - val_loss: 0.6178 - val_acc: 0.8300\n",
      "Epoch 20/100\n",
      "391/391 [==============================] - 6s 15ms/step - loss: 0.6833 - acc: 0.7717 - val_loss: 0.6257 - val_acc: 0.8200\n",
      "Epoch 21/100\n",
      "391/391 [==============================] - 6s 15ms/step - loss: 0.6801 - acc: 0.7690 - val_loss: 0.6210 - val_acc: 0.8060\n",
      "Epoch 22/100\n",
      "391/391 [==============================] - 6s 15ms/step - loss: 0.6740 - acc: 0.7706 - val_loss: 0.6437 - val_acc: 0.7860\n",
      "Epoch 23/100\n",
      "391/391 [==============================] - 6s 15ms/step - loss: 0.6705 - acc: 0.7725 - val_loss: 0.6104 - val_acc: 0.8200\n",
      "Epoch 24/100\n",
      "391/391 [==============================] - 6s 15ms/step - loss: 0.6673 - acc: 0.7720 - val_loss: 0.6022 - val_acc: 0.8100\n",
      "Epoch 25/100\n",
      "391/391 [==============================] - 6s 15ms/step - loss: 0.6595 - acc: 0.7737 - val_loss: 0.5802 - val_acc: 0.8200\n",
      "Epoch 26/100\n",
      "391/391 [==============================] - 6s 15ms/step - loss: 0.6569 - acc: 0.7723 - val_loss: 0.6052 - val_acc: 0.7960\n",
      "Epoch 27/100\n",
      "391/391 [==============================] - 6s 15ms/step - loss: 0.6495 - acc: 0.7764 - val_loss: 0.6063 - val_acc: 0.8180\n",
      "Epoch 28/100\n",
      "391/391 [==============================] - 6s 15ms/step - loss: 0.6481 - acc: 0.7744 - val_loss: 0.5873 - val_acc: 0.8260\n",
      "Epoch 29/100\n",
      "391/391 [==============================] - 6s 15ms/step - loss: 0.6452 - acc: 0.7757 - val_loss: 0.6892 - val_acc: 0.7560\n",
      "Epoch 30/100\n",
      "391/391 [==============================] - 6s 16ms/step - loss: 0.6422 - acc: 0.7747 - val_loss: 0.5727 - val_acc: 0.8260\n",
      "Epoch 31/100\n",
      "391/391 [==============================] - 7s 17ms/step - loss: 0.6386 - acc: 0.7748 - val_loss: 0.5705 - val_acc: 0.8260\n",
      "Epoch 32/100\n",
      "391/391 [==============================] - 6s 15ms/step - loss: 0.6294 - acc: 0.7779 - val_loss: 0.5649 - val_acc: 0.8180\n",
      "Epoch 33/100\n",
      "391/391 [==============================] - 6s 16ms/step - loss: 0.6316 - acc: 0.7760 - val_loss: 0.5856 - val_acc: 0.7920\n",
      "Epoch 34/100\n",
      "391/391 [==============================] - 6s 16ms/step - loss: 0.6284 - acc: 0.7756 - val_loss: 0.5893 - val_acc: 0.8040\n",
      "Epoch 35/100\n",
      "391/391 [==============================] - 6s 15ms/step - loss: 0.6251 - acc: 0.7761 - val_loss: 0.6413 - val_acc: 0.8140\n",
      "Epoch 36/100\n",
      "391/391 [==============================] - 6s 15ms/step - loss: 0.6218 - acc: 0.7773 - val_loss: 0.6207 - val_acc: 0.7880\n",
      "Epoch 37/100\n",
      "391/391 [==============================] - 6s 15ms/step - loss: 0.6173 - acc: 0.7778 - val_loss: 0.6307 - val_acc: 0.7780\n",
      "Epoch 38/100\n",
      "391/391 [==============================] - 6s 15ms/step - loss: 0.6186 - acc: 0.7767 - val_loss: 0.5766 - val_acc: 0.7920\n",
      "Epoch 39/100\n",
      "391/391 [==============================] - 6s 15ms/step - loss: 0.6173 - acc: 0.7790 - val_loss: 0.5482 - val_acc: 0.8280\n",
      "Epoch 40/100\n",
      "391/391 [==============================] - 6s 16ms/step - loss: 0.6103 - acc: 0.7798 - val_loss: 0.5515 - val_acc: 0.8320\n",
      "Epoch 41/100\n",
      "391/391 [==============================] - 6s 16ms/step - loss: 0.6103 - acc: 0.7784 - val_loss: 0.5405 - val_acc: 0.8220\n",
      "Epoch 42/100\n",
      "391/391 [==============================] - 7s 18ms/step - loss: 0.6091 - acc: 0.7786 - val_loss: 0.7278 - val_acc: 0.7260\n",
      "Epoch 43/100\n",
      "391/391 [==============================] - 7s 17ms/step - loss: 0.6106 - acc: 0.7789 - val_loss: 0.5499 - val_acc: 0.8140\n",
      "Epoch 44/100\n",
      "391/391 [==============================] - 7s 18ms/step - loss: 0.6021 - acc: 0.7787 - val_loss: 0.5293 - val_acc: 0.8380\n",
      "Epoch 45/100\n",
      "391/391 [==============================] - 7s 17ms/step - loss: 0.6060 - acc: 0.7800 - val_loss: 0.5269 - val_acc: 0.8360\n",
      "Epoch 46/100\n",
      "391/391 [==============================] - 6s 16ms/step - loss: 0.6052 - acc: 0.7792 - val_loss: 0.5671 - val_acc: 0.8040\n",
      "Epoch 47/100\n",
      "391/391 [==============================] - 6s 16ms/step - loss: 0.6048 - acc: 0.7785 - val_loss: 0.6453 - val_acc: 0.7500\n",
      "Epoch 48/100\n",
      "391/391 [==============================] - 6s 16ms/step - loss: 0.6022 - acc: 0.7786 - val_loss: 0.5413 - val_acc: 0.8200\n",
      "Epoch 49/100\n",
      "391/391 [==============================] - 6s 15ms/step - loss: 0.6002 - acc: 0.7796 - val_loss: 0.5274 - val_acc: 0.8160\n",
      "Epoch 50/100\n",
      "391/391 [==============================] - 6s 15ms/step - loss: 0.5992 - acc: 0.7810 - val_loss: 0.5650 - val_acc: 0.8080\n",
      "Epoch 51/100\n",
      "391/391 [==============================] - 6s 15ms/step - loss: 0.5993 - acc: 0.7795 - val_loss: 0.5488 - val_acc: 0.7980\n",
      "Epoch 52/100\n",
      "391/391 [==============================] - 6s 15ms/step - loss: 0.5954 - acc: 0.7799 - val_loss: 0.6284 - val_acc: 0.7880\n",
      "Epoch 53/100\n",
      "391/391 [==============================] - 6s 15ms/step - loss: 0.5930 - acc: 0.7812 - val_loss: 0.5498 - val_acc: 0.8060\n",
      "Epoch 54/100\n",
      "391/391 [==============================] - 6s 15ms/step - loss: 0.5938 - acc: 0.7815 - val_loss: 0.5437 - val_acc: 0.8180\n",
      "Epoch 55/100\n",
      "391/391 [==============================] - 6s 15ms/step - loss: 0.5935 - acc: 0.7811 - val_loss: 0.5397 - val_acc: 0.8240\n",
      "Epoch 56/100\n",
      "391/391 [==============================] - 6s 15ms/step - loss: 0.5889 - acc: 0.7815 - val_loss: 0.5575 - val_acc: 0.8060\n",
      "Epoch 57/100\n",
      "391/391 [==============================] - 6s 15ms/step - loss: 0.5906 - acc: 0.7804 - val_loss: 0.5282 - val_acc: 0.8260\n",
      "Epoch 58/100\n",
      "391/391 [==============================] - 6s 16ms/step - loss: 0.5880 - acc: 0.7803 - val_loss: 0.5438 - val_acc: 0.8240\n",
      "Epoch 59/100\n",
      "391/391 [==============================] - 7s 17ms/step - loss: 0.5891 - acc: 0.7821 - val_loss: 0.5267 - val_acc: 0.8080\n",
      "Epoch 60/100\n",
      "391/391 [==============================] - 8s 20ms/step - loss: 0.5839 - acc: 0.7823 - val_loss: 0.5459 - val_acc: 0.8040ss: 0.5852 -  - ETA: 3s - loss: 0.5795 - \n",
      "Epoch 61/100\n",
      "391/391 [==============================] - 8s 20ms/step - loss: 0.5865 - acc: 0.7839 - val_loss: 0.5491 - val_acc: 0.8160\n",
      "Epoch 62/100\n",
      "391/391 [==============================] - 7s 19ms/step - loss: 0.5876 - acc: 0.7810 - val_loss: 0.5393 - val_acc: 0.8120\n",
      "Epoch 63/100\n",
      "391/391 [==============================] - 7s 17ms/step - loss: 0.5861 - acc: 0.7815 - val_loss: 0.5373 - val_acc: 0.8100\n",
      "Epoch 64/100\n",
      "391/391 [==============================] - 7s 17ms/step - loss: 0.5869 - acc: 0.7808 - val_loss: 0.5325 - val_acc: 0.8300\n",
      "Epoch 65/100\n",
      "391/391 [==============================] - 7s 17ms/step - loss: 0.5862 - acc: 0.7798 - val_loss: 0.5930 - val_acc: 0.7840\n",
      "Epoch 66/100\n",
      "391/391 [==============================] - 6s 15ms/step - loss: 0.5833 - acc: 0.7826 - val_loss: 0.5445 - val_acc: 0.8080\n",
      "Epoch 67/100\n",
      "391/391 [==============================] - 6s 15ms/step - loss: 0.5839 - acc: 0.7832 - val_loss: 0.5111 - val_acc: 0.8280\n",
      "Epoch 68/100\n",
      "391/391 [==============================] - 8s 21ms/step - loss: 0.5786 - acc: 0.7851 - val_loss: 0.5482 - val_acc: 0.8120\n",
      "Epoch 69/100\n",
      "391/391 [==============================] - 7s 17ms/step - loss: 0.5831 - acc: 0.7808 - val_loss: 0.5488 - val_acc: 0.8060\n",
      "Epoch 70/100\n",
      "391/391 [==============================] - 7s 19ms/step - loss: 0.5838 - acc: 0.7825 - val_loss: 0.5463 - val_acc: 0.8000\n",
      "Epoch 71/100\n",
      "391/391 [==============================] - 6s 16ms/step - loss: 0.5796 - acc: 0.7815 - val_loss: 0.5227 - val_acc: 0.8200\n",
      "Epoch 72/100\n",
      "391/391 [==============================] - 6s 16ms/step - loss: 0.5825 - acc: 0.7824 - val_loss: 0.5127 - val_acc: 0.8140\n",
      "Epoch 73/100\n",
      "391/391 [==============================] - 7s 17ms/step - loss: 0.5826 - acc: 0.7824 - val_loss: 0.5190 - val_acc: 0.8340\n",
      "Epoch 74/100\n",
      "391/391 [==============================] - 7s 19ms/step - loss: 0.5786 - acc: 0.7844 - val_loss: 0.5479 - val_acc: 0.8000\n",
      "Epoch 75/100\n",
      "391/391 [==============================] - 6s 16ms/step - loss: 0.5821 - acc: 0.7828 - val_loss: 0.5207 - val_acc: 0.8160\n",
      "Epoch 76/100\n",
      "391/391 [==============================] - 7s 19ms/step - loss: 0.5742 - acc: 0.7861 - val_loss: 0.5123 - val_acc: 0.8300\n",
      "Epoch 77/100\n",
      "391/391 [==============================] - 7s 19ms/step - loss: 0.5775 - acc: 0.7836 - val_loss: 0.5906 - val_acc: 0.7780\n",
      "Epoch 78/100\n",
      "391/391 [==============================] - 7s 18ms/step - loss: 0.5764 - acc: 0.7832 - val_loss: 0.5329 - val_acc: 0.8240\n",
      "Epoch 79/100\n",
      "391/391 [==============================] - 7s 18ms/step - loss: 0.5761 - acc: 0.7833 - val_loss: 0.5376 - val_acc: 0.8100\n",
      "Epoch 80/100\n",
      "391/391 [==============================] - 6s 16ms/step - loss: 0.5794 - acc: 0.7825 - val_loss: 0.5261 - val_acc: 0.8260\n",
      "Epoch 81/100\n",
      "391/391 [==============================] - 8s 19ms/step - loss: 0.5771 - acc: 0.7834 - val_loss: 0.5277 - val_acc: 0.8080\n",
      "Epoch 82/100\n",
      "391/391 [==============================] - 7s 17ms/step - loss: 0.5810 - acc: 0.7812 - val_loss: 0.5158 - val_acc: 0.8320\n",
      "Epoch 83/100\n",
      "391/391 [==============================] - 6s 16ms/step - loss: 0.5752 - acc: 0.7844 - val_loss: 0.5300 - val_acc: 0.8140\n",
      "Epoch 84/100\n",
      "391/391 [==============================] - 6s 16ms/step - loss: 0.5732 - acc: 0.7849 - val_loss: 0.5104 - val_acc: 0.8400\n",
      "Epoch 85/100\n",
      "391/391 [==============================] - 6s 16ms/step - loss: 0.5777 - acc: 0.7832 - val_loss: 0.5280 - val_acc: 0.8020\n",
      "Epoch 86/100\n",
      "391/391 [==============================] - 6s 15ms/step - loss: 0.5763 - acc: 0.7833 - val_loss: 0.5261 - val_acc: 0.8080\n",
      "Epoch 87/100\n",
      "391/391 [==============================] - 6s 15ms/step - loss: 0.5724 - acc: 0.7838 - val_loss: 0.5085 - val_acc: 0.8220\n",
      "Epoch 88/100\n",
      "391/391 [==============================] - 6s 15ms/step - loss: 0.5735 - acc: 0.7824 - val_loss: 0.5073 - val_acc: 0.8160\n",
      "Epoch 89/100\n",
      "391/391 [==============================] - 6s 15ms/step - loss: 0.5786 - acc: 0.7831 - val_loss: 0.5235 - val_acc: 0.8480\n",
      "Epoch 90/100\n",
      "391/391 [==============================] - 6s 15ms/step - loss: 0.5762 - acc: 0.7840 - val_loss: 0.5628 - val_acc: 0.7840\n",
      "Epoch 91/100\n",
      "391/391 [==============================] - 6s 15ms/step - loss: 0.5748 - acc: 0.7845 - val_loss: 0.5223 - val_acc: 0.8140\n",
      "Epoch 92/100\n",
      "391/391 [==============================] - 6s 15ms/step - loss: 0.5737 - acc: 0.7849 - val_loss: 0.5509 - val_acc: 0.8180\n",
      "Epoch 93/100\n",
      "391/391 [==============================] - 6s 15ms/step - loss: 0.5740 - acc: 0.7838 - val_loss: 0.5975 - val_acc: 0.7840\n",
      "Epoch 94/100\n",
      "391/391 [==============================] - 6s 15ms/step - loss: 0.5746 - acc: 0.7834 - val_loss: 0.5130 - val_acc: 0.8280\n",
      "Epoch 95/100\n",
      "391/391 [==============================] - 6s 15ms/step - loss: 0.5709 - acc: 0.7863 - val_loss: 0.5472 - val_acc: 0.8020\n",
      "Epoch 96/100\n",
      "391/391 [==============================] - 6s 16ms/step - loss: 0.5744 - acc: 0.7838 - val_loss: 0.5061 - val_acc: 0.8140\n",
      "Epoch 97/100\n",
      "391/391 [==============================] - 6s 16ms/step - loss: 0.5741 - acc: 0.7837 - val_loss: 0.5394 - val_acc: 0.8000\n",
      "Epoch 98/100\n",
      "391/391 [==============================] - 7s 19ms/step - loss: 0.5735 - acc: 0.7839 - val_loss: 0.5667 - val_acc: 0.7880\n",
      "Epoch 99/100\n",
      "391/391 [==============================] - 7s 18ms/step - loss: 0.5710 - acc: 0.7847 - val_loss: 0.5116 - val_acc: 0.8120\n",
      "Epoch 100/100\n",
      "391/391 [==============================] - 7s 18ms/step - loss: 0.5704 - acc: 0.7847 - val_loss: 0.5334 - val_acc: 0.8080\n"
     ]
    }
   ],
   "source": [
    "history = model.fit(\n",
    "    xtrain_gen,\n",
    "    epochs=100, \n",
    "    validation_data=xvalidation_gen\n",
    ")"
   ]
  },
  {
   "cell_type": "code",
   "execution_count": 9,
   "metadata": {},
   "outputs": [
    {
     "name": "stdout",
     "output_type": "stream",
     "text": [
      "500/500 - 0s - loss: 0.5343 - acc: 0.8080\n",
      "\n",
      "Точность на проверочных данных: 0.808\n"
     ]
    }
   ],
   "source": [
    "test_loss, test_acc = model.evaluate(x_test, y_test, verbose=2)\n",
    "\n",
    "print('\\nТочность на проверочных данных:', test_acc)"
   ]
  },
  {
   "cell_type": "code",
   "execution_count": 10,
   "metadata": {},
   "outputs": [],
   "source": [
    "def show_loss(history):\n",
    "    loss = history.history['loss']\n",
    "    val_loss = history.history['val_loss']\n",
    "    epochs = range(1, len(loss) + 1)\n",
    "    plt.plot(epochs, loss, 'bo', label='Training loss')\n",
    "    plt.plot(epochs, val_loss, 'b', label='Validation loss')\n",
    "    plt.xlabel('Epochs')\n",
    "    plt.ylabel('Loss')\n",
    "    plt.legend(['Train', 'Test'], loc='upper left')\n",
    "\n",
    "    plt.show()\n",
    "\n",
    "    plt.plot(history.history['acc'])\n",
    "    plt.plot(history.history['val_acc'])\n",
    "    plt.title('Model accuracy')\n",
    "    plt.ylabel('Accuracy')\n",
    "    plt.xlabel('Epoch')\n",
    "    plt.legend(['Train', 'Test'], loc='upper left')\n",
    "    plt.show()"
   ]
  },
  {
   "cell_type": "code",
   "execution_count": 11,
   "metadata": {},
   "outputs": [
    {
     "data": {
      "image/png": "[encoded data removed]",
      "text/plain": [
       "<Figure size 432x288 with 1 Axes>"
      ]
     },
     "metadata": {
      "needs_background": "light"
     },
     "output_type": "display_data"
    },
    {
     "data": {
      "image/png": "[encoded data removed]",
      "text/plain": [
       "<Figure size 432x288 with 1 Axes>"
      ]
     },
     "metadata": {
      "needs_background": "light"
     },
     "output_type": "display_data"
    }
   ],
   "source": [
    "show_loss(history)"
   ]
  },
  {
   "cell_type": "code",
   "execution_count": 12,
   "metadata": {},
   "outputs": [],
   "source": [
    "import itertools\n",
    "def plot_confusion_matrix(cm, class_names):\n",
    "  \"\"\"\n",
    "  Returns a matplotlib figure containing the plotted confusion matrix.\n",
    "\n",
    "  Args:\n",
    "    cm (array, shape = [n, n]): a confusion matrix of integer classes\n",
    "    class_names (array, shape = [n]): String names of the integer classes\n",
    "  \"\"\"\n",
    "  figure = plt.figure(figsize=(8, 8))\n",
    "  plt.imshow(cm, interpolation='nearest', cmap=plt.cm.Blues)\n",
    "  plt.title(\"Confusion matrix\")\n",
    "  plt.colorbar()\n",
    "  tick_marks = np.arange(len(class_names))\n",
    "  plt.xticks(tick_marks, class_names, rotation=45)\n",
    "  plt.yticks(tick_marks, class_names)\n",
    "\n",
    "  # Normalize the confusion matrix.\n",
    "  cm = np.around(cm.astype('float') / cm.sum(axis=1)[:, np.newaxis], decimals=2)\n",
    "\n",
    "  # Use white text if squares are dark; otherwise black.\n",
    "  threshold = cm.max() / 2.\n",
    "  for i, j in itertools.product(range(cm.shape[0]), range(cm.shape[1])):\n",
    "    color = \"white\" if cm[i, j] > threshold else \"black\"\n",
    "    plt.text(j, i, cm[i, j], horizontalalignment=\"center\", color=color)\n",
    "\n",
    "  plt.tight_layout()\n",
    "  plt.ylabel('True label')\n",
    "  plt.xlabel('Predicted label')\n",
    "  return figure"
   ]
  },
  {
   "cell_type": "code",
   "execution_count": 13,
   "metadata": {},
   "outputs": [
    {
     "data": {
      "text/plain": [
       "(500, 5)"
      ]
     },
     "execution_count": 13,
     "metadata": {},
     "output_type": "execute_result"
    }
   ],
   "source": [
    "y_pred = model.predict(x_test)\n",
    "y_pred.shape"
   ]
  },
  {
   "cell_type": "code",
   "execution_count": 14,
   "metadata": {},
   "outputs": [],
   "source": [
    "con_mat = metrics.confusion_matrix(y_test, y_pred.argmax(axis=1))"
   ]
  },
  {
   "cell_type": "code",
   "execution_count": 15,
   "metadata": {},
   "outputs": [
    {
     "data": {
      "image/png": "[encoded data removed]",
      "text/plain": [
       "<Figure size 576x576 with 2 Axes>"
      ]
     },
     "execution_count": 15,
     "metadata": {},
     "output_type": "execute_result"
    },
    {
     "data": {
      "image/png": "[encoded data removed]",
      "text/plain": [
       "<Figure size 576x576 with 2 Axes>"
      ]
     },
     "metadata": {
      "needs_background": "light"
     },
     "output_type": "display_data"
    }
   ],
   "source": [
    "plot_confusion_matrix(con_mat, ['1', '2', '3', '4', '5'])"
   ]
  },
  {
   "cell_type": "code",
   "execution_count": null,
   "metadata": {},
   "outputs": [],
   "source": []
  }
 ],
 "metadata": {
  "kernelspec": {
   "display_name": "Python 3",
   "language": "python",
   "name": "python3"
  },
  "language_info": {
   "codemirror_mode": {
    "name": "ipython",
    "version": 3
   },
   "file_extension": ".py",
   "mimetype": "text/x-python",
   "name": "python",
   "nbconvert_exporter": "python",
   "pygments_lexer": "ipython3",
   "version": "3.7.7"
  }
 },
 "nbformat": 4,
 "nbformat_minor": 4
}
